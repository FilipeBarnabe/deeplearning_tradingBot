{
 "cells": [
  {
   "cell_type": "code",
   "execution_count": 1,
   "metadata": {},
   "outputs": [],
   "source": [
    "# !pip install yfinance\n",
    "# !pip install pandas-datareader"
   ]
  },
  {
   "cell_type": "code",
   "execution_count": 2,
   "metadata": {},
   "outputs": [
    {
     "name": "stderr",
     "output_type": "stream",
     "text": [
      "c:\\Program Files\\Python37\\lib\\site-packages\\tqdm\\auto.py:22: TqdmWarning: IProgress not found. Please update jupyter and ipywidgets. See https://ipywidgets.readthedocs.io/en/stable/user_install.html\n",
      "  from .autonotebook import tqdm as notebook_tqdm\n"
     ]
    }
   ],
   "source": [
    "import pandas as pd\n",
    "from pandas_datareader import data\n",
    "# import yfinance as yf\n",
    "# pd.options.mode.chained_assignment = None\n",
    "import matplotlib.pyplot as plt\n",
    "import seaborn as sns\n",
    "# import os\n",
    "import random\n",
    "\n",
    "import torch\n",
    "# import matplotlib as mpl\n",
    "# import matplotlib.pyplot as plt\n",
    "import numpy as np\n",
    "# import pandas as pd\n",
    "# pd.options.mode.chained_assignment = None\n",
    "# import seaborn as sns\n",
    "from tqdm import tqdm"
   ]
  },
  {
   "cell_type": "code",
   "execution_count": 3,
   "metadata": {},
   "outputs": [],
   "source": [
    "# msft = yf.Ticker(\"MSFT\")\n",
    "# print(msft.info)\n",
    "# print(msft.stats())"
   ]
  },
  {
   "cell_type": "code",
   "execution_count": 40,
   "metadata": {},
   "outputs": [
    {
     "data": {
      "text/html": [
       "<div>\n",
       "<style scoped>\n",
       "    .dataframe tbody tr th:only-of-type {\n",
       "        vertical-align: middle;\n",
       "    }\n",
       "\n",
       "    .dataframe tbody tr th {\n",
       "        vertical-align: top;\n",
       "    }\n",
       "\n",
       "    .dataframe thead th {\n",
       "        text-align: right;\n",
       "    }\n",
       "</style>\n",
       "<table border=\"1\" class=\"dataframe\">\n",
       "  <thead>\n",
       "    <tr style=\"text-align: right;\">\n",
       "      <th></th>\n",
       "      <th>Date</th>\n",
       "      <th>High</th>\n",
       "      <th>Low</th>\n",
       "      <th>Open</th>\n",
       "      <th>Close</th>\n",
       "      <th>Volume</th>\n",
       "      <th>Adj Close</th>\n",
       "    </tr>\n",
       "  </thead>\n",
       "  <tbody>\n",
       "    <tr>\n",
       "      <th>0</th>\n",
       "      <td>2004-08-19</td>\n",
       "      <td>2.604104</td>\n",
       "      <td>2.401401</td>\n",
       "      <td>2.502503</td>\n",
       "      <td>2.511011</td>\n",
       "      <td>893181924.0</td>\n",
       "      <td>2.511011</td>\n",
       "    </tr>\n",
       "    <tr>\n",
       "      <th>1</th>\n",
       "      <td>2004-08-20</td>\n",
       "      <td>2.729730</td>\n",
       "      <td>2.515015</td>\n",
       "      <td>2.527778</td>\n",
       "      <td>2.710460</td>\n",
       "      <td>456686856.0</td>\n",
       "      <td>2.710460</td>\n",
       "    </tr>\n",
       "    <tr>\n",
       "      <th>2</th>\n",
       "      <td>2004-08-21</td>\n",
       "      <td>2.729730</td>\n",
       "      <td>2.515015</td>\n",
       "      <td>2.527778</td>\n",
       "      <td>2.710460</td>\n",
       "      <td>456686856.0</td>\n",
       "      <td>2.710460</td>\n",
       "    </tr>\n",
       "    <tr>\n",
       "      <th>3</th>\n",
       "      <td>2004-08-22</td>\n",
       "      <td>2.729730</td>\n",
       "      <td>2.515015</td>\n",
       "      <td>2.527778</td>\n",
       "      <td>2.710460</td>\n",
       "      <td>456686856.0</td>\n",
       "      <td>2.710460</td>\n",
       "    </tr>\n",
       "    <tr>\n",
       "      <th>4</th>\n",
       "      <td>2004-08-23</td>\n",
       "      <td>2.839840</td>\n",
       "      <td>2.728979</td>\n",
       "      <td>2.771522</td>\n",
       "      <td>2.737738</td>\n",
       "      <td>365122512.0</td>\n",
       "      <td>2.737738</td>\n",
       "    </tr>\n",
       "    <tr>\n",
       "      <th>5</th>\n",
       "      <td>2004-08-24</td>\n",
       "      <td>2.792793</td>\n",
       "      <td>2.591842</td>\n",
       "      <td>2.783784</td>\n",
       "      <td>2.624374</td>\n",
       "      <td>304946748.0</td>\n",
       "      <td>2.624374</td>\n",
       "    </tr>\n",
       "    <tr>\n",
       "      <th>6</th>\n",
       "      <td>2004-08-25</td>\n",
       "      <td>2.702703</td>\n",
       "      <td>2.599600</td>\n",
       "      <td>2.626627</td>\n",
       "      <td>2.652653</td>\n",
       "      <td>183772044.0</td>\n",
       "      <td>2.652653</td>\n",
       "    </tr>\n",
       "    <tr>\n",
       "      <th>7</th>\n",
       "      <td>2004-08-26</td>\n",
       "      <td>2.701451</td>\n",
       "      <td>2.619119</td>\n",
       "      <td>2.626376</td>\n",
       "      <td>2.700450</td>\n",
       "      <td>141897960.0</td>\n",
       "      <td>2.700450</td>\n",
       "    </tr>\n",
       "    <tr>\n",
       "      <th>8</th>\n",
       "      <td>2004-08-27</td>\n",
       "      <td>2.718218</td>\n",
       "      <td>2.644895</td>\n",
       "      <td>2.705205</td>\n",
       "      <td>2.656406</td>\n",
       "      <td>124235640.0</td>\n",
       "      <td>2.656406</td>\n",
       "    </tr>\n",
       "    <tr>\n",
       "      <th>9</th>\n",
       "      <td>2004-08-28</td>\n",
       "      <td>2.718218</td>\n",
       "      <td>2.644895</td>\n",
       "      <td>2.705205</td>\n",
       "      <td>2.656406</td>\n",
       "      <td>124235640.0</td>\n",
       "      <td>2.656406</td>\n",
       "    </tr>\n",
       "    <tr>\n",
       "      <th>10</th>\n",
       "      <td>2004-08-29</td>\n",
       "      <td>2.718218</td>\n",
       "      <td>2.644895</td>\n",
       "      <td>2.705205</td>\n",
       "      <td>2.656406</td>\n",
       "      <td>124235640.0</td>\n",
       "      <td>2.656406</td>\n",
       "    </tr>\n",
       "    <tr>\n",
       "      <th>11</th>\n",
       "      <td>2004-08-30</td>\n",
       "      <td>2.639890</td>\n",
       "      <td>2.552803</td>\n",
       "      <td>2.634635</td>\n",
       "      <td>2.552803</td>\n",
       "      <td>103935960.0</td>\n",
       "      <td>2.552803</td>\n",
       "    </tr>\n",
       "    <tr>\n",
       "      <th>12</th>\n",
       "      <td>2004-08-31</td>\n",
       "      <td>2.595345</td>\n",
       "      <td>2.556557</td>\n",
       "      <td>2.560060</td>\n",
       "      <td>2.561812</td>\n",
       "      <td>98357544.0</td>\n",
       "      <td>2.561812</td>\n",
       "    </tr>\n",
       "    <tr>\n",
       "      <th>13</th>\n",
       "      <td>2004-09-01</td>\n",
       "      <td>2.576827</td>\n",
       "      <td>2.494244</td>\n",
       "      <td>2.570070</td>\n",
       "      <td>2.508759</td>\n",
       "      <td>182765052.0</td>\n",
       "      <td>2.508759</td>\n",
       "    </tr>\n",
       "    <tr>\n",
       "      <th>14</th>\n",
       "      <td>2004-09-02</td>\n",
       "      <td>2.561812</td>\n",
       "      <td>2.475976</td>\n",
       "      <td>2.482232</td>\n",
       "      <td>2.540290</td>\n",
       "      <td>302373324.0</td>\n",
       "      <td>2.540290</td>\n",
       "    </tr>\n",
       "    <tr>\n",
       "      <th>15</th>\n",
       "      <td>2004-09-03</td>\n",
       "      <td>2.546046</td>\n",
       "      <td>2.485485</td>\n",
       "      <td>2.526276</td>\n",
       "      <td>2.502753</td>\n",
       "      <td>103048848.0</td>\n",
       "      <td>2.502753</td>\n",
       "    </tr>\n",
       "    <tr>\n",
       "      <th>16</th>\n",
       "      <td>2004-09-04</td>\n",
       "      <td>2.546046</td>\n",
       "      <td>2.485485</td>\n",
       "      <td>2.526276</td>\n",
       "      <td>2.502753</td>\n",
       "      <td>103048848.0</td>\n",
       "      <td>2.502753</td>\n",
       "    </tr>\n",
       "    <tr>\n",
       "      <th>17</th>\n",
       "      <td>2004-09-05</td>\n",
       "      <td>2.546046</td>\n",
       "      <td>2.485485</td>\n",
       "      <td>2.526276</td>\n",
       "      <td>2.502753</td>\n",
       "      <td>103048848.0</td>\n",
       "      <td>2.502753</td>\n",
       "    </tr>\n",
       "    <tr>\n",
       "      <th>18</th>\n",
       "      <td>2004-09-06</td>\n",
       "      <td>2.546046</td>\n",
       "      <td>2.485485</td>\n",
       "      <td>2.526276</td>\n",
       "      <td>2.502753</td>\n",
       "      <td>103048848.0</td>\n",
       "      <td>2.502753</td>\n",
       "    </tr>\n",
       "    <tr>\n",
       "      <th>19</th>\n",
       "      <td>2004-09-07</td>\n",
       "      <td>2.552553</td>\n",
       "      <td>2.492743</td>\n",
       "      <td>2.527778</td>\n",
       "      <td>2.542042</td>\n",
       "      <td>116950932.0</td>\n",
       "      <td>2.542042</td>\n",
       "    </tr>\n",
       "  </tbody>\n",
       "</table>\n",
       "</div>"
      ],
      "text/plain": [
       "         Date      High       Low      Open     Close       Volume  Adj Close\n",
       "0  2004-08-19  2.604104  2.401401  2.502503  2.511011  893181924.0   2.511011\n",
       "1  2004-08-20  2.729730  2.515015  2.527778  2.710460  456686856.0   2.710460\n",
       "2  2004-08-21  2.729730  2.515015  2.527778  2.710460  456686856.0   2.710460\n",
       "3  2004-08-22  2.729730  2.515015  2.527778  2.710460  456686856.0   2.710460\n",
       "4  2004-08-23  2.839840  2.728979  2.771522  2.737738  365122512.0   2.737738\n",
       "5  2004-08-24  2.792793  2.591842  2.783784  2.624374  304946748.0   2.624374\n",
       "6  2004-08-25  2.702703  2.599600  2.626627  2.652653  183772044.0   2.652653\n",
       "7  2004-08-26  2.701451  2.619119  2.626376  2.700450  141897960.0   2.700450\n",
       "8  2004-08-27  2.718218  2.644895  2.705205  2.656406  124235640.0   2.656406\n",
       "9  2004-08-28  2.718218  2.644895  2.705205  2.656406  124235640.0   2.656406\n",
       "10 2004-08-29  2.718218  2.644895  2.705205  2.656406  124235640.0   2.656406\n",
       "11 2004-08-30  2.639890  2.552803  2.634635  2.552803  103935960.0   2.552803\n",
       "12 2004-08-31  2.595345  2.556557  2.560060  2.561812   98357544.0   2.561812\n",
       "13 2004-09-01  2.576827  2.494244  2.570070  2.508759  182765052.0   2.508759\n",
       "14 2004-09-02  2.561812  2.475976  2.482232  2.540290  302373324.0   2.540290\n",
       "15 2004-09-03  2.546046  2.485485  2.526276  2.502753  103048848.0   2.502753\n",
       "16 2004-09-04  2.546046  2.485485  2.526276  2.502753  103048848.0   2.502753\n",
       "17 2004-09-05  2.546046  2.485485  2.526276  2.502753  103048848.0   2.502753\n",
       "18 2004-09-06  2.546046  2.485485  2.526276  2.502753  103048848.0   2.502753\n",
       "19 2004-09-07  2.552553  2.492743  2.527778  2.542042  116950932.0   2.542042"
      ]
     },
     "execution_count": 40,
     "metadata": {},
     "output_type": "execute_result"
    }
   ],
   "source": [
    "# Define the instruments to download. We would like to see Apple, Microsoft and the S&P500 index.\n",
    "tickers = ['^GSPC', 'APPL', 'MSFT']\n",
    "\n",
    "# We would like all available data from 01/01/2000 until 12/31/2016.\n",
    "start_date = '2000-01-01'  # '2014-01-01'  # 2012-10-21\n",
    "end_date = '2022-11-22'  # '2014-10-20'  # 2022\n",
    "\n",
    "# User pandas_reader.data.DataReader to load the desired data. As simple as that.\n",
    "panel_data = data.DataReader('GOOGL', 'yahoo', start_date, end_date)\n",
    "\n",
    "# Resample the data to normalize it, the data comes without any data on the (days that the markets are close, weekends)\n",
    "panel_data = panel_data.resample(\"D\").max()\n",
    "\n",
    "# Fill the data in the closed markets with the data from the previous trading day, because it is their true value\n",
    "panel_data = panel_data.fillna(method=\"ffill\")\n",
    "\n",
    "panel_data[panel_data.index.name] = panel_data.index\n",
    "panel_data.index.name = None\n",
    "panel_data = panel_data[['Date', 'High', 'Low', 'Open', 'Close', 'Volume', 'Adj Close']]\n",
    "panel_data.reset_index(drop=True, inplace=True)\n",
    "\n",
    "panel_data.head(20)"
   ]
  },
  {
   "cell_type": "code",
   "execution_count": 5,
   "metadata": {},
   "outputs": [],
   "source": [
    "# panel_data.drop(columns=['Volume'], axis=1, inplace=True)\n",
    "# panel_data"
   ]
  },
  {
   "cell_type": "code",
   "execution_count": 6,
   "metadata": {},
   "outputs": [],
   "source": [
    "# panel_data.tail(10)"
   ]
  },
  {
   "cell_type": "code",
   "execution_count": 41,
   "metadata": {},
   "outputs": [],
   "source": [
    "date = pd.to_datetime(panel_data.pop('Date'), format='%Y-%m-%d')"
   ]
  },
  {
   "cell_type": "code",
   "execution_count": 8,
   "metadata": {},
   "outputs": [],
   "source": [
    "# introduzir datas em falta com valores nos dias em falta"
   ]
  },
  {
   "cell_type": "code",
   "execution_count": 42,
   "metadata": {},
   "outputs": [
    {
     "data": {
      "image/png": "[encoded data removed]",
      "text/plain": [
       "<Figure size 432x288 with 6 Axes>"
      ]
     },
     "metadata": {
      "needs_background": "light"
     },
     "output_type": "display_data"
    }
   ],
   "source": [
    "plot_cols = ['High', 'Low', 'Open', 'Close', 'Volume', 'Adj Close']\n",
    "# plot_cols = ['High', 'Low', 'Open', 'Close', 'Adj Close']\n",
    "plot_features = panel_data[plot_cols]\n",
    "plot_features.index = date\n",
    "_ = plot_features.plot(subplots=True)\n",
    "\n",
    "# plot_features = panel_data[plot_cols][:480]\n",
    "# plot_features.index = date[:480]\n",
    "# _ = plot_features.plot(subplots=True)"
   ]
  },
  {
   "cell_type": "code",
   "execution_count": 10,
   "metadata": {},
   "outputs": [],
   "source": [
    "# panel_data.plot(y=\"High\")"
   ]
  },
  {
   "cell_type": "code",
   "execution_count": 43,
   "metadata": {},
   "outputs": [
    {
     "data": {
      "text/html": [
       "<div>\n",
       "<style scoped>\n",
       "    .dataframe tbody tr th:only-of-type {\n",
       "        vertical-align: middle;\n",
       "    }\n",
       "\n",
       "    .dataframe tbody tr th {\n",
       "        vertical-align: top;\n",
       "    }\n",
       "\n",
       "    .dataframe thead th {\n",
       "        text-align: right;\n",
       "    }\n",
       "</style>\n",
       "<table border=\"1\" class=\"dataframe\">\n",
       "  <thead>\n",
       "    <tr style=\"text-align: right;\">\n",
       "      <th></th>\n",
       "      <th>count</th>\n",
       "      <th>mean</th>\n",
       "      <th>std</th>\n",
       "      <th>min</th>\n",
       "      <th>25%</th>\n",
       "      <th>50%</th>\n",
       "      <th>75%</th>\n",
       "      <th>max</th>\n",
       "    </tr>\n",
       "  </thead>\n",
       "  <tbody>\n",
       "    <tr>\n",
       "      <th>High</th>\n",
       "      <td>6670.0</td>\n",
       "      <td>3.779209e+01</td>\n",
       "      <td>3.516808e+01</td>\n",
       "      <td>2.546046e+00</td>\n",
       "      <td>1.273774e+01</td>\n",
       "      <td>2.286011e+01</td>\n",
       "      <td>5.424550e+01</td>\n",
       "      <td>1.515465e+02</td>\n",
       "    </tr>\n",
       "    <tr>\n",
       "      <th>Low</th>\n",
       "      <td>6670.0</td>\n",
       "      <td>3.702673e+01</td>\n",
       "      <td>3.440541e+01</td>\n",
       "      <td>2.401401e+00</td>\n",
       "      <td>1.246115e+01</td>\n",
       "      <td>2.254304e+01</td>\n",
       "      <td>5.300450e+01</td>\n",
       "      <td>1.488990e+02</td>\n",
       "    </tr>\n",
       "    <tr>\n",
       "      <th>Open</th>\n",
       "      <td>6670.0</td>\n",
       "      <td>3.742670e+01</td>\n",
       "      <td>3.480085e+01</td>\n",
       "      <td>2.482232e+00</td>\n",
       "      <td>1.262844e+01</td>\n",
       "      <td>2.277327e+01</td>\n",
       "      <td>5.361150e+01</td>\n",
       "      <td>1.512500e+02</td>\n",
       "    </tr>\n",
       "    <tr>\n",
       "      <th>Close</th>\n",
       "      <td>6670.0</td>\n",
       "      <td>3.741410e+01</td>\n",
       "      <td>3.479417e+01</td>\n",
       "      <td>2.502753e+00</td>\n",
       "      <td>1.263670e+01</td>\n",
       "      <td>2.275225e+01</td>\n",
       "      <td>5.360037e+01</td>\n",
       "      <td>1.498385e+02</td>\n",
       "    </tr>\n",
       "    <tr>\n",
       "      <th>Volume</th>\n",
       "      <td>6670.0</td>\n",
       "      <td>1.261728e+08</td>\n",
       "      <td>1.546711e+08</td>\n",
       "      <td>9.312000e+06</td>\n",
       "      <td>3.368200e+07</td>\n",
       "      <td>7.236578e+07</td>\n",
       "      <td>1.540468e+08</td>\n",
       "      <td>1.643023e+09</td>\n",
       "    </tr>\n",
       "    <tr>\n",
       "      <th>Adj Close</th>\n",
       "      <td>6670.0</td>\n",
       "      <td>3.741410e+01</td>\n",
       "      <td>3.479417e+01</td>\n",
       "      <td>2.502753e+00</td>\n",
       "      <td>1.263670e+01</td>\n",
       "      <td>2.275225e+01</td>\n",
       "      <td>5.360037e+01</td>\n",
       "      <td>1.498385e+02</td>\n",
       "    </tr>\n",
       "  </tbody>\n",
       "</table>\n",
       "</div>"
      ],
      "text/plain": [
       "            count          mean           std           min           25%  \\\n",
       "High       6670.0  3.779209e+01  3.516808e+01  2.546046e+00  1.273774e+01   \n",
       "Low        6670.0  3.702673e+01  3.440541e+01  2.401401e+00  1.246115e+01   \n",
       "Open       6670.0  3.742670e+01  3.480085e+01  2.482232e+00  1.262844e+01   \n",
       "Close      6670.0  3.741410e+01  3.479417e+01  2.502753e+00  1.263670e+01   \n",
       "Volume     6670.0  1.261728e+08  1.546711e+08  9.312000e+06  3.368200e+07   \n",
       "Adj Close  6670.0  3.741410e+01  3.479417e+01  2.502753e+00  1.263670e+01   \n",
       "\n",
       "                    50%           75%           max  \n",
       "High       2.286011e+01  5.424550e+01  1.515465e+02  \n",
       "Low        2.254304e+01  5.300450e+01  1.488990e+02  \n",
       "Open       2.277327e+01  5.361150e+01  1.512500e+02  \n",
       "Close      2.275225e+01  5.360037e+01  1.498385e+02  \n",
       "Volume     7.236578e+07  1.540468e+08  1.643023e+09  \n",
       "Adj Close  2.275225e+01  5.360037e+01  1.498385e+02  "
      ]
     },
     "execution_count": 43,
     "metadata": {},
     "output_type": "execute_result"
    }
   ],
   "source": [
    "panel_data.describe().transpose()"
   ]
  },
  {
   "cell_type": "code",
   "execution_count": 44,
   "metadata": {},
   "outputs": [
    {
     "data": {
      "text/html": [
       "<div>\n",
       "<style scoped>\n",
       "    .dataframe tbody tr th:only-of-type {\n",
       "        vertical-align: middle;\n",
       "    }\n",
       "\n",
       "    .dataframe tbody tr th {\n",
       "        vertical-align: top;\n",
       "    }\n",
       "\n",
       "    .dataframe thead th {\n",
       "        text-align: right;\n",
       "    }\n",
       "</style>\n",
       "<table border=\"1\" class=\"dataframe\">\n",
       "  <thead>\n",
       "    <tr style=\"text-align: right;\">\n",
       "      <th></th>\n",
       "      <th>High</th>\n",
       "      <th>Low</th>\n",
       "      <th>Open</th>\n",
       "      <th>Close</th>\n",
       "      <th>Adj Close</th>\n",
       "    </tr>\n",
       "  </thead>\n",
       "  <tbody>\n",
       "    <tr>\n",
       "      <th>0</th>\n",
       "      <td>2.604104</td>\n",
       "      <td>2.401401</td>\n",
       "      <td>2.502503</td>\n",
       "      <td>2.511011</td>\n",
       "      <td>2.511011</td>\n",
       "    </tr>\n",
       "    <tr>\n",
       "      <th>1</th>\n",
       "      <td>2.729730</td>\n",
       "      <td>2.515015</td>\n",
       "      <td>2.527778</td>\n",
       "      <td>2.710460</td>\n",
       "      <td>2.710460</td>\n",
       "    </tr>\n",
       "    <tr>\n",
       "      <th>2</th>\n",
       "      <td>2.729730</td>\n",
       "      <td>2.515015</td>\n",
       "      <td>2.527778</td>\n",
       "      <td>2.710460</td>\n",
       "      <td>2.710460</td>\n",
       "    </tr>\n",
       "    <tr>\n",
       "      <th>3</th>\n",
       "      <td>2.729730</td>\n",
       "      <td>2.515015</td>\n",
       "      <td>2.527778</td>\n",
       "      <td>2.710460</td>\n",
       "      <td>2.710460</td>\n",
       "    </tr>\n",
       "    <tr>\n",
       "      <th>4</th>\n",
       "      <td>2.839840</td>\n",
       "      <td>2.728979</td>\n",
       "      <td>2.771522</td>\n",
       "      <td>2.737738</td>\n",
       "      <td>2.737738</td>\n",
       "    </tr>\n",
       "    <tr>\n",
       "      <th>...</th>\n",
       "      <td>...</td>\n",
       "      <td>...</td>\n",
       "      <td>...</td>\n",
       "      <td>...</td>\n",
       "      <td>...</td>\n",
       "    </tr>\n",
       "    <tr>\n",
       "      <th>6665</th>\n",
       "      <td>98.900002</td>\n",
       "      <td>96.370003</td>\n",
       "      <td>98.769997</td>\n",
       "      <td>97.430000</td>\n",
       "      <td>97.430000</td>\n",
       "    </tr>\n",
       "    <tr>\n",
       "      <th>6666</th>\n",
       "      <td>98.900002</td>\n",
       "      <td>96.370003</td>\n",
       "      <td>98.769997</td>\n",
       "      <td>97.430000</td>\n",
       "      <td>97.430000</td>\n",
       "    </tr>\n",
       "    <tr>\n",
       "      <th>6667</th>\n",
       "      <td>98.900002</td>\n",
       "      <td>96.370003</td>\n",
       "      <td>98.769997</td>\n",
       "      <td>97.430000</td>\n",
       "      <td>97.430000</td>\n",
       "    </tr>\n",
       "    <tr>\n",
       "      <th>6668</th>\n",
       "      <td>98.400002</td>\n",
       "      <td>95.360001</td>\n",
       "      <td>97.290001</td>\n",
       "      <td>95.599998</td>\n",
       "      <td>95.599998</td>\n",
       "    </tr>\n",
       "    <tr>\n",
       "      <th>6669</th>\n",
       "      <td>97.220001</td>\n",
       "      <td>94.050003</td>\n",
       "      <td>95.949997</td>\n",
       "      <td>97.050003</td>\n",
       "      <td>97.050003</td>\n",
       "    </tr>\n",
       "  </tbody>\n",
       "</table>\n",
       "<p>6670 rows × 5 columns</p>\n",
       "</div>"
      ],
      "text/plain": [
       "           High        Low       Open      Close  Adj Close\n",
       "0      2.604104   2.401401   2.502503   2.511011   2.511011\n",
       "1      2.729730   2.515015   2.527778   2.710460   2.710460\n",
       "2      2.729730   2.515015   2.527778   2.710460   2.710460\n",
       "3      2.729730   2.515015   2.527778   2.710460   2.710460\n",
       "4      2.839840   2.728979   2.771522   2.737738   2.737738\n",
       "...         ...        ...        ...        ...        ...\n",
       "6665  98.900002  96.370003  98.769997  97.430000  97.430000\n",
       "6666  98.900002  96.370003  98.769997  97.430000  97.430000\n",
       "6667  98.900002  96.370003  98.769997  97.430000  97.430000\n",
       "6668  98.400002  95.360001  97.290001  95.599998  95.599998\n",
       "6669  97.220001  94.050003  95.949997  97.050003  97.050003\n",
       "\n",
       "[6670 rows x 5 columns]"
      ]
     },
     "execution_count": 44,
     "metadata": {},
     "output_type": "execute_result"
    }
   ],
   "source": [
    "panel_data.drop(columns=['Volume'], axis=1, inplace=True)\n",
    "panel_data"
   ]
  },
  {
   "cell_type": "markdown",
   "metadata": {},
   "source": [
    "# LSTM"
   ]
  },
  {
   "cell_type": "code",
   "execution_count": 12,
   "metadata": {},
   "outputs": [],
   "source": [
    "# Remove invalid values / Outliers\n",
    "# vol = panel_data['Volume']\n",
    "# out_vol = (vol == 52070.0)\n",
    "# vol[out_vol] = 0.0\n",
    "# out_vol = (vol == 39057.0)\n",
    "# vol[out_vol] = 0.0\n",
    "# out_vol = (vol == 16682.0)\n",
    "# vol[out_vol] = 0.0\n",
    "# out_vol = (vol == 14627.0)\n",
    "# vol[out_vol] = 0.0\n",
    "# out_vol = (vol == 13000.0)\n",
    "# vol[out_vol] = 0.0\n",
    "# out_vol = (vol == 12341.0)\n",
    "# vol[out_vol] = 0.0\n",
    "# out_vol = (vol == 10000.0)\n",
    "# vol[out_vol] = 0.0\n",
    "# out_vol = (vol == 3826.0)\n",
    "# vol[out_vol] = 0.0\n",
    "# out_vol = (vol == 3800.0)\n",
    "# vol[out_vol] = 0.0\n",
    "# out_vol = (vol == 2817.0)\n",
    "# vol[out_vol] = 0.0\n",
    "# out_vol = (vol == 2500.0)\n",
    "# vol[out_vol] = 0.0\n",
    "# out_vol = (vol == 2199.0)\n",
    "# vol[out_vol] = 0.0\n",
    "# out_vol = (vol == 2047.0)\n",
    "# vol[out_vol] = 0.0\n",
    "# out_vol = (vol == 1747.0)\n",
    "# vol[out_vol] = 0.0\n",
    "# out_vol = (vol == 1577.0)\n",
    "# vol[out_vol] = 0.0\n",
    "# out_vol = (vol == 1482.0)\n",
    "# vol[out_vol] = 0.0\n",
    "# out_vol = (vol == 1459.0)\n",
    "# vol[out_vol] = 0.0\n",
    "# out_vol = (vol == 1265.0)\n",
    "# vol[out_vol] = 0.0\n",
    "# out_vol = (vol == 1221.0)\n",
    "# vol[out_vol] = 0.0\n",
    "# out_vol = (vol == 1212.0)\n",
    "# vol[out_vol] = 0.0\n",
    "# out_vol = (vol == 1199.0)\n",
    "# vol[out_vol] = 0.0\n",
    "# out_vol = (vol == 1155.0)\n",
    "# vol[out_vol] = 0.0\n",
    "# out_vol = (vol == 1141.0)\n",
    "# vol[out_vol] = 0.0\n",
    "# out_vol = (vol == 1117.0)\n",
    "# vol[out_vol] = 0.0\n",
    "\n",
    "# # The above inplace edits are reflected in the DataFrame.\n",
    "# # panel_data['wv (m/s)'].min()\n",
    "# panel_data.describe().transpose()"
   ]
  },
  {
   "cell_type": "code",
   "execution_count": 45,
   "metadata": {},
   "outputs": [],
   "source": [
    "column_indices = {name: i for i, name in enumerate(panel_data.columns)}\n",
    "\n",
    "n = len(panel_data)\n",
    "train_df = panel_data[0:int(n*0.7)]\n",
    "val_df = panel_data[int(n*0.7):int(n*0.9)]\n",
    "test_df = panel_data[int(n*0.9):]\n",
    "\n",
    "num_features = panel_data.shape[1]"
   ]
  },
  {
   "cell_type": "code",
   "execution_count": 46,
   "metadata": {},
   "outputs": [
    {
     "data": {
      "text/plain": [
       "18.63994205899299"
      ]
     },
     "execution_count": 46,
     "metadata": {},
     "output_type": "execute_result"
    }
   ],
   "source": [
    "train_df['High'].mean()"
   ]
  },
  {
   "cell_type": "code",
   "execution_count": 47,
   "metadata": {},
   "outputs": [
    {
     "data": {
      "text/html": [
       "<div>\n",
       "<style scoped>\n",
       "    .dataframe tbody tr th:only-of-type {\n",
       "        vertical-align: middle;\n",
       "    }\n",
       "\n",
       "    .dataframe tbody tr th {\n",
       "        vertical-align: top;\n",
       "    }\n",
       "\n",
       "    .dataframe thead th {\n",
       "        text-align: right;\n",
       "    }\n",
       "</style>\n",
       "<table border=\"1\" class=\"dataframe\">\n",
       "  <thead>\n",
       "    <tr style=\"text-align: right;\">\n",
       "      <th></th>\n",
       "      <th>count</th>\n",
       "      <th>mean</th>\n",
       "      <th>std</th>\n",
       "      <th>min</th>\n",
       "      <th>25%</th>\n",
       "      <th>50%</th>\n",
       "      <th>75%</th>\n",
       "      <th>max</th>\n",
       "    </tr>\n",
       "  </thead>\n",
       "  <tbody>\n",
       "    <tr>\n",
       "      <th>High</th>\n",
       "      <td>4669.0</td>\n",
       "      <td>18.639942</td>\n",
       "      <td>10.626580</td>\n",
       "      <td>2.546046</td>\n",
       "      <td>11.445445</td>\n",
       "      <td>14.739990</td>\n",
       "      <td>27.148001</td>\n",
       "      <td>49.980000</td>\n",
       "    </tr>\n",
       "    <tr>\n",
       "      <th>Low</th>\n",
       "      <td>4669.0</td>\n",
       "      <td>18.301682</td>\n",
       "      <td>10.505524</td>\n",
       "      <td>2.401401</td>\n",
       "      <td>11.174174</td>\n",
       "      <td>14.482983</td>\n",
       "      <td>26.663500</td>\n",
       "      <td>49.568001</td>\n",
       "    </tr>\n",
       "    <tr>\n",
       "      <th>Open</th>\n",
       "      <td>4669.0</td>\n",
       "      <td>18.484951</td>\n",
       "      <td>10.574332</td>\n",
       "      <td>2.482232</td>\n",
       "      <td>11.325325</td>\n",
       "      <td>14.664164</td>\n",
       "      <td>26.901501</td>\n",
       "      <td>49.810501</td>\n",
       "    </tr>\n",
       "    <tr>\n",
       "      <th>Close</th>\n",
       "      <td>4669.0</td>\n",
       "      <td>18.468984</td>\n",
       "      <td>10.565778</td>\n",
       "      <td>2.502753</td>\n",
       "      <td>11.280781</td>\n",
       "      <td>14.589590</td>\n",
       "      <td>26.888000</td>\n",
       "      <td>49.808498</td>\n",
       "    </tr>\n",
       "    <tr>\n",
       "      <th>Adj Close</th>\n",
       "      <td>4669.0</td>\n",
       "      <td>18.468984</td>\n",
       "      <td>10.565778</td>\n",
       "      <td>2.502753</td>\n",
       "      <td>11.280781</td>\n",
       "      <td>14.589590</td>\n",
       "      <td>26.888000</td>\n",
       "      <td>49.808498</td>\n",
       "    </tr>\n",
       "  </tbody>\n",
       "</table>\n",
       "</div>"
      ],
      "text/plain": [
       "            count       mean        std       min        25%        50%  \\\n",
       "High       4669.0  18.639942  10.626580  2.546046  11.445445  14.739990   \n",
       "Low        4669.0  18.301682  10.505524  2.401401  11.174174  14.482983   \n",
       "Open       4669.0  18.484951  10.574332  2.482232  11.325325  14.664164   \n",
       "Close      4669.0  18.468984  10.565778  2.502753  11.280781  14.589590   \n",
       "Adj Close  4669.0  18.468984  10.565778  2.502753  11.280781  14.589590   \n",
       "\n",
       "                 75%        max  \n",
       "High       27.148001  49.980000  \n",
       "Low        26.663500  49.568001  \n",
       "Open       26.901501  49.810501  \n",
       "Close      26.888000  49.808498  \n",
       "Adj Close  26.888000  49.808498  "
      ]
     },
     "execution_count": 47,
     "metadata": {},
     "output_type": "execute_result"
    }
   ],
   "source": [
    "train_df.describe().transpose()"
   ]
  },
  {
   "cell_type": "code",
   "execution_count": 48,
   "metadata": {},
   "outputs": [],
   "source": [
    "train_mean = train_df.mean()\n",
    "train_std = train_df.std()\n",
    "\n",
    "train_df = (train_df - train_mean) / train_std\n",
    "val_df = (val_df - train_mean) / train_std\n",
    "test_df = (test_df - train_mean) / train_std\n"
   ]
  },
  {
   "cell_type": "code",
   "execution_count": 49,
   "metadata": {},
   "outputs": [
    {
     "data": {
      "text/plain": [
       "<AxesSubplot:>"
      ]
     },
     "execution_count": 49,
     "metadata": {},
     "output_type": "execute_result"
    },
    {
     "data": {
      "image/png": "[encoded data removed]",
      "text/plain": [
       "<Figure size 432x288 with 1 Axes>"
      ]
     },
     "metadata": {
      "needs_background": "light"
     },
     "output_type": "display_data"
    }
   ],
   "source": [
    "train_df['Close'].plot()"
   ]
  },
  {
   "cell_type": "code",
   "execution_count": 50,
   "metadata": {},
   "outputs": [
    {
     "data": {
      "text/plain": [
       "<AxesSubplot:>"
      ]
     },
     "execution_count": 50,
     "metadata": {},
     "output_type": "execute_result"
    },
    {
     "data": {
      "image/png": "[encoded data removed]",
      "text/plain": [
       "<Figure size 432x288 with 1 Axes>"
      ]
     },
     "metadata": {
      "needs_background": "light"
     },
     "output_type": "display_data"
    }
   ],
   "source": [
    "train_df['Close'].plot()"
   ]
  },
  {
   "cell_type": "code",
   "execution_count": 51,
   "metadata": {},
   "outputs": [
    {
     "data": {
      "text/plain": [
       "High         18.639942\n",
       "Low          18.301682\n",
       "Open         18.484951\n",
       "Close        18.468984\n",
       "Adj Close    18.468984\n",
       "dtype: float64"
      ]
     },
     "execution_count": 51,
     "metadata": {},
     "output_type": "execute_result"
    }
   ],
   "source": [
    "train_mean"
   ]
  },
  {
   "cell_type": "code",
   "execution_count": 52,
   "metadata": {},
   "outputs": [
    {
     "data": {
      "text/plain": [
       "High         10.626580\n",
       "Low          10.505524\n",
       "Open         10.574332\n",
       "Close        10.565778\n",
       "Adj Close    10.565778\n",
       "dtype: float64"
      ]
     },
     "execution_count": 52,
     "metadata": {},
     "output_type": "execute_result"
    }
   ],
   "source": [
    "train_std"
   ]
  },
  {
   "cell_type": "code",
   "execution_count": 53,
   "metadata": {},
   "outputs": [
    {
     "data": {
      "image/png": "[encoded data removed]",
      "text/plain": [
       "<Figure size 864x432 with 1 Axes>"
      ]
     },
     "metadata": {
      "needs_background": "light"
     },
     "output_type": "display_data"
    }
   ],
   "source": [
    "# Look at normalized data\n",
    "df_std = (panel_data - train_mean) / train_std\n",
    "df_std = df_std.melt(var_name='Column', value_name='Normalized')\n",
    "plt.figure(figsize=(12, 6))\n",
    "ax = sns.violinplot(x='Column', y='Normalized', data=df_std)\n",
    "_ = ax.set_xticklabels(panel_data.keys(), rotation=90)"
   ]
  },
  {
   "cell_type": "markdown",
   "metadata": {},
   "source": [
    "## LSTM"
   ]
  },
  {
   "cell_type": "code",
   "execution_count": 54,
   "metadata": {},
   "outputs": [],
   "source": [
    "class TickerData(torch.utils.data.Dataset):\n",
    "    def __init__(self, df, input_width, target_width):\n",
    "        ## YOUR CODE HERE ##\n",
    "        data_np = np.array(df)\n",
    "        self.inputs = [torch.FloatTensor(data_np[i : i + input_width]) for i in range(0, len(data_np) - input_width, input_width)]\n",
    "        self.targets = [torch.FloatTensor(data_np[i : i + target_width]) for i in range(input_width, len(data_np) - target_width, input_width)]\n",
    "        ## *** ##\n",
    "        \n",
    "    def __getitem__(self, idx):\n",
    "        return {'inputs': self.inputs[idx],\n",
    "                'targets': self.targets[idx]}\n",
    "    \n",
    "    def __len__(self):\n",
    "        return min(len(self.inputs), len(self.targets))"
   ]
  },
  {
   "cell_type": "code",
   "execution_count": 55,
   "metadata": {},
   "outputs": [],
   "source": [
    "# We will use the observations of the previous 24 hours to predict the temperature for the next 24 hours. (7 days)\n",
    "# Thus, we will set both `input_width` and `target_width` to 24 in the instances of the dataset.\n",
    "\n",
    "INPUT_WIDTH = 5  # 7  # 24\n",
    "TARGET_WIDTH = 3  # 7  # 24\n",
    "\n",
    "train_data = TickerData(train_df, INPUT_WIDTH, TARGET_WIDTH)\n",
    "val_data = TickerData(val_df, INPUT_WIDTH, TARGET_WIDTH)\n",
    "test_data = TickerData(test_df, INPUT_WIDTH, TARGET_WIDTH)"
   ]
  },
  {
   "cell_type": "code",
   "execution_count": 56,
   "metadata": {},
   "outputs": [
    {
     "data": {
      "image/png": "[encoded data removed]",
      "text/plain": [
       "<Figure size 432x288 with 1 Axes>"
      ]
     },
     "metadata": {
      "needs_background": "light"
     },
     "output_type": "display_data"
    },
    {
     "data": {
      "image/png": "[encoded data removed]",
      "text/plain": [
       "<Figure size 432x288 with 1 Axes>"
      ]
     },
     "metadata": {
      "needs_background": "light"
     },
     "output_type": "display_data"
    },
    {
     "data": {
      "image/png": "[encoded data removed]",
      "text/plain": [
       "<Figure size 432x288 with 1 Axes>"
      ]
     },
     "metadata": {
      "needs_background": "light"
     },
     "output_type": "display_data"
    },
    {
     "data": {
      "image/png": "[encoded data removed]",
      "text/plain": [
       "<Figure size 432x288 with 1 Axes>"
      ]
     },
     "metadata": {
      "needs_background": "light"
     },
     "output_type": "display_data"
    },
    {
     "data": {
      "image/png": "[encoded data removed]",
      "text/plain": [
       "<Figure size 432x288 with 1 Axes>"
      ]
     },
     "metadata": {
      "needs_background": "light"
     },
     "output_type": "display_data"
    }
   ],
   "source": [
    "# Let's visualize some examples\n",
    "idx = random.randint(0, len(train_data))\n",
    "inputs = train_data[idx]['inputs'].numpy()\n",
    "targets = train_data[idx]['targets'].numpy()\n",
    "\n",
    "for i in range(len(train_df.columns)):\n",
    "    plt.plot(range(INPUT_WIDTH), inputs[:,i], label='input')\n",
    "    plt.plot(range(INPUT_WIDTH, INPUT_WIDTH + TARGET_WIDTH), targets[:,i], label='target')\n",
    "    plt.ylabel(train_df.columns[i])\n",
    "    plt.xlabel('Time')\n",
    "    plt.legend()\n",
    "    plt.show()"
   ]
  },
  {
   "cell_type": "code",
   "execution_count": 57,
   "metadata": {},
   "outputs": [],
   "source": [
    "class TickerPredictor(torch.nn.Module):\n",
    "    def __init__(self, num_features, hidden_size):\n",
    "        super().__init__()\n",
    "        self.hidden_size = hidden_size\n",
    "        # instantiate a torch.nn.LSTMCell and a torch.nn.Linear layer\n",
    "        ## YOUR CODE HERE ##\n",
    "        self.lstm = torch.nn.LSTMCell(num_features, hidden_size)\n",
    "        self.linear = torch.nn.Linear(hidden_size, num_features)\n",
    "        ## *** ##\n",
    "        \n",
    "    def forward(self, inputs, num_steps):\n",
    "        inputs = inputs.transpose(0, 1)  # batch, time, dim -> time, batch, dim\n",
    "        \n",
    "        # we initialize the internal states of the LSTM with zeros\n",
    "        hx = torch.zeros((inputs.shape[1], self.hidden_size), device=inputs.device)\n",
    "        cx = torch.zeros((inputs.shape[1], self.hidden_size), device=inputs.device)\n",
    "        \n",
    "        # warmup: feed the inputs through the LSTM one by one from t = 0 up to t = T-1\n",
    "        ## YOUR CODE HERE ##\n",
    "        for t in range(inputs.shape[0] - 1):\n",
    "            hx, cx = self.lstm(inputs[t], (hx, cx))\n",
    "        ## *** ##\n",
    "        \n",
    "        # predict num_steps into the future autoregressively\n",
    "        outputs = []\n",
    "        input_t = inputs[-1]\n",
    "        ## YOUR CODE HERE ##\n",
    "        for t in range(num_steps):\n",
    "            hx, cx = self.lstm(input_t, (hx, cx))\n",
    "            output_t = self.linear(hx)\n",
    "            outputs.append(output_t)\n",
    "            input_t = output_t\n",
    "        ## *** ##\n",
    "        \n",
    "        # stack the list of outputs into a single tensor\n",
    "        outputs = torch.stack(outputs)\n",
    "        \n",
    "        outputs = outputs.transpose(0, 1)  # time, batch, dim -> batch, time, dim\n",
    "        return outputs\n",
    "        "
   ]
  },
  {
   "cell_type": "code",
   "execution_count": 58,
   "metadata": {},
   "outputs": [],
   "source": [
    "def evaluate(model, data_loader, **kwargs):\n",
    "    loss_fn = kwargs.get('loss_fn', torch.nn.functional.mse_loss)\n",
    "    device = kwargs.get('device', torch.device('cpu'))\n",
    "    \n",
    "    model.eval()\n",
    "    pbar = tqdm(enumerate(data_loader), total=len(data_loader))\n",
    "    avg_loss = 0.\n",
    "    for i, batch in pbar:\n",
    "        ## YOUR CODE HERE ##\n",
    "        batch['inputs'] = batch['inputs'].to(device)\n",
    "        batch['targets'] = batch['targets'].to(device)\n",
    "        num_steps = batch['targets'].shape[1]\n",
    "        with torch.no_grad():\n",
    "            preds = model(batch['inputs'], num_steps)\n",
    "        loss = loss_fn(preds, batch['targets'])\n",
    "        avg_loss += loss.item()\n",
    "        ## *** ##\n",
    "        pbar.set_description(f'loss = {loss:.3f}')\n",
    "    avg_loss /= len(data_loader)\n",
    "    return avg_loss\n",
    "\n",
    "def fit(model, train_loader, val_loader, optimizer, **kwargs):\n",
    "    num_epochs = kwargs.get('num_epochs', 100)\n",
    "    loss_fn = kwargs.get('loss_fn', torch.nn.functional.mse_loss)\n",
    "    device = kwargs.get('device', torch.device('cpu'))\n",
    "    \n",
    "    train_loss_hist, val_loss_hist = [], []\n",
    "    for epoch in range(num_epochs):\n",
    "        print(f'Epoch {epoch + 1}/{num_epochs}')\n",
    "        \n",
    "        print('Training phase...')\n",
    "        model.train()\n",
    "        train_loss = 0.\n",
    "        pbar = tqdm(enumerate(train_loader), total=len(train_loader))\n",
    "        for i, batch in pbar:\n",
    "            ## YOUR CODE HERE ##\n",
    "            batch['inputs'] = batch['inputs'].to(device)\n",
    "            batch['targets'] = batch['targets'].to(device)\n",
    "            model.zero_grad()\n",
    "            num_steps = batch['targets'].shape[1]\n",
    "            preds = model(batch['inputs'], num_steps)\n",
    "            loss = loss_fn(preds, batch['targets'])\n",
    "            loss.backward()\n",
    "            optimizer.step()\n",
    "            ## *** ##\n",
    "            train_loss += loss.item()\n",
    "            pbar.set_description(f'loss = {loss:.3f}')\n",
    "        train_loss /= len(train_loader)\n",
    "        print(f'train loss = {train_loss:.3f}')\n",
    "        train_loss_hist.append(train_loss)\n",
    "        \n",
    "        print('Validation phase...')\n",
    "        val_loss = evaluate(model, val_loader, loss_fn=loss_fn, device=device)\n",
    "        print(f'validation loss = {val_loss:.3f}')\n",
    "        val_loss_hist.append(val_loss)\n",
    "        \n",
    "    return train_loss_hist, val_loss_hist\n",
    "        "
   ]
  },
  {
   "cell_type": "code",
   "execution_count": 59,
   "metadata": {},
   "outputs": [
    {
     "name": "stdout",
     "output_type": "stream",
     "text": [
      "DEVICE: cuda\n"
     ]
    }
   ],
   "source": [
    "HIDDEN_SIZE = 32\n",
    "LEARNING_RATE = 1e-3\n",
    "NUM_EPOCHS = 100\n",
    "BATCH_SIZE = 16\n",
    "\n",
    "if torch.cuda.is_available():\n",
    "    DEVICE = torch.device('cuda')\n",
    "# elif torch.backends.mps.is_available():\n",
    "#     DEVICE = torch.device('mps')\n",
    "else:\n",
    "    DEVICE = torch.device('cpu')\n",
    "print('DEVICE:', DEVICE)\n",
    "\n",
    "train_loader = torch.utils.data.DataLoader(train_data, batch_size=BATCH_SIZE, shuffle=True)\n",
    "val_loader = torch.utils.data.DataLoader(val_data, batch_size=BATCH_SIZE)\n",
    "test_loader = torch.utils.data.DataLoader(test_data, batch_size=BATCH_SIZE)\n",
    "\n",
    "model = TickerPredictor(train_data[0]['inputs'].shape[1], HIDDEN_SIZE).to(DEVICE)\n",
    "optimizer = torch.optim.Adam(model.parameters(), lr=LEARNING_RATE)"
   ]
  },
  {
   "cell_type": "code",
   "execution_count": 60,
   "metadata": {},
   "outputs": [
    {
     "name": "stdout",
     "output_type": "stream",
     "text": [
      "Epoch 1/100\n",
      "Training phase...\n"
     ]
    },
    {
     "name": "stderr",
     "output_type": "stream",
     "text": [
      "loss = 0.066: 100%|██████████| 59/59 [00:00<00:00, 110.06it/s]\n"
     ]
    },
    {
     "name": "stdout",
     "output_type": "stream",
     "text": [
      "train loss = 0.625\n",
      "Validation phase...\n"
     ]
    },
    {
     "name": "stderr",
     "output_type": "stream",
     "text": [
      "loss = 27.440: 100%|██████████| 17/17 [00:00<00:00, 354.70it/s]\n"
     ]
    },
    {
     "name": "stdout",
     "output_type": "stream",
     "text": [
      "validation loss = 8.842\n",
      "Epoch 2/100\n",
      "Training phase...\n"
     ]
    },
    {
     "name": "stderr",
     "output_type": "stream",
     "text": [
      "loss = 0.042: 100%|██████████| 59/59 [00:00<00:00, 140.83it/s]\n"
     ]
    },
    {
     "name": "stdout",
     "output_type": "stream",
     "text": [
      "train loss = 0.083\n",
      "Validation phase...\n"
     ]
    },
    {
     "name": "stderr",
     "output_type": "stream",
     "text": [
      "loss = 22.145: 100%|██████████| 17/17 [00:00<00:00, 246.38it/s]\n"
     ]
    },
    {
     "name": "stdout",
     "output_type": "stream",
     "text": [
      "validation loss = 6.198\n",
      "Epoch 3/100\n",
      "Training phase...\n"
     ]
    },
    {
     "name": "stderr",
     "output_type": "stream",
     "text": [
      "loss = 0.009: 100%|██████████| 59/59 [00:00<00:00, 152.43it/s]\n"
     ]
    },
    {
     "name": "stdout",
     "output_type": "stream",
     "text": [
      "train loss = 0.024\n",
      "Validation phase...\n"
     ]
    },
    {
     "name": "stderr",
     "output_type": "stream",
     "text": [
      "loss = 18.910: 100%|██████████| 17/17 [00:00<00:00, 293.10it/s]\n"
     ]
    },
    {
     "name": "stdout",
     "output_type": "stream",
     "text": [
      "validation loss = 4.719\n",
      "Epoch 4/100\n",
      "Training phase...\n"
     ]
    },
    {
     "name": "stderr",
     "output_type": "stream",
     "text": [
      "loss = 0.009: 100%|██████████| 59/59 [00:00<00:00, 162.08it/s]\n"
     ]
    },
    {
     "name": "stdout",
     "output_type": "stream",
     "text": [
      "train loss = 0.009\n",
      "Validation phase...\n"
     ]
    },
    {
     "name": "stderr",
     "output_type": "stream",
     "text": [
      "loss = 17.451: 100%|██████████| 17/17 [00:00<00:00, 361.64it/s]\n"
     ]
    },
    {
     "name": "stdout",
     "output_type": "stream",
     "text": [
      "validation loss = 4.125\n",
      "Epoch 5/100\n",
      "Training phase...\n"
     ]
    },
    {
     "name": "stderr",
     "output_type": "stream",
     "text": [
      "loss = 0.011: 100%|██████████| 59/59 [00:00<00:00, 169.97it/s]\n"
     ]
    },
    {
     "name": "stdout",
     "output_type": "stream",
     "text": [
      "train loss = 0.006\n",
      "Validation phase...\n"
     ]
    },
    {
     "name": "stderr",
     "output_type": "stream",
     "text": [
      "loss = 16.361: 100%|██████████| 17/17 [00:00<00:00, 377.81it/s]\n"
     ]
    },
    {
     "name": "stdout",
     "output_type": "stream",
     "text": [
      "validation loss = 3.696\n",
      "Epoch 6/100\n",
      "Training phase...\n"
     ]
    },
    {
     "name": "stderr",
     "output_type": "stream",
     "text": [
      "loss = 0.005: 100%|██████████| 59/59 [00:00<00:00, 167.67it/s]\n"
     ]
    },
    {
     "name": "stdout",
     "output_type": "stream",
     "text": [
      "train loss = 0.004\n",
      "Validation phase...\n"
     ]
    },
    {
     "name": "stderr",
     "output_type": "stream",
     "text": [
      "loss = 15.625: 100%|██████████| 17/17 [00:00<00:00, 395.33it/s]\n"
     ]
    },
    {
     "name": "stdout",
     "output_type": "stream",
     "text": [
      "validation loss = 3.410\n",
      "Epoch 7/100\n",
      "Training phase...\n"
     ]
    },
    {
     "name": "stderr",
     "output_type": "stream",
     "text": [
      "loss = 0.002: 100%|██████████| 59/59 [00:00<00:00, 172.50it/s]\n"
     ]
    },
    {
     "name": "stdout",
     "output_type": "stream",
     "text": [
      "train loss = 0.003\n",
      "Validation phase...\n"
     ]
    },
    {
     "name": "stderr",
     "output_type": "stream",
     "text": [
      "loss = 14.942: 100%|██████████| 17/17 [00:00<00:00, 414.63it/s]\n"
     ]
    },
    {
     "name": "stdout",
     "output_type": "stream",
     "text": [
      "validation loss = 3.175\n",
      "Epoch 8/100\n",
      "Training phase...\n"
     ]
    },
    {
     "name": "stderr",
     "output_type": "stream",
     "text": [
      "loss = 0.004: 100%|██████████| 59/59 [00:00<00:00, 163.82it/s]\n"
     ]
    },
    {
     "name": "stdout",
     "output_type": "stream",
     "text": [
      "train loss = 0.003\n",
      "Validation phase...\n"
     ]
    },
    {
     "name": "stderr",
     "output_type": "stream",
     "text": [
      "loss = 14.440: 100%|██████████| 17/17 [00:00<00:00, 331.85it/s]\n"
     ]
    },
    {
     "name": "stdout",
     "output_type": "stream",
     "text": [
      "validation loss = 2.985\n",
      "Epoch 9/100\n",
      "Training phase...\n"
     ]
    },
    {
     "name": "stderr",
     "output_type": "stream",
     "text": [
      "loss = 0.002: 100%|██████████| 59/59 [00:00<00:00, 176.40it/s]\n"
     ]
    },
    {
     "name": "stdout",
     "output_type": "stream",
     "text": [
      "train loss = 0.003\n",
      "Validation phase...\n"
     ]
    },
    {
     "name": "stderr",
     "output_type": "stream",
     "text": [
      "loss = 14.044: 100%|██████████| 17/17 [00:00<00:00, 333.36it/s]\n"
     ]
    },
    {
     "name": "stdout",
     "output_type": "stream",
     "text": [
      "validation loss = 2.846\n",
      "Epoch 10/100\n",
      "Training phase...\n"
     ]
    },
    {
     "name": "stderr",
     "output_type": "stream",
     "text": [
      "loss = 0.001: 100%|██████████| 59/59 [00:00<00:00, 175.46it/s]\n"
     ]
    },
    {
     "name": "stdout",
     "output_type": "stream",
     "text": [
      "train loss = 0.003\n",
      "Validation phase...\n"
     ]
    },
    {
     "name": "stderr",
     "output_type": "stream",
     "text": [
      "loss = 13.688: 100%|██████████| 17/17 [00:00<00:00, 395.34it/s]\n"
     ]
    },
    {
     "name": "stdout",
     "output_type": "stream",
     "text": [
      "validation loss = 2.727\n",
      "Epoch 11/100\n",
      "Training phase...\n"
     ]
    },
    {
     "name": "stderr",
     "output_type": "stream",
     "text": [
      "loss = 0.003: 100%|██████████| 59/59 [00:00<00:00, 172.12it/s]\n"
     ]
    },
    {
     "name": "stdout",
     "output_type": "stream",
     "text": [
      "train loss = 0.002\n",
      "Validation phase...\n"
     ]
    },
    {
     "name": "stderr",
     "output_type": "stream",
     "text": [
      "loss = 13.529: 100%|██████████| 17/17 [00:00<00:00, 346.81it/s]\n"
     ]
    },
    {
     "name": "stdout",
     "output_type": "stream",
     "text": [
      "validation loss = 2.694\n",
      "Epoch 12/100\n",
      "Training phase...\n"
     ]
    },
    {
     "name": "stderr",
     "output_type": "stream",
     "text": [
      "loss = 0.004: 100%|██████████| 59/59 [00:00<00:00, 175.20it/s]\n"
     ]
    },
    {
     "name": "stdout",
     "output_type": "stream",
     "text": [
      "train loss = 0.002\n",
      "Validation phase...\n"
     ]
    },
    {
     "name": "stderr",
     "output_type": "stream",
     "text": [
      "loss = 13.229: 100%|██████████| 17/17 [00:00<00:00, 393.91it/s]\n"
     ]
    },
    {
     "name": "stdout",
     "output_type": "stream",
     "text": [
      "validation loss = 2.571\n",
      "Epoch 13/100\n",
      "Training phase...\n"
     ]
    },
    {
     "name": "stderr",
     "output_type": "stream",
     "text": [
      "loss = 0.013: 100%|██████████| 59/59 [00:00<00:00, 160.21it/s]\n"
     ]
    },
    {
     "name": "stdout",
     "output_type": "stream",
     "text": [
      "train loss = 0.002\n",
      "Validation phase...\n"
     ]
    },
    {
     "name": "stderr",
     "output_type": "stream",
     "text": [
      "loss = 13.064: 100%|██████████| 17/17 [00:00<00:00, 347.00it/s]\n"
     ]
    },
    {
     "name": "stdout",
     "output_type": "stream",
     "text": [
      "validation loss = 2.520\n",
      "Epoch 14/100\n",
      "Training phase...\n"
     ]
    },
    {
     "name": "stderr",
     "output_type": "stream",
     "text": [
      "loss = 0.002: 100%|██████████| 59/59 [00:00<00:00, 165.37it/s]\n"
     ]
    },
    {
     "name": "stdout",
     "output_type": "stream",
     "text": [
      "train loss = 0.002\n",
      "Validation phase...\n"
     ]
    },
    {
     "name": "stderr",
     "output_type": "stream",
     "text": [
      "loss = 12.789: 100%|██████████| 17/17 [00:00<00:00, 395.37it/s]\n"
     ]
    },
    {
     "name": "stdout",
     "output_type": "stream",
     "text": [
      "validation loss = 2.433\n",
      "Epoch 15/100\n",
      "Training phase...\n"
     ]
    },
    {
     "name": "stderr",
     "output_type": "stream",
     "text": [
      "loss = 0.001: 100%|██████████| 59/59 [00:00<00:00, 173.05it/s]\n"
     ]
    },
    {
     "name": "stdout",
     "output_type": "stream",
     "text": [
      "train loss = 0.002\n",
      "Validation phase...\n"
     ]
    },
    {
     "name": "stderr",
     "output_type": "stream",
     "text": [
      "loss = 12.698: 100%|██████████| 17/17 [00:00<00:00, 269.03it/s]\n"
     ]
    },
    {
     "name": "stdout",
     "output_type": "stream",
     "text": [
      "validation loss = 2.424\n",
      "Epoch 16/100\n",
      "Training phase...\n"
     ]
    },
    {
     "name": "stderr",
     "output_type": "stream",
     "text": [
      "loss = 0.000: 100%|██████████| 59/59 [00:00<00:00, 167.25it/s]\n"
     ]
    },
    {
     "name": "stdout",
     "output_type": "stream",
     "text": [
      "train loss = 0.002\n",
      "Validation phase...\n"
     ]
    },
    {
     "name": "stderr",
     "output_type": "stream",
     "text": [
      "loss = 12.443: 100%|██████████| 17/17 [00:00<00:00, 361.70it/s]\n"
     ]
    },
    {
     "name": "stdout",
     "output_type": "stream",
     "text": [
      "validation loss = 2.324\n",
      "Epoch 17/100\n",
      "Training phase...\n"
     ]
    },
    {
     "name": "stderr",
     "output_type": "stream",
     "text": [
      "loss = 0.002: 100%|██████████| 59/59 [00:00<00:00, 173.31it/s]\n"
     ]
    },
    {
     "name": "stdout",
     "output_type": "stream",
     "text": [
      "train loss = 0.002\n",
      "Validation phase...\n"
     ]
    },
    {
     "name": "stderr",
     "output_type": "stream",
     "text": [
      "loss = 12.229: 100%|██████████| 17/17 [00:00<00:00, 399.50it/s]\n"
     ]
    },
    {
     "name": "stdout",
     "output_type": "stream",
     "text": [
      "validation loss = 2.254\n",
      "Epoch 18/100\n",
      "Training phase...\n"
     ]
    },
    {
     "name": "stderr",
     "output_type": "stream",
     "text": [
      "loss = 0.003: 100%|██████████| 59/59 [00:00<00:00, 173.95it/s]\n"
     ]
    },
    {
     "name": "stdout",
     "output_type": "stream",
     "text": [
      "train loss = 0.002\n",
      "Validation phase...\n"
     ]
    },
    {
     "name": "stderr",
     "output_type": "stream",
     "text": [
      "loss = 12.062: 100%|██████████| 17/17 [00:00<00:00, 354.17it/s]\n"
     ]
    },
    {
     "name": "stdout",
     "output_type": "stream",
     "text": [
      "validation loss = 2.208\n",
      "Epoch 19/100\n",
      "Training phase...\n"
     ]
    },
    {
     "name": "stderr",
     "output_type": "stream",
     "text": [
      "loss = 0.001: 100%|██████████| 59/59 [00:00<00:00, 160.12it/s]\n"
     ]
    },
    {
     "name": "stdout",
     "output_type": "stream",
     "text": [
      "train loss = 0.002\n",
      "Validation phase...\n"
     ]
    },
    {
     "name": "stderr",
     "output_type": "stream",
     "text": [
      "loss = 11.884: 100%|██████████| 17/17 [00:00<00:00, 435.91it/s]\n"
     ]
    },
    {
     "name": "stdout",
     "output_type": "stream",
     "text": [
      "validation loss = 2.153\n",
      "Epoch 20/100\n",
      "Training phase...\n"
     ]
    },
    {
     "name": "stderr",
     "output_type": "stream",
     "text": [
      "loss = 0.009: 100%|██████████| 59/59 [00:00<00:00, 183.55it/s]\n"
     ]
    },
    {
     "name": "stdout",
     "output_type": "stream",
     "text": [
      "train loss = 0.002\n",
      "Validation phase...\n"
     ]
    },
    {
     "name": "stderr",
     "output_type": "stream",
     "text": [
      "loss = 11.792: 100%|██████████| 17/17 [00:00<00:00, 459.47it/s]\n"
     ]
    },
    {
     "name": "stdout",
     "output_type": "stream",
     "text": [
      "validation loss = 2.134\n",
      "Epoch 21/100\n",
      "Training phase...\n"
     ]
    },
    {
     "name": "stderr",
     "output_type": "stream",
     "text": [
      "loss = 0.003: 100%|██████████| 59/59 [00:00<00:00, 179.61it/s]\n"
     ]
    },
    {
     "name": "stdout",
     "output_type": "stream",
     "text": [
      "train loss = 0.002\n",
      "Validation phase...\n"
     ]
    },
    {
     "name": "stderr",
     "output_type": "stream",
     "text": [
      "loss = 11.740: 100%|██████████| 17/17 [00:00<00:00, 386.39it/s]\n"
     ]
    },
    {
     "name": "stdout",
     "output_type": "stream",
     "text": [
      "validation loss = 2.121\n",
      "Epoch 22/100\n",
      "Training phase...\n"
     ]
    },
    {
     "name": "stderr",
     "output_type": "stream",
     "text": [
      "loss = 0.002: 100%|██████████| 59/59 [00:00<00:00, 166.66it/s]\n"
     ]
    },
    {
     "name": "stdout",
     "output_type": "stream",
     "text": [
      "train loss = 0.002\n",
      "Validation phase...\n"
     ]
    },
    {
     "name": "stderr",
     "output_type": "stream",
     "text": [
      "loss = 11.582: 100%|██████████| 17/17 [00:00<00:00, 471.07it/s]\n"
     ]
    },
    {
     "name": "stdout",
     "output_type": "stream",
     "text": [
      "validation loss = 2.065\n",
      "Epoch 23/100\n",
      "Training phase...\n"
     ]
    },
    {
     "name": "stderr",
     "output_type": "stream",
     "text": [
      "loss = 0.001: 100%|██████████| 59/59 [00:00<00:00, 161.26it/s]\n"
     ]
    },
    {
     "name": "stdout",
     "output_type": "stream",
     "text": [
      "train loss = 0.002\n",
      "Validation phase...\n"
     ]
    },
    {
     "name": "stderr",
     "output_type": "stream",
     "text": [
      "loss = 11.446: 100%|██████████| 17/17 [00:00<00:00, 443.04it/s]\n"
     ]
    },
    {
     "name": "stdout",
     "output_type": "stream",
     "text": [
      "validation loss = 2.031\n",
      "Epoch 24/100\n",
      "Training phase...\n"
     ]
    },
    {
     "name": "stderr",
     "output_type": "stream",
     "text": [
      "loss = 0.001: 100%|██████████| 59/59 [00:00<00:00, 159.31it/s]\n"
     ]
    },
    {
     "name": "stdout",
     "output_type": "stream",
     "text": [
      "train loss = 0.002\n",
      "Validation phase...\n"
     ]
    },
    {
     "name": "stderr",
     "output_type": "stream",
     "text": [
      "loss = 11.416: 100%|██████████| 17/17 [00:00<00:00, 320.77it/s]\n"
     ]
    },
    {
     "name": "stdout",
     "output_type": "stream",
     "text": [
      "validation loss = 2.039\n",
      "Epoch 25/100\n",
      "Training phase...\n"
     ]
    },
    {
     "name": "stderr",
     "output_type": "stream",
     "text": [
      "loss = 0.005: 100%|██████████| 59/59 [00:00<00:00, 145.86it/s]\n"
     ]
    },
    {
     "name": "stdout",
     "output_type": "stream",
     "text": [
      "train loss = 0.002\n",
      "Validation phase...\n"
     ]
    },
    {
     "name": "stderr",
     "output_type": "stream",
     "text": [
      "loss = 11.269: 100%|██████████| 17/17 [00:00<00:00, 354.21it/s]\n"
     ]
    },
    {
     "name": "stdout",
     "output_type": "stream",
     "text": [
      "validation loss = 1.992\n",
      "Epoch 26/100\n",
      "Training phase...\n"
     ]
    },
    {
     "name": "stderr",
     "output_type": "stream",
     "text": [
      "loss = 0.002: 100%|██████████| 59/59 [00:00<00:00, 154.26it/s]\n"
     ]
    },
    {
     "name": "stdout",
     "output_type": "stream",
     "text": [
      "train loss = 0.002\n",
      "Validation phase...\n"
     ]
    },
    {
     "name": "stderr",
     "output_type": "stream",
     "text": [
      "loss = 11.240: 100%|██████████| 17/17 [00:00<00:00, 395.34it/s]\n"
     ]
    },
    {
     "name": "stdout",
     "output_type": "stream",
     "text": [
      "validation loss = 1.988\n",
      "Epoch 27/100\n",
      "Training phase...\n"
     ]
    },
    {
     "name": "stderr",
     "output_type": "stream",
     "text": [
      "loss = 0.001: 100%|██████████| 59/59 [00:00<00:00, 185.35it/s]\n"
     ]
    },
    {
     "name": "stdout",
     "output_type": "stream",
     "text": [
      "train loss = 0.002\n",
      "Validation phase...\n"
     ]
    },
    {
     "name": "stderr",
     "output_type": "stream",
     "text": [
      "loss = 11.166: 100%|██████████| 17/17 [00:00<00:00, 340.00it/s]\n"
     ]
    },
    {
     "name": "stdout",
     "output_type": "stream",
     "text": [
      "validation loss = 1.968\n",
      "Epoch 28/100\n",
      "Training phase...\n"
     ]
    },
    {
     "name": "stderr",
     "output_type": "stream",
     "text": [
      "loss = 0.001: 100%|██████████| 59/59 [00:00<00:00, 178.25it/s]\n"
     ]
    },
    {
     "name": "stdout",
     "output_type": "stream",
     "text": [
      "train loss = 0.002\n",
      "Validation phase...\n"
     ]
    },
    {
     "name": "stderr",
     "output_type": "stream",
     "text": [
      "loss = 11.012: 100%|██████████| 17/17 [00:00<00:00, 395.63it/s]\n"
     ]
    },
    {
     "name": "stdout",
     "output_type": "stream",
     "text": [
      "validation loss = 1.916\n",
      "Epoch 29/100\n",
      "Training phase...\n"
     ]
    },
    {
     "name": "stderr",
     "output_type": "stream",
     "text": [
      "loss = 0.003: 100%|██████████| 59/59 [00:00<00:00, 139.24it/s]\n"
     ]
    },
    {
     "name": "stdout",
     "output_type": "stream",
     "text": [
      "train loss = 0.002\n",
      "Validation phase...\n"
     ]
    },
    {
     "name": "stderr",
     "output_type": "stream",
     "text": [
      "loss = 10.957: 100%|██████████| 17/17 [00:00<00:00, 217.96it/s]\n"
     ]
    },
    {
     "name": "stdout",
     "output_type": "stream",
     "text": [
      "validation loss = 1.904\n",
      "Epoch 30/100\n",
      "Training phase...\n"
     ]
    },
    {
     "name": "stderr",
     "output_type": "stream",
     "text": [
      "loss = 0.000: 100%|██████████| 59/59 [00:00<00:00, 152.23it/s]\n"
     ]
    },
    {
     "name": "stdout",
     "output_type": "stream",
     "text": [
      "train loss = 0.002\n",
      "Validation phase...\n"
     ]
    },
    {
     "name": "stderr",
     "output_type": "stream",
     "text": [
      "loss = 11.027: 100%|██████████| 17/17 [00:00<00:00, 414.63it/s]\n"
     ]
    },
    {
     "name": "stdout",
     "output_type": "stream",
     "text": [
      "validation loss = 1.923\n",
      "Epoch 31/100\n",
      "Training phase...\n"
     ]
    },
    {
     "name": "stderr",
     "output_type": "stream",
     "text": [
      "loss = 0.002: 100%|██████████| 59/59 [00:00<00:00, 116.78it/s]\n"
     ]
    },
    {
     "name": "stdout",
     "output_type": "stream",
     "text": [
      "train loss = 0.002\n",
      "Validation phase...\n"
     ]
    },
    {
     "name": "stderr",
     "output_type": "stream",
     "text": [
      "loss = 10.867: 100%|██████████| 17/17 [00:00<00:00, 223.69it/s]\n"
     ]
    },
    {
     "name": "stdout",
     "output_type": "stream",
     "text": [
      "validation loss = 1.881\n",
      "Epoch 32/100\n",
      "Training phase...\n"
     ]
    },
    {
     "name": "stderr",
     "output_type": "stream",
     "text": [
      "loss = 0.001: 100%|██████████| 59/59 [00:00<00:00, 109.86it/s]\n"
     ]
    },
    {
     "name": "stdout",
     "output_type": "stream",
     "text": [
      "train loss = 0.002\n",
      "Validation phase...\n"
     ]
    },
    {
     "name": "stderr",
     "output_type": "stream",
     "text": [
      "loss = 10.802: 100%|██████████| 17/17 [00:00<00:00, 246.37it/s]\n"
     ]
    },
    {
     "name": "stdout",
     "output_type": "stream",
     "text": [
      "validation loss = 1.866\n",
      "Epoch 33/100\n",
      "Training phase...\n"
     ]
    },
    {
     "name": "stderr",
     "output_type": "stream",
     "text": [
      "loss = 0.000: 100%|██████████| 59/59 [00:00<00:00, 140.46it/s]\n"
     ]
    },
    {
     "name": "stdout",
     "output_type": "stream",
     "text": [
      "train loss = 0.002\n",
      "Validation phase...\n"
     ]
    },
    {
     "name": "stderr",
     "output_type": "stream",
     "text": [
      "loss = 10.614: 100%|██████████| 17/17 [00:00<00:00, 265.62it/s]\n"
     ]
    },
    {
     "name": "stdout",
     "output_type": "stream",
     "text": [
      "validation loss = 1.805\n",
      "Epoch 34/100\n",
      "Training phase...\n"
     ]
    },
    {
     "name": "stderr",
     "output_type": "stream",
     "text": [
      "loss = 0.002: 100%|██████████| 59/59 [00:00<00:00, 130.53it/s]\n"
     ]
    },
    {
     "name": "stdout",
     "output_type": "stream",
     "text": [
      "train loss = 0.002\n",
      "Validation phase...\n"
     ]
    },
    {
     "name": "stderr",
     "output_type": "stream",
     "text": [
      "loss = 10.519: 100%|██████████| 17/17 [00:00<00:00, 253.72it/s]\n"
     ]
    },
    {
     "name": "stdout",
     "output_type": "stream",
     "text": [
      "validation loss = 1.776\n",
      "Epoch 35/100\n",
      "Training phase...\n"
     ]
    },
    {
     "name": "stderr",
     "output_type": "stream",
     "text": [
      "loss = 0.008: 100%|██████████| 59/59 [00:00<00:00, 136.57it/s]\n"
     ]
    },
    {
     "name": "stdout",
     "output_type": "stream",
     "text": [
      "train loss = 0.002\n",
      "Validation phase...\n"
     ]
    },
    {
     "name": "stderr",
     "output_type": "stream",
     "text": [
      "loss = 10.553: 100%|██████████| 17/17 [00:00<00:00, 314.82it/s]\n"
     ]
    },
    {
     "name": "stdout",
     "output_type": "stream",
     "text": [
      "validation loss = 1.805\n",
      "Epoch 36/100\n",
      "Training phase...\n"
     ]
    },
    {
     "name": "stderr",
     "output_type": "stream",
     "text": [
      "loss = 0.001: 100%|██████████| 59/59 [00:00<00:00, 133.18it/s]\n"
     ]
    },
    {
     "name": "stdout",
     "output_type": "stream",
     "text": [
      "train loss = 0.002\n",
      "Validation phase...\n"
     ]
    },
    {
     "name": "stderr",
     "output_type": "stream",
     "text": [
      "loss = 10.455: 100%|██████████| 17/17 [00:00<00:00, 336.20it/s]\n"
     ]
    },
    {
     "name": "stdout",
     "output_type": "stream",
     "text": [
      "validation loss = 1.766\n",
      "Epoch 37/100\n",
      "Training phase...\n"
     ]
    },
    {
     "name": "stderr",
     "output_type": "stream",
     "text": [
      "loss = 0.001: 100%|██████████| 59/59 [00:00<00:00, 163.44it/s]\n"
     ]
    },
    {
     "name": "stdout",
     "output_type": "stream",
     "text": [
      "train loss = 0.002\n",
      "Validation phase...\n"
     ]
    },
    {
     "name": "stderr",
     "output_type": "stream",
     "text": [
      "loss = 10.403: 100%|██████████| 17/17 [00:00<00:00, 425.00it/s]\n"
     ]
    },
    {
     "name": "stdout",
     "output_type": "stream",
     "text": [
      "validation loss = 1.751\n",
      "Epoch 38/100\n",
      "Training phase...\n"
     ]
    },
    {
     "name": "stderr",
     "output_type": "stream",
     "text": [
      "loss = 0.001: 100%|██████████| 59/59 [00:00<00:00, 173.92it/s]\n"
     ]
    },
    {
     "name": "stdout",
     "output_type": "stream",
     "text": [
      "train loss = 0.002\n",
      "Validation phase...\n"
     ]
    },
    {
     "name": "stderr",
     "output_type": "stream",
     "text": [
      "loss = 10.292: 100%|██████████| 17/17 [00:00<00:00, 449.82it/s]\n"
     ]
    },
    {
     "name": "stdout",
     "output_type": "stream",
     "text": [
      "validation loss = 1.718\n",
      "Epoch 39/100\n",
      "Training phase...\n"
     ]
    },
    {
     "name": "stderr",
     "output_type": "stream",
     "text": [
      "loss = 0.000: 100%|██████████| 59/59 [00:00<00:00, 175.89it/s]\n"
     ]
    },
    {
     "name": "stdout",
     "output_type": "stream",
     "text": [
      "train loss = 0.002\n",
      "Validation phase...\n"
     ]
    },
    {
     "name": "stderr",
     "output_type": "stream",
     "text": [
      "loss = 10.242: 100%|██████████| 17/17 [00:00<00:00, 340.24it/s]\n"
     ]
    },
    {
     "name": "stdout",
     "output_type": "stream",
     "text": [
      "validation loss = 1.718\n",
      "Epoch 40/100\n",
      "Training phase...\n"
     ]
    },
    {
     "name": "stderr",
     "output_type": "stream",
     "text": [
      "loss = 0.000: 100%|██████████| 59/59 [00:00<00:00, 179.06it/s]\n"
     ]
    },
    {
     "name": "stdout",
     "output_type": "stream",
     "text": [
      "train loss = 0.002\n",
      "Validation phase...\n"
     ]
    },
    {
     "name": "stderr",
     "output_type": "stream",
     "text": [
      "loss = 10.135: 100%|██████████| 17/17 [00:00<00:00, 377.79it/s]\n"
     ]
    },
    {
     "name": "stdout",
     "output_type": "stream",
     "text": [
      "validation loss = 1.686\n",
      "Epoch 41/100\n",
      "Training phase...\n"
     ]
    },
    {
     "name": "stderr",
     "output_type": "stream",
     "text": [
      "loss = 0.001: 100%|██████████| 59/59 [00:00<00:00, 164.89it/s]\n"
     ]
    },
    {
     "name": "stdout",
     "output_type": "stream",
     "text": [
      "train loss = 0.002\n",
      "Validation phase...\n"
     ]
    },
    {
     "name": "stderr",
     "output_type": "stream",
     "text": [
      "loss = 10.159: 100%|██████████| 17/17 [00:00<00:00, 369.41it/s]\n"
     ]
    },
    {
     "name": "stdout",
     "output_type": "stream",
     "text": [
      "validation loss = 1.681\n",
      "Epoch 42/100\n",
      "Training phase...\n"
     ]
    },
    {
     "name": "stderr",
     "output_type": "stream",
     "text": [
      "loss = 0.001: 100%|██████████| 59/59 [00:00<00:00, 171.72it/s]\n"
     ]
    },
    {
     "name": "stdout",
     "output_type": "stream",
     "text": [
      "train loss = 0.002\n",
      "Validation phase...\n"
     ]
    },
    {
     "name": "stderr",
     "output_type": "stream",
     "text": [
      "loss = 10.058: 100%|██████████| 17/17 [00:00<00:00, 409.06it/s]\n"
     ]
    },
    {
     "name": "stdout",
     "output_type": "stream",
     "text": [
      "validation loss = 1.654\n",
      "Epoch 43/100\n",
      "Training phase...\n"
     ]
    },
    {
     "name": "stderr",
     "output_type": "stream",
     "text": [
      "loss = 0.003: 100%|██████████| 59/59 [00:00<00:00, 158.12it/s]\n"
     ]
    },
    {
     "name": "stdout",
     "output_type": "stream",
     "text": [
      "train loss = 0.002\n",
      "Validation phase...\n"
     ]
    },
    {
     "name": "stderr",
     "output_type": "stream",
     "text": [
      "loss = 10.063: 100%|██████████| 17/17 [00:00<00:00, 178.95it/s]\n"
     ]
    },
    {
     "name": "stdout",
     "output_type": "stream",
     "text": [
      "validation loss = 1.657\n",
      "Epoch 44/100\n",
      "Training phase...\n"
     ]
    },
    {
     "name": "stderr",
     "output_type": "stream",
     "text": [
      "loss = 0.001: 100%|██████████| 59/59 [00:00<00:00, 96.71it/s] \n"
     ]
    },
    {
     "name": "stdout",
     "output_type": "stream",
     "text": [
      "train loss = 0.002\n",
      "Validation phase...\n"
     ]
    },
    {
     "name": "stderr",
     "output_type": "stream",
     "text": [
      "loss = 10.014: 100%|██████████| 17/17 [00:00<00:00, 269.84it/s]\n"
     ]
    },
    {
     "name": "stdout",
     "output_type": "stream",
     "text": [
      "validation loss = 1.649\n",
      "Epoch 45/100\n",
      "Training phase...\n"
     ]
    },
    {
     "name": "stderr",
     "output_type": "stream",
     "text": [
      "loss = 0.015: 100%|██████████| 59/59 [00:00<00:00, 161.57it/s]\n"
     ]
    },
    {
     "name": "stdout",
     "output_type": "stream",
     "text": [
      "train loss = 0.002\n",
      "Validation phase...\n"
     ]
    },
    {
     "name": "stderr",
     "output_type": "stream",
     "text": [
      "loss = 9.952: 100%|██████████| 17/17 [00:00<00:00, 413.95it/s]\n"
     ]
    },
    {
     "name": "stdout",
     "output_type": "stream",
     "text": [
      "validation loss = 1.640\n",
      "Epoch 46/100\n",
      "Training phase...\n"
     ]
    },
    {
     "name": "stderr",
     "output_type": "stream",
     "text": [
      "loss = 0.001: 100%|██████████| 59/59 [00:00<00:00, 162.10it/s]\n"
     ]
    },
    {
     "name": "stdout",
     "output_type": "stream",
     "text": [
      "train loss = 0.002\n",
      "Validation phase...\n"
     ]
    },
    {
     "name": "stderr",
     "output_type": "stream",
     "text": [
      "loss = 9.814: 100%|██████████| 17/17 [00:00<00:00, 401.46it/s]\n"
     ]
    },
    {
     "name": "stdout",
     "output_type": "stream",
     "text": [
      "validation loss = 1.587\n",
      "Epoch 47/100\n",
      "Training phase...\n"
     ]
    },
    {
     "name": "stderr",
     "output_type": "stream",
     "text": [
      "loss = 0.001: 100%|██████████| 59/59 [00:00<00:00, 146.35it/s]\n"
     ]
    },
    {
     "name": "stdout",
     "output_type": "stream",
     "text": [
      "train loss = 0.002\n",
      "Validation phase...\n"
     ]
    },
    {
     "name": "stderr",
     "output_type": "stream",
     "text": [
      "loss = 9.834: 100%|██████████| 17/17 [00:00<00:00, 339.39it/s]\n"
     ]
    },
    {
     "name": "stdout",
     "output_type": "stream",
     "text": [
      "validation loss = 1.607\n",
      "Epoch 48/100\n",
      "Training phase...\n"
     ]
    },
    {
     "name": "stderr",
     "output_type": "stream",
     "text": [
      "loss = 0.004: 100%|██████████| 59/59 [00:00<00:00, 173.41it/s]\n"
     ]
    },
    {
     "name": "stdout",
     "output_type": "stream",
     "text": [
      "train loss = 0.002\n",
      "Validation phase...\n"
     ]
    },
    {
     "name": "stderr",
     "output_type": "stream",
     "text": [
      "loss = 9.812: 100%|██████████| 17/17 [00:00<00:00, 339.21it/s]\n"
     ]
    },
    {
     "name": "stdout",
     "output_type": "stream",
     "text": [
      "validation loss = 1.595\n",
      "Epoch 49/100\n",
      "Training phase...\n"
     ]
    },
    {
     "name": "stderr",
     "output_type": "stream",
     "text": [
      "loss = 0.001: 100%|██████████| 59/59 [00:00<00:00, 170.66it/s]\n"
     ]
    },
    {
     "name": "stdout",
     "output_type": "stream",
     "text": [
      "train loss = 0.002\n",
      "Validation phase...\n"
     ]
    },
    {
     "name": "stderr",
     "output_type": "stream",
     "text": [
      "loss = 9.706: 100%|██████████| 17/17 [00:00<00:00, 425.00it/s]\n"
     ]
    },
    {
     "name": "stdout",
     "output_type": "stream",
     "text": [
      "validation loss = 1.565\n",
      "Epoch 50/100\n",
      "Training phase...\n"
     ]
    },
    {
     "name": "stderr",
     "output_type": "stream",
     "text": [
      "loss = 0.000: 100%|██████████| 59/59 [00:00<00:00, 174.73it/s]\n"
     ]
    },
    {
     "name": "stdout",
     "output_type": "stream",
     "text": [
      "train loss = 0.002\n",
      "Validation phase...\n"
     ]
    },
    {
     "name": "stderr",
     "output_type": "stream",
     "text": [
      "loss = 9.700: 100%|██████████| 17/17 [00:00<00:00, 283.33it/s]\n"
     ]
    },
    {
     "name": "stdout",
     "output_type": "stream",
     "text": [
      "validation loss = 1.571\n",
      "Epoch 51/100\n",
      "Training phase...\n"
     ]
    },
    {
     "name": "stderr",
     "output_type": "stream",
     "text": [
      "loss = 0.001: 100%|██████████| 59/59 [00:00<00:00, 168.96it/s]\n"
     ]
    },
    {
     "name": "stdout",
     "output_type": "stream",
     "text": [
      "train loss = 0.002\n",
      "Validation phase...\n"
     ]
    },
    {
     "name": "stderr",
     "output_type": "stream",
     "text": [
      "loss = 9.628: 100%|██████████| 17/17 [00:00<00:00, 414.60it/s]\n"
     ]
    },
    {
     "name": "stdout",
     "output_type": "stream",
     "text": [
      "validation loss = 1.545\n",
      "Epoch 52/100\n",
      "Training phase...\n"
     ]
    },
    {
     "name": "stderr",
     "output_type": "stream",
     "text": [
      "loss = 0.004: 100%|██████████| 59/59 [00:00<00:00, 176.79it/s]\n"
     ]
    },
    {
     "name": "stdout",
     "output_type": "stream",
     "text": [
      "train loss = 0.002\n",
      "Validation phase...\n"
     ]
    },
    {
     "name": "stderr",
     "output_type": "stream",
     "text": [
      "loss = 9.715: 100%|██████████| 17/17 [00:00<00:00, 429.30it/s]\n"
     ]
    },
    {
     "name": "stdout",
     "output_type": "stream",
     "text": [
      "validation loss = 1.587\n",
      "Epoch 53/100\n",
      "Training phase...\n"
     ]
    },
    {
     "name": "stderr",
     "output_type": "stream",
     "text": [
      "loss = 0.001: 100%|██████████| 59/59 [00:00<00:00, 182.30it/s]\n"
     ]
    },
    {
     "name": "stdout",
     "output_type": "stream",
     "text": [
      "train loss = 0.002\n",
      "Validation phase...\n"
     ]
    },
    {
     "name": "stderr",
     "output_type": "stream",
     "text": [
      "loss = 9.676: 100%|██████████| 17/17 [00:00<00:00, 404.77it/s]\n"
     ]
    },
    {
     "name": "stdout",
     "output_type": "stream",
     "text": [
      "validation loss = 1.567\n",
      "Epoch 54/100\n",
      "Training phase...\n"
     ]
    },
    {
     "name": "stderr",
     "output_type": "stream",
     "text": [
      "loss = 0.001: 100%|██████████| 59/59 [00:00<00:00, 160.34it/s]\n"
     ]
    },
    {
     "name": "stdout",
     "output_type": "stream",
     "text": [
      "train loss = 0.002\n",
      "Validation phase...\n"
     ]
    },
    {
     "name": "stderr",
     "output_type": "stream",
     "text": [
      "loss = 9.530: 100%|██████████| 17/17 [00:00<00:00, 395.24it/s]\n"
     ]
    },
    {
     "name": "stdout",
     "output_type": "stream",
     "text": [
      "validation loss = 1.522\n",
      "Epoch 55/100\n",
      "Training phase...\n"
     ]
    },
    {
     "name": "stderr",
     "output_type": "stream",
     "text": [
      "loss = 0.001: 100%|██████████| 59/59 [00:00<00:00, 183.52it/s]\n"
     ]
    },
    {
     "name": "stdout",
     "output_type": "stream",
     "text": [
      "train loss = 0.002\n",
      "Validation phase...\n"
     ]
    },
    {
     "name": "stderr",
     "output_type": "stream",
     "text": [
      "loss = 9.636: 100%|██████████| 17/17 [00:00<00:00, 414.64it/s]\n"
     ]
    },
    {
     "name": "stdout",
     "output_type": "stream",
     "text": [
      "validation loss = 1.576\n",
      "Epoch 56/100\n",
      "Training phase...\n"
     ]
    },
    {
     "name": "stderr",
     "output_type": "stream",
     "text": [
      "loss = 0.000: 100%|██████████| 59/59 [00:00<00:00, 174.86it/s]\n"
     ]
    },
    {
     "name": "stdout",
     "output_type": "stream",
     "text": [
      "train loss = 0.002\n",
      "Validation phase...\n"
     ]
    },
    {
     "name": "stderr",
     "output_type": "stream",
     "text": [
      "loss = 9.442: 100%|██████████| 17/17 [00:00<00:00, 386.37it/s]\n"
     ]
    },
    {
     "name": "stdout",
     "output_type": "stream",
     "text": [
      "validation loss = 1.505\n",
      "Epoch 57/100\n",
      "Training phase...\n"
     ]
    },
    {
     "name": "stderr",
     "output_type": "stream",
     "text": [
      "loss = 0.001: 100%|██████████| 59/59 [00:00<00:00, 183.55it/s]\n"
     ]
    },
    {
     "name": "stdout",
     "output_type": "stream",
     "text": [
      "train loss = 0.001\n",
      "Validation phase...\n"
     ]
    },
    {
     "name": "stderr",
     "output_type": "stream",
     "text": [
      "loss = 9.351: 100%|██████████| 17/17 [00:00<00:00, 361.72it/s]\n"
     ]
    },
    {
     "name": "stdout",
     "output_type": "stream",
     "text": [
      "validation loss = 1.474\n",
      "Epoch 58/100\n",
      "Training phase...\n"
     ]
    },
    {
     "name": "stderr",
     "output_type": "stream",
     "text": [
      "loss = 0.001: 100%|██████████| 59/59 [00:00<00:00, 140.81it/s]\n"
     ]
    },
    {
     "name": "stdout",
     "output_type": "stream",
     "text": [
      "train loss = 0.002\n",
      "Validation phase...\n"
     ]
    },
    {
     "name": "stderr",
     "output_type": "stream",
     "text": [
      "loss = 9.375: 100%|██████████| 17/17 [00:00<00:00, 414.64it/s]\n"
     ]
    },
    {
     "name": "stdout",
     "output_type": "stream",
     "text": [
      "validation loss = 1.479\n",
      "Epoch 59/100\n",
      "Training phase...\n"
     ]
    },
    {
     "name": "stderr",
     "output_type": "stream",
     "text": [
      "loss = 0.003: 100%|██████████| 59/59 [00:00<00:00, 154.44it/s]\n"
     ]
    },
    {
     "name": "stdout",
     "output_type": "stream",
     "text": [
      "train loss = 0.002\n",
      "Validation phase...\n"
     ]
    },
    {
     "name": "stderr",
     "output_type": "stream",
     "text": [
      "loss = 9.589: 100%|██████████| 17/17 [00:00<00:00, 279.15it/s]\n"
     ]
    },
    {
     "name": "stdout",
     "output_type": "stream",
     "text": [
      "validation loss = 1.566\n",
      "Epoch 60/100\n",
      "Training phase...\n"
     ]
    },
    {
     "name": "stderr",
     "output_type": "stream",
     "text": [
      "loss = 0.001: 100%|██████████| 59/59 [00:00<00:00, 151.56it/s]\n"
     ]
    },
    {
     "name": "stdout",
     "output_type": "stream",
     "text": [
      "train loss = 0.002\n",
      "Validation phase...\n"
     ]
    },
    {
     "name": "stderr",
     "output_type": "stream",
     "text": [
      "loss = 9.528: 100%|██████████| 17/17 [00:00<00:00, 406.02it/s]\n"
     ]
    },
    {
     "name": "stdout",
     "output_type": "stream",
     "text": [
      "validation loss = 1.546\n",
      "Epoch 61/100\n",
      "Training phase...\n"
     ]
    },
    {
     "name": "stderr",
     "output_type": "stream",
     "text": [
      "loss = 0.003: 100%|██████████| 59/59 [00:00<00:00, 178.00it/s]\n"
     ]
    },
    {
     "name": "stdout",
     "output_type": "stream",
     "text": [
      "train loss = 0.002\n",
      "Validation phase...\n"
     ]
    },
    {
     "name": "stderr",
     "output_type": "stream",
     "text": [
      "loss = 9.368: 100%|██████████| 17/17 [00:00<00:00, 447.35it/s]\n"
     ]
    },
    {
     "name": "stdout",
     "output_type": "stream",
     "text": [
      "validation loss = 1.480\n",
      "Epoch 62/100\n",
      "Training phase...\n"
     ]
    },
    {
     "name": "stderr",
     "output_type": "stream",
     "text": [
      "loss = 0.000: 100%|██████████| 59/59 [00:00<00:00, 183.11it/s]\n"
     ]
    },
    {
     "name": "stdout",
     "output_type": "stream",
     "text": [
      "train loss = 0.002\n",
      "Validation phase...\n"
     ]
    },
    {
     "name": "stderr",
     "output_type": "stream",
     "text": [
      "loss = 9.362: 100%|██████████| 17/17 [00:00<00:00, 395.34it/s]\n"
     ]
    },
    {
     "name": "stdout",
     "output_type": "stream",
     "text": [
      "validation loss = 1.482\n",
      "Epoch 63/100\n",
      "Training phase...\n"
     ]
    },
    {
     "name": "stderr",
     "output_type": "stream",
     "text": [
      "loss = 0.001: 100%|██████████| 59/59 [00:00<00:00, 172.21it/s]\n"
     ]
    },
    {
     "name": "stdout",
     "output_type": "stream",
     "text": [
      "train loss = 0.002\n",
      "Validation phase...\n"
     ]
    },
    {
     "name": "stderr",
     "output_type": "stream",
     "text": [
      "loss = 9.311: 100%|██████████| 17/17 [00:00<00:00, 425.01it/s]\n"
     ]
    },
    {
     "name": "stdout",
     "output_type": "stream",
     "text": [
      "validation loss = 1.472\n",
      "Epoch 64/100\n",
      "Training phase...\n"
     ]
    },
    {
     "name": "stderr",
     "output_type": "stream",
     "text": [
      "loss = 0.002: 100%|██████████| 59/59 [00:00<00:00, 185.38it/s]\n"
     ]
    },
    {
     "name": "stdout",
     "output_type": "stream",
     "text": [
      "train loss = 0.001\n",
      "Validation phase...\n"
     ]
    },
    {
     "name": "stderr",
     "output_type": "stream",
     "text": [
      "loss = 9.205: 100%|██████████| 17/17 [00:00<00:00, 435.89it/s]\n"
     ]
    },
    {
     "name": "stdout",
     "output_type": "stream",
     "text": [
      "validation loss = 1.439\n",
      "Epoch 65/100\n",
      "Training phase...\n"
     ]
    },
    {
     "name": "stderr",
     "output_type": "stream",
     "text": [
      "loss = 0.005: 100%|██████████| 59/59 [00:00<00:00, 160.10it/s]\n"
     ]
    },
    {
     "name": "stdout",
     "output_type": "stream",
     "text": [
      "train loss = 0.002\n",
      "Validation phase...\n"
     ]
    },
    {
     "name": "stderr",
     "output_type": "stream",
     "text": [
      "loss = 9.221: 100%|██████████| 17/17 [00:00<00:00, 381.81it/s]\n"
     ]
    },
    {
     "name": "stdout",
     "output_type": "stream",
     "text": [
      "validation loss = 1.450\n",
      "Epoch 66/100\n",
      "Training phase...\n"
     ]
    },
    {
     "name": "stderr",
     "output_type": "stream",
     "text": [
      "loss = 0.003: 100%|██████████| 59/59 [00:00<00:00, 163.22it/s]\n"
     ]
    },
    {
     "name": "stdout",
     "output_type": "stream",
     "text": [
      "train loss = 0.001\n",
      "Validation phase...\n"
     ]
    },
    {
     "name": "stderr",
     "output_type": "stream",
     "text": [
      "loss = 9.133: 100%|██████████| 17/17 [00:00<00:00, 395.22it/s]\n"
     ]
    },
    {
     "name": "stdout",
     "output_type": "stream",
     "text": [
      "validation loss = 1.428\n",
      "Epoch 67/100\n",
      "Training phase...\n"
     ]
    },
    {
     "name": "stderr",
     "output_type": "stream",
     "text": [
      "loss = 0.000: 100%|██████████| 59/59 [00:00<00:00, 180.81it/s]\n"
     ]
    },
    {
     "name": "stdout",
     "output_type": "stream",
     "text": [
      "train loss = 0.002\n",
      "Validation phase...\n"
     ]
    },
    {
     "name": "stderr",
     "output_type": "stream",
     "text": [
      "loss = 9.064: 100%|██████████| 17/17 [00:00<00:00, 447.35it/s]\n"
     ]
    },
    {
     "name": "stdout",
     "output_type": "stream",
     "text": [
      "validation loss = 1.407\n",
      "Epoch 68/100\n",
      "Training phase...\n"
     ]
    },
    {
     "name": "stderr",
     "output_type": "stream",
     "text": [
      "loss = 0.001: 100%|██████████| 59/59 [00:00<00:00, 167.97it/s]\n"
     ]
    },
    {
     "name": "stdout",
     "output_type": "stream",
     "text": [
      "train loss = 0.001\n",
      "Validation phase...\n"
     ]
    },
    {
     "name": "stderr",
     "output_type": "stream",
     "text": [
      "loss = 9.053: 100%|██████████| 17/17 [00:00<00:00, 435.88it/s]\n"
     ]
    },
    {
     "name": "stdout",
     "output_type": "stream",
     "text": [
      "validation loss = 1.407\n",
      "Epoch 69/100\n",
      "Training phase...\n"
     ]
    },
    {
     "name": "stderr",
     "output_type": "stream",
     "text": [
      "loss = 0.001: 100%|██████████| 59/59 [00:00<00:00, 174.29it/s]\n"
     ]
    },
    {
     "name": "stdout",
     "output_type": "stream",
     "text": [
      "train loss = 0.001\n",
      "Validation phase...\n"
     ]
    },
    {
     "name": "stderr",
     "output_type": "stream",
     "text": [
      "loss = 9.061: 100%|██████████| 17/17 [00:00<00:00, 357.56it/s]\n"
     ]
    },
    {
     "name": "stdout",
     "output_type": "stream",
     "text": [
      "validation loss = 1.416\n",
      "Epoch 70/100\n",
      "Training phase...\n"
     ]
    },
    {
     "name": "stderr",
     "output_type": "stream",
     "text": [
      "loss = 0.002: 100%|██████████| 59/59 [00:00<00:00, 169.55it/s]\n"
     ]
    },
    {
     "name": "stdout",
     "output_type": "stream",
     "text": [
      "train loss = 0.002\n",
      "Validation phase...\n"
     ]
    },
    {
     "name": "stderr",
     "output_type": "stream",
     "text": [
      "loss = 8.999: 100%|██████████| 17/17 [00:00<00:00, 404.38it/s]\n"
     ]
    },
    {
     "name": "stdout",
     "output_type": "stream",
     "text": [
      "validation loss = 1.396\n",
      "Epoch 71/100\n",
      "Training phase...\n"
     ]
    },
    {
     "name": "stderr",
     "output_type": "stream",
     "text": [
      "loss = 0.000: 100%|██████████| 59/59 [00:00<00:00, 177.19it/s]\n"
     ]
    },
    {
     "name": "stdout",
     "output_type": "stream",
     "text": [
      "train loss = 0.002\n",
      "Validation phase...\n"
     ]
    },
    {
     "name": "stderr",
     "output_type": "stream",
     "text": [
      "loss = 8.888: 100%|██████████| 17/17 [00:00<00:00, 447.38it/s]\n"
     ]
    },
    {
     "name": "stdout",
     "output_type": "stream",
     "text": [
      "validation loss = 1.365\n",
      "Epoch 72/100\n",
      "Training phase...\n"
     ]
    },
    {
     "name": "stderr",
     "output_type": "stream",
     "text": [
      "loss = 0.001: 100%|██████████| 59/59 [00:00<00:00, 170.77it/s]\n"
     ]
    },
    {
     "name": "stdout",
     "output_type": "stream",
     "text": [
      "train loss = 0.001\n",
      "Validation phase...\n"
     ]
    },
    {
     "name": "stderr",
     "output_type": "stream",
     "text": [
      "loss = 8.962: 100%|██████████| 17/17 [00:00<00:00, 369.57it/s]\n"
     ]
    },
    {
     "name": "stdout",
     "output_type": "stream",
     "text": [
      "validation loss = 1.389\n",
      "Epoch 73/100\n",
      "Training phase...\n"
     ]
    },
    {
     "name": "stderr",
     "output_type": "stream",
     "text": [
      "loss = 0.002: 100%|██████████| 59/59 [00:00<00:00, 179.46it/s]\n"
     ]
    },
    {
     "name": "stdout",
     "output_type": "stream",
     "text": [
      "train loss = 0.001\n",
      "Validation phase...\n"
     ]
    },
    {
     "name": "stderr",
     "output_type": "stream",
     "text": [
      "loss = 8.776: 100%|██████████| 17/17 [00:00<00:00, 447.38it/s]\n"
     ]
    },
    {
     "name": "stdout",
     "output_type": "stream",
     "text": [
      "validation loss = 1.341\n",
      "Epoch 74/100\n",
      "Training phase...\n"
     ]
    },
    {
     "name": "stderr",
     "output_type": "stream",
     "text": [
      "loss = 0.001: 100%|██████████| 59/59 [00:00<00:00, 179.82it/s]\n"
     ]
    },
    {
     "name": "stdout",
     "output_type": "stream",
     "text": [
      "train loss = 0.001\n",
      "Validation phase...\n"
     ]
    },
    {
     "name": "stderr",
     "output_type": "stream",
     "text": [
      "loss = 8.846: 100%|██████████| 17/17 [00:00<00:00, 472.26it/s]\n"
     ]
    },
    {
     "name": "stdout",
     "output_type": "stream",
     "text": [
      "validation loss = 1.364\n",
      "Epoch 75/100\n",
      "Training phase...\n"
     ]
    },
    {
     "name": "stderr",
     "output_type": "stream",
     "text": [
      "loss = 0.003: 100%|██████████| 59/59 [00:00<00:00, 157.94it/s]\n"
     ]
    },
    {
     "name": "stdout",
     "output_type": "stream",
     "text": [
      "train loss = 0.001\n",
      "Validation phase...\n"
     ]
    },
    {
     "name": "stderr",
     "output_type": "stream",
     "text": [
      "loss = 8.752: 100%|██████████| 17/17 [00:00<00:00, 447.37it/s]\n"
     ]
    },
    {
     "name": "stdout",
     "output_type": "stream",
     "text": [
      "validation loss = 1.335\n",
      "Epoch 76/100\n",
      "Training phase...\n"
     ]
    },
    {
     "name": "stderr",
     "output_type": "stream",
     "text": [
      "loss = 0.001: 100%|██████████| 59/59 [00:00<00:00, 177.71it/s]\n"
     ]
    },
    {
     "name": "stdout",
     "output_type": "stream",
     "text": [
      "train loss = 0.002\n",
      "Validation phase...\n"
     ]
    },
    {
     "name": "stderr",
     "output_type": "stream",
     "text": [
      "loss = 8.870: 100%|██████████| 17/17 [00:00<00:00, 408.66it/s]\n"
     ]
    },
    {
     "name": "stdout",
     "output_type": "stream",
     "text": [
      "validation loss = 1.370\n",
      "Epoch 77/100\n",
      "Training phase...\n"
     ]
    },
    {
     "name": "stderr",
     "output_type": "stream",
     "text": [
      "loss = 0.000: 100%|██████████| 59/59 [00:00<00:00, 166.38it/s]\n"
     ]
    },
    {
     "name": "stdout",
     "output_type": "stream",
     "text": [
      "train loss = 0.002\n",
      "Validation phase...\n"
     ]
    },
    {
     "name": "stderr",
     "output_type": "stream",
     "text": [
      "loss = 8.848: 100%|██████████| 17/17 [00:00<00:00, 377.78it/s]\n"
     ]
    },
    {
     "name": "stdout",
     "output_type": "stream",
     "text": [
      "validation loss = 1.369\n",
      "Epoch 78/100\n",
      "Training phase...\n"
     ]
    },
    {
     "name": "stderr",
     "output_type": "stream",
     "text": [
      "loss = 0.001: 100%|██████████| 59/59 [00:00<00:00, 141.36it/s]\n"
     ]
    },
    {
     "name": "stdout",
     "output_type": "stream",
     "text": [
      "train loss = 0.002\n",
      "Validation phase...\n"
     ]
    },
    {
     "name": "stderr",
     "output_type": "stream",
     "text": [
      "loss = 8.769: 100%|██████████| 17/17 [00:00<00:00, 452.04it/s]\n"
     ]
    },
    {
     "name": "stdout",
     "output_type": "stream",
     "text": [
      "validation loss = 1.343\n",
      "Epoch 79/100\n",
      "Training phase...\n"
     ]
    },
    {
     "name": "stderr",
     "output_type": "stream",
     "text": [
      "loss = 0.003: 100%|██████████| 59/59 [00:00<00:00, 178.99it/s]\n"
     ]
    },
    {
     "name": "stdout",
     "output_type": "stream",
     "text": [
      "train loss = 0.001\n",
      "Validation phase...\n"
     ]
    },
    {
     "name": "stderr",
     "output_type": "stream",
     "text": [
      "loss = 8.641: 100%|██████████| 17/17 [00:00<00:00, 447.38it/s]\n"
     ]
    },
    {
     "name": "stdout",
     "output_type": "stream",
     "text": [
      "validation loss = 1.308\n",
      "Epoch 80/100\n",
      "Training phase...\n"
     ]
    },
    {
     "name": "stderr",
     "output_type": "stream",
     "text": [
      "loss = 0.001: 100%|██████████| 59/59 [00:00<00:00, 172.39it/s]\n"
     ]
    },
    {
     "name": "stdout",
     "output_type": "stream",
     "text": [
      "train loss = 0.001\n",
      "Validation phase...\n"
     ]
    },
    {
     "name": "stderr",
     "output_type": "stream",
     "text": [
      "loss = 8.750: 100%|██████████| 17/17 [00:00<00:00, 395.40it/s]\n"
     ]
    },
    {
     "name": "stdout",
     "output_type": "stream",
     "text": [
      "validation loss = 1.338\n",
      "Epoch 81/100\n",
      "Training phase...\n"
     ]
    },
    {
     "name": "stderr",
     "output_type": "stream",
     "text": [
      "loss = 0.001: 100%|██████████| 59/59 [00:00<00:00, 183.64it/s]\n"
     ]
    },
    {
     "name": "stdout",
     "output_type": "stream",
     "text": [
      "train loss = 0.001\n",
      "Validation phase...\n"
     ]
    },
    {
     "name": "stderr",
     "output_type": "stream",
     "text": [
      "loss = 8.746: 100%|██████████| 17/17 [00:00<00:00, 421.35it/s]\n"
     ]
    },
    {
     "name": "stdout",
     "output_type": "stream",
     "text": [
      "validation loss = 1.338\n",
      "Epoch 82/100\n",
      "Training phase...\n"
     ]
    },
    {
     "name": "stderr",
     "output_type": "stream",
     "text": [
      "loss = 0.005: 100%|██████████| 59/59 [00:00<00:00, 183.27it/s]\n"
     ]
    },
    {
     "name": "stdout",
     "output_type": "stream",
     "text": [
      "train loss = 0.002\n",
      "Validation phase...\n"
     ]
    },
    {
     "name": "stderr",
     "output_type": "stream",
     "text": [
      "loss = 8.620: 100%|██████████| 17/17 [00:00<00:00, 425.01it/s]\n"
     ]
    },
    {
     "name": "stdout",
     "output_type": "stream",
     "text": [
      "validation loss = 1.301\n",
      "Epoch 83/100\n",
      "Training phase...\n"
     ]
    },
    {
     "name": "stderr",
     "output_type": "stream",
     "text": [
      "loss = 0.001: 100%|██████████| 59/59 [00:00<00:00, 164.22it/s]\n"
     ]
    },
    {
     "name": "stdout",
     "output_type": "stream",
     "text": [
      "train loss = 0.001\n",
      "Validation phase...\n"
     ]
    },
    {
     "name": "stderr",
     "output_type": "stream",
     "text": [
      "loss = 8.615: 100%|██████████| 17/17 [00:00<00:00, 404.74it/s]\n"
     ]
    },
    {
     "name": "stdout",
     "output_type": "stream",
     "text": [
      "validation loss = 1.306\n",
      "Epoch 84/100\n",
      "Training phase...\n"
     ]
    },
    {
     "name": "stderr",
     "output_type": "stream",
     "text": [
      "loss = 0.001: 100%|██████████| 59/59 [00:00<00:00, 169.00it/s]\n"
     ]
    },
    {
     "name": "stdout",
     "output_type": "stream",
     "text": [
      "train loss = 0.002\n",
      "Validation phase...\n"
     ]
    },
    {
     "name": "stderr",
     "output_type": "stream",
     "text": [
      "loss = 8.834: 100%|██████████| 17/17 [00:00<00:00, 377.41it/s]\n"
     ]
    },
    {
     "name": "stdout",
     "output_type": "stream",
     "text": [
      "validation loss = 1.371\n",
      "Epoch 85/100\n",
      "Training phase...\n"
     ]
    },
    {
     "name": "stderr",
     "output_type": "stream",
     "text": [
      "loss = 0.000: 100%|██████████| 59/59 [00:00<00:00, 166.87it/s]\n"
     ]
    },
    {
     "name": "stdout",
     "output_type": "stream",
     "text": [
      "train loss = 0.001\n",
      "Validation phase...\n"
     ]
    },
    {
     "name": "stderr",
     "output_type": "stream",
     "text": [
      "loss = 8.573: 100%|██████████| 17/17 [00:00<00:00, 457.25it/s]\n"
     ]
    },
    {
     "name": "stdout",
     "output_type": "stream",
     "text": [
      "validation loss = 1.292\n",
      "Epoch 86/100\n",
      "Training phase...\n"
     ]
    },
    {
     "name": "stderr",
     "output_type": "stream",
     "text": [
      "loss = 0.005: 100%|██████████| 59/59 [00:00<00:00, 172.50it/s]\n"
     ]
    },
    {
     "name": "stdout",
     "output_type": "stream",
     "text": [
      "train loss = 0.001\n",
      "Validation phase...\n"
     ]
    },
    {
     "name": "stderr",
     "output_type": "stream",
     "text": [
      "loss = 8.619: 100%|██████████| 17/17 [00:00<00:00, 436.14it/s]\n"
     ]
    },
    {
     "name": "stdout",
     "output_type": "stream",
     "text": [
      "validation loss = 1.307\n",
      "Epoch 87/100\n",
      "Training phase...\n"
     ]
    },
    {
     "name": "stderr",
     "output_type": "stream",
     "text": [
      "loss = 0.000: 100%|██████████| 59/59 [00:00<00:00, 177.97it/s]\n"
     ]
    },
    {
     "name": "stdout",
     "output_type": "stream",
     "text": [
      "train loss = 0.002\n",
      "Validation phase...\n"
     ]
    },
    {
     "name": "stderr",
     "output_type": "stream",
     "text": [
      "loss = 8.580: 100%|██████████| 17/17 [00:00<00:00, 435.91it/s]\n"
     ]
    },
    {
     "name": "stdout",
     "output_type": "stream",
     "text": [
      "validation loss = 1.301\n",
      "Epoch 88/100\n",
      "Training phase...\n"
     ]
    },
    {
     "name": "stderr",
     "output_type": "stream",
     "text": [
      "loss = 0.001: 100%|██████████| 59/59 [00:00<00:00, 167.00it/s]\n"
     ]
    },
    {
     "name": "stdout",
     "output_type": "stream",
     "text": [
      "train loss = 0.001\n",
      "Validation phase...\n"
     ]
    },
    {
     "name": "stderr",
     "output_type": "stream",
     "text": [
      "loss = 8.572: 100%|██████████| 17/17 [00:00<00:00, 184.78it/s]\n"
     ]
    },
    {
     "name": "stdout",
     "output_type": "stream",
     "text": [
      "validation loss = 1.307\n",
      "Epoch 89/100\n",
      "Training phase...\n"
     ]
    },
    {
     "name": "stderr",
     "output_type": "stream",
     "text": [
      "loss = 0.001: 100%|██████████| 59/59 [00:00<00:00, 142.89it/s]\n"
     ]
    },
    {
     "name": "stdout",
     "output_type": "stream",
     "text": [
      "train loss = 0.001\n",
      "Validation phase...\n"
     ]
    },
    {
     "name": "stderr",
     "output_type": "stream",
     "text": [
      "loss = 8.532: 100%|██████████| 17/17 [00:00<00:00, 361.70it/s]\n"
     ]
    },
    {
     "name": "stdout",
     "output_type": "stream",
     "text": [
      "validation loss = 1.295\n",
      "Epoch 90/100\n",
      "Training phase...\n"
     ]
    },
    {
     "name": "stderr",
     "output_type": "stream",
     "text": [
      "loss = 0.004: 100%|██████████| 59/59 [00:00<00:00, 156.34it/s]\n"
     ]
    },
    {
     "name": "stdout",
     "output_type": "stream",
     "text": [
      "train loss = 0.001\n",
      "Validation phase...\n"
     ]
    },
    {
     "name": "stderr",
     "output_type": "stream",
     "text": [
      "loss = 8.481: 100%|██████████| 17/17 [00:00<00:00, 386.38it/s]\n"
     ]
    },
    {
     "name": "stdout",
     "output_type": "stream",
     "text": [
      "validation loss = 1.282\n",
      "Epoch 91/100\n",
      "Training phase...\n"
     ]
    },
    {
     "name": "stderr",
     "output_type": "stream",
     "text": [
      "loss = 0.001: 100%|██████████| 59/59 [00:00<00:00, 173.53it/s]\n"
     ]
    },
    {
     "name": "stdout",
     "output_type": "stream",
     "text": [
      "train loss = 0.002\n",
      "Validation phase...\n"
     ]
    },
    {
     "name": "stderr",
     "output_type": "stream",
     "text": [
      "loss = 8.628: 100%|██████████| 17/17 [00:00<00:00, 404.77it/s]\n"
     ]
    },
    {
     "name": "stdout",
     "output_type": "stream",
     "text": [
      "validation loss = 1.323\n",
      "Epoch 92/100\n",
      "Training phase...\n"
     ]
    },
    {
     "name": "stderr",
     "output_type": "stream",
     "text": [
      "loss = 0.001: 100%|██████████| 59/59 [00:00<00:00, 180.37it/s]\n"
     ]
    },
    {
     "name": "stdout",
     "output_type": "stream",
     "text": [
      "train loss = 0.002\n",
      "Validation phase...\n"
     ]
    },
    {
     "name": "stderr",
     "output_type": "stream",
     "text": [
      "loss = 8.598: 100%|██████████| 17/17 [00:00<00:00, 395.35it/s]\n"
     ]
    },
    {
     "name": "stdout",
     "output_type": "stream",
     "text": [
      "validation loss = 1.309\n",
      "Epoch 93/100\n",
      "Training phase...\n"
     ]
    },
    {
     "name": "stderr",
     "output_type": "stream",
     "text": [
      "loss = 0.000: 100%|██████████| 59/59 [00:00<00:00, 174.67it/s]\n"
     ]
    },
    {
     "name": "stdout",
     "output_type": "stream",
     "text": [
      "train loss = 0.001\n",
      "Validation phase...\n"
     ]
    },
    {
     "name": "stderr",
     "output_type": "stream",
     "text": [
      "loss = 8.580: 100%|██████████| 17/17 [00:00<00:00, 365.42it/s]\n"
     ]
    },
    {
     "name": "stdout",
     "output_type": "stream",
     "text": [
      "validation loss = 1.313\n",
      "Epoch 94/100\n",
      "Training phase...\n"
     ]
    },
    {
     "name": "stderr",
     "output_type": "stream",
     "text": [
      "loss = 0.002: 100%|██████████| 59/59 [00:00<00:00, 170.36it/s]\n"
     ]
    },
    {
     "name": "stdout",
     "output_type": "stream",
     "text": [
      "train loss = 0.002\n",
      "Validation phase...\n"
     ]
    },
    {
     "name": "stderr",
     "output_type": "stream",
     "text": [
      "loss = 8.402: 100%|██████████| 17/17 [00:00<00:00, 407.34it/s]\n"
     ]
    },
    {
     "name": "stdout",
     "output_type": "stream",
     "text": [
      "validation loss = 1.257\n",
      "Epoch 95/100\n",
      "Training phase...\n"
     ]
    },
    {
     "name": "stderr",
     "output_type": "stream",
     "text": [
      "loss = 0.001: 100%|██████████| 59/59 [00:00<00:00, 155.22it/s]\n"
     ]
    },
    {
     "name": "stdout",
     "output_type": "stream",
     "text": [
      "train loss = 0.002\n",
      "Validation phase...\n"
     ]
    },
    {
     "name": "stderr",
     "output_type": "stream",
     "text": [
      "loss = 8.645: 100%|██████████| 17/17 [00:00<00:00, 386.26it/s]\n"
     ]
    },
    {
     "name": "stdout",
     "output_type": "stream",
     "text": [
      "validation loss = 1.336\n",
      "Epoch 96/100\n",
      "Training phase...\n"
     ]
    },
    {
     "name": "stderr",
     "output_type": "stream",
     "text": [
      "loss = 0.002: 100%|██████████| 59/59 [00:00<00:00, 177.83it/s]\n"
     ]
    },
    {
     "name": "stdout",
     "output_type": "stream",
     "text": [
      "train loss = 0.001\n",
      "Validation phase...\n"
     ]
    },
    {
     "name": "stderr",
     "output_type": "stream",
     "text": [
      "loss = 8.463: 100%|██████████| 17/17 [00:00<00:00, 336.38it/s]\n"
     ]
    },
    {
     "name": "stdout",
     "output_type": "stream",
     "text": [
      "validation loss = 1.277\n",
      "Epoch 97/100\n",
      "Training phase...\n"
     ]
    },
    {
     "name": "stderr",
     "output_type": "stream",
     "text": [
      "loss = 0.002: 100%|██████████| 59/59 [00:00<00:00, 167.30it/s]\n"
     ]
    },
    {
     "name": "stdout",
     "output_type": "stream",
     "text": [
      "train loss = 0.001\n",
      "Validation phase...\n"
     ]
    },
    {
     "name": "stderr",
     "output_type": "stream",
     "text": [
      "loss = 8.279: 100%|██████████| 17/17 [00:00<00:00, 404.50it/s]\n"
     ]
    },
    {
     "name": "stdout",
     "output_type": "stream",
     "text": [
      "validation loss = 1.226\n",
      "Epoch 98/100\n",
      "Training phase...\n"
     ]
    },
    {
     "name": "stderr",
     "output_type": "stream",
     "text": [
      "loss = 0.001: 100%|██████████| 59/59 [00:00<00:00, 174.10it/s]\n"
     ]
    },
    {
     "name": "stdout",
     "output_type": "stream",
     "text": [
      "train loss = 0.002\n",
      "Validation phase...\n"
     ]
    },
    {
     "name": "stderr",
     "output_type": "stream",
     "text": [
      "loss = 8.453: 100%|██████████| 17/17 [00:00<00:00, 395.38it/s]\n"
     ]
    },
    {
     "name": "stdout",
     "output_type": "stream",
     "text": [
      "validation loss = 1.278\n",
      "Epoch 99/100\n",
      "Training phase...\n"
     ]
    },
    {
     "name": "stderr",
     "output_type": "stream",
     "text": [
      "loss = 0.001: 100%|██████████| 59/59 [00:00<00:00, 173.61it/s]\n"
     ]
    },
    {
     "name": "stdout",
     "output_type": "stream",
     "text": [
      "train loss = 0.001\n",
      "Validation phase...\n"
     ]
    },
    {
     "name": "stderr",
     "output_type": "stream",
     "text": [
      "loss = 8.419: 100%|██████████| 17/17 [00:00<00:00, 309.09it/s]\n"
     ]
    },
    {
     "name": "stdout",
     "output_type": "stream",
     "text": [
      "validation loss = 1.279\n",
      "Epoch 100/100\n",
      "Training phase...\n"
     ]
    },
    {
     "name": "stderr",
     "output_type": "stream",
     "text": [
      "loss = 0.001: 100%|██████████| 59/59 [00:00<00:00, 172.81it/s]\n"
     ]
    },
    {
     "name": "stdout",
     "output_type": "stream",
     "text": [
      "train loss = 0.002\n",
      "Validation phase...\n"
     ]
    },
    {
     "name": "stderr",
     "output_type": "stream",
     "text": [
      "loss = 8.560: 100%|██████████| 17/17 [00:00<00:00, 377.77it/s]"
     ]
    },
    {
     "name": "stdout",
     "output_type": "stream",
     "text": [
      "validation loss = 1.324\n"
     ]
    },
    {
     "name": "stderr",
     "output_type": "stream",
     "text": [
      "\n"
     ]
    }
   ],
   "source": [
    "train_loss, val_loss = fit(model, train_loader, val_loader, optimizer, num_epochs=NUM_EPOCHS, device=DEVICE)"
   ]
  },
  {
   "cell_type": "code",
   "execution_count": 61,
   "metadata": {},
   "outputs": [
    {
     "data": {
      "image/png": "[encoded data removed]",
      "text/plain": [
       "<Figure size 432x288 with 1 Axes>"
      ]
     },
     "metadata": {
      "needs_background": "light"
     },
     "output_type": "display_data"
    }
   ],
   "source": [
    "plt.title('Train and validation losses')\n",
    "plt.plot(range(len(train_loss)), train_loss, label='train loss')\n",
    "plt.plot(range(len(val_loss)), val_loss, label='validation loss')\n",
    "plt.legend()\n",
    "plt.show()"
   ]
  },
  {
   "cell_type": "code",
   "execution_count": 62,
   "metadata": {},
   "outputs": [],
   "source": [
    "torch.save(model.state_dict(), r'C:\\Users\\João Ferreira\\Desktop\\FEUP\\2022_2023\\1S - 02 - MECD10 - Tópicos Avançados de Aprendizagem Computacional\\Projeto_TAAC\\Development\\model_GOOGL_2000_2022_infered.pt')"
   ]
  },
  {
   "cell_type": "code",
   "execution_count": 63,
   "metadata": {},
   "outputs": [
    {
     "name": "stderr",
     "output_type": "stream",
     "text": [
      "loss = 8.560: 100%|██████████| 17/17 [00:00<00:00, 361.60it/s]"
     ]
    },
    {
     "name": "stdout",
     "output_type": "stream",
     "text": [
      "Test loss = 1.324\n"
     ]
    },
    {
     "name": "stderr",
     "output_type": "stream",
     "text": [
      "\n"
     ]
    }
   ],
   "source": [
    "test_loss = evaluate(model, val_loader, device=DEVICE)\n",
    "print(f'Test loss = {test_loss:.3f}')"
   ]
  },
  {
   "cell_type": "code",
   "execution_count": 64,
   "metadata": {},
   "outputs": [],
   "source": [
    "def predict(model, data_loader, **kwargs):\n",
    "    num_steps = kwargs.get('num_steps', 24)\n",
    "    device = kwargs.get('device', torch.device('cpu'))\n",
    "    \n",
    "    model.eval()\n",
    "    preds = []\n",
    "    pbar = tqdm(enumerate(data_loader), total=len(data_loader))\n",
    "    for i, batch in pbar:\n",
    "        ## YOUR CODE HERE ##\n",
    "        batch['inputs'] = batch['inputs'].to(device)\n",
    "        with torch.no_grad():\n",
    "            preds_i = model(batch['inputs'], num_steps).cpu()\n",
    "        preds.extend([pred for pred in preds_i])\n",
    "        ## *** ##\n",
    "    return preds"
   ]
  },
  {
   "cell_type": "code",
   "execution_count": 65,
   "metadata": {},
   "outputs": [
    {
     "name": "stderr",
     "output_type": "stream",
     "text": [
      "100%|██████████| 9/9 [00:00<00:00, 562.48it/s]\n"
     ]
    }
   ],
   "source": [
    "test_preds = predict(model, test_loader, num_steps=TARGET_WIDTH, device=DEVICE)"
   ]
  },
  {
   "cell_type": "code",
   "execution_count": 66,
   "metadata": {},
   "outputs": [
    {
     "name": "stdout",
     "output_type": "stream",
     "text": [
      "132\n"
     ]
    },
    {
     "data": {
      "image/png": "[encoded data removed]",
      "text/plain": [
       "<Figure size 432x288 with 1 Axes>"
      ]
     },
     "metadata": {
      "needs_background": "light"
     },
     "output_type": "display_data"
    },
    {
     "data": {
      "image/png": "[encoded data removed]",
      "text/plain": [
       "<Figure size 432x288 with 1 Axes>"
      ]
     },
     "metadata": {
      "needs_background": "light"
     },
     "output_type": "display_data"
    },
    {
     "data": {
      "image/png": "[encoded data removed]",
      "text/plain": [
       "<Figure size 432x288 with 1 Axes>"
      ]
     },
     "metadata": {
      "needs_background": "light"
     },
     "output_type": "display_data"
    },
    {
     "data": {
      "image/png": "[encoded data removed]",
      "text/plain": [
       "<Figure size 432x288 with 1 Axes>"
      ]
     },
     "metadata": {
      "needs_background": "light"
     },
     "output_type": "display_data"
    }
   ],
   "source": [
    "idx = random.randint(0, len(test_data))\n",
    "print(len(test_data))\n",
    "inputs = test_data[idx]['inputs'].numpy()\n",
    "targets = test_data[idx]['targets'].numpy()\n",
    "preds = test_preds[idx].numpy()\n",
    "\n",
    "for i in [1, 2, 3, 4]:\n",
    "    plt.plot(range(INPUT_WIDTH), inputs[:,i], label='input')\n",
    "    plt.plot(range(INPUT_WIDTH, INPUT_WIDTH + TARGET_WIDTH), targets[:,i], label='target')\n",
    "    plt.plot(range(INPUT_WIDTH, INPUT_WIDTH + TARGET_WIDTH), preds[:,i], label='prediction')\n",
    "    plt.ylabel(test_df.columns[i])\n",
    "    plt.xlabel('Time')\n",
    "    plt.legend()\n",
    "    plt.show()"
   ]
  },
  {
   "cell_type": "markdown",
   "metadata": {},
   "source": [
    "# RNN"
   ]
  },
  {
   "cell_type": "code",
   "execution_count": null,
   "metadata": {},
   "outputs": [],
   "source": []
  },
  {
   "cell_type": "code",
   "execution_count": null,
   "metadata": {},
   "outputs": [],
   "source": []
  },
  {
   "cell_type": "code",
   "execution_count": null,
   "metadata": {},
   "outputs": [],
   "source": []
  }
 ],
 "metadata": {
  "kernelspec": {
   "display_name": "Python 3.7.9 64-bit",
   "language": "python",
   "name": "python3"
  },
  "language_info": {
   "codemirror_mode": {
    "name": "ipython",
    "version": 3
   },
   "file_extension": ".py",
   "mimetype": "text/x-python",
   "name": "python",
   "nbconvert_exporter": "python",
   "pygments_lexer": "ipython3",
   "version": "3.7.9"
  },
  "orig_nbformat": 4,
  "vscode": {
   "interpreter": {
    "hash": "5109d816b82be14675a6b11f8e0f0d2e80f029176ed3710d54e125caa8520dfd"
   }
  }
 },
 "nbformat": 4,
 "nbformat_minor": 2
}
