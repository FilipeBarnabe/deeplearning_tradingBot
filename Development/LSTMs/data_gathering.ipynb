{
 "cells": [
  {
   "cell_type": "code",
   "execution_count": 21,
   "metadata": {},
   "outputs": [],
   "source": [
    "# !pip install yfinance\n",
    "# !pip install pandas-datareader"
   ]
  },
  {
   "cell_type": "code",
   "execution_count": 1,
   "metadata": {},
   "outputs": [
    {
     "name": "stderr",
     "output_type": "stream",
     "text": [
      "c:\\Program Files\\Python37\\lib\\site-packages\\tqdm\\auto.py:22: TqdmWarning: IProgress not found. Please update jupyter and ipywidgets. See https://ipywidgets.readthedocs.io/en/stable/user_install.html\n",
      "  from .autonotebook import tqdm as notebook_tqdm\n"
     ]
    }
   ],
   "source": [
    "import pandas as pd\n",
    "from pandas_datareader import data\n",
    "# import yfinance as yf\n",
    "# pd.options.mode.chained_assignment = None\n",
    "import matplotlib.pyplot as plt\n",
    "import seaborn as sns\n",
    "# import os\n",
    "import random\n",
    "\n",
    "import torch\n",
    "# import matplotlib as mpl\n",
    "# import matplotlib.pyplot as plt\n",
    "import numpy as np\n",
    "# import pandas as pd\n",
    "# pd.options.mode.chained_assignment = None\n",
    "# import seaborn as sns\n",
    "from tqdm import tqdm"
   ]
  },
  {
   "cell_type": "code",
   "execution_count": 23,
   "metadata": {},
   "outputs": [],
   "source": [
    "# msft = yf.Ticker(\"MSFT\")\n",
    "# print(msft.info)\n",
    "# print(msft.stats())"
   ]
  },
  {
   "cell_type": "code",
   "execution_count": 2,
   "metadata": {},
   "outputs": [
    {
     "data": {
      "text/html": [
       "<div>\n",
       "<style scoped>\n",
       "    .dataframe tbody tr th:only-of-type {\n",
       "        vertical-align: middle;\n",
       "    }\n",
       "\n",
       "    .dataframe tbody tr th {\n",
       "        vertical-align: top;\n",
       "    }\n",
       "\n",
       "    .dataframe thead th {\n",
       "        text-align: right;\n",
       "    }\n",
       "</style>\n",
       "<table border=\"1\" class=\"dataframe\">\n",
       "  <thead>\n",
       "    <tr style=\"text-align: right;\">\n",
       "      <th></th>\n",
       "      <th>Date</th>\n",
       "      <th>High</th>\n",
       "      <th>Low</th>\n",
       "      <th>Open</th>\n",
       "      <th>Close</th>\n",
       "      <th>Volume</th>\n",
       "      <th>Adj Close</th>\n",
       "    </tr>\n",
       "  </thead>\n",
       "  <tbody>\n",
       "    <tr>\n",
       "      <th>0</th>\n",
       "      <td>2012-01-03</td>\n",
       "      <td>16.720470</td>\n",
       "      <td>16.325577</td>\n",
       "      <td>16.339840</td>\n",
       "      <td>16.651901</td>\n",
       "      <td>146912940.0</td>\n",
       "      <td>16.651901</td>\n",
       "    </tr>\n",
       "    <tr>\n",
       "      <th>1</th>\n",
       "      <td>2012-01-04</td>\n",
       "      <td>16.773024</td>\n",
       "      <td>16.532032</td>\n",
       "      <td>16.642391</td>\n",
       "      <td>16.723724</td>\n",
       "      <td>114445440.0</td>\n",
       "      <td>16.723724</td>\n",
       "    </tr>\n",
       "    <tr>\n",
       "      <th>2</th>\n",
       "      <td>2012-01-05</td>\n",
       "      <td>16.615866</td>\n",
       "      <td>16.422173</td>\n",
       "      <td>16.569820</td>\n",
       "      <td>16.491741</td>\n",
       "      <td>131184684.0</td>\n",
       "      <td>16.491741</td>\n",
       "    </tr>\n",
       "    <tr>\n",
       "      <th>3</th>\n",
       "      <td>2012-01-06</td>\n",
       "      <td>16.516518</td>\n",
       "      <td>16.261011</td>\n",
       "      <td>16.495245</td>\n",
       "      <td>16.266768</td>\n",
       "      <td>107608284.0</td>\n",
       "      <td>16.266768</td>\n",
       "    </tr>\n",
       "    <tr>\n",
       "      <th>4</th>\n",
       "      <td>2012-01-09</td>\n",
       "      <td>16.191191</td>\n",
       "      <td>15.546296</td>\n",
       "      <td>16.178679</td>\n",
       "      <td>15.577077</td>\n",
       "      <td>232671096.0</td>\n",
       "      <td>15.577077</td>\n",
       "    </tr>\n",
       "    <tr>\n",
       "      <th>...</th>\n",
       "      <td>...</td>\n",
       "      <td>...</td>\n",
       "      <td>...</td>\n",
       "      <td>...</td>\n",
       "      <td>...</td>\n",
       "      <td>...</td>\n",
       "      <td>...</td>\n",
       "    </tr>\n",
       "    <tr>\n",
       "      <th>2737</th>\n",
       "      <td>2022-11-16</td>\n",
       "      <td>99.639999</td>\n",
       "      <td>97.639999</td>\n",
       "      <td>97.900002</td>\n",
       "      <td>98.849998</td>\n",
       "      <td>29105200.0</td>\n",
       "      <td>98.849998</td>\n",
       "    </tr>\n",
       "    <tr>\n",
       "      <th>2738</th>\n",
       "      <td>2022-11-17</td>\n",
       "      <td>99.279999</td>\n",
       "      <td>96.790001</td>\n",
       "      <td>96.970001</td>\n",
       "      <td>98.360001</td>\n",
       "      <td>26052600.0</td>\n",
       "      <td>98.360001</td>\n",
       "    </tr>\n",
       "    <tr>\n",
       "      <th>2739</th>\n",
       "      <td>2022-11-18</td>\n",
       "      <td>98.900002</td>\n",
       "      <td>96.370003</td>\n",
       "      <td>98.769997</td>\n",
       "      <td>97.430000</td>\n",
       "      <td>28328800.0</td>\n",
       "      <td>97.430000</td>\n",
       "    </tr>\n",
       "    <tr>\n",
       "      <th>2740</th>\n",
       "      <td>2022-11-21</td>\n",
       "      <td>98.400002</td>\n",
       "      <td>95.360001</td>\n",
       "      <td>97.290001</td>\n",
       "      <td>95.599998</td>\n",
       "      <td>21647400.0</td>\n",
       "      <td>95.599998</td>\n",
       "    </tr>\n",
       "    <tr>\n",
       "      <th>2741</th>\n",
       "      <td>2022-11-22</td>\n",
       "      <td>97.220001</td>\n",
       "      <td>94.050003</td>\n",
       "      <td>95.949997</td>\n",
       "      <td>97.050003</td>\n",
       "      <td>21596600.0</td>\n",
       "      <td>97.050003</td>\n",
       "    </tr>\n",
       "  </tbody>\n",
       "</table>\n",
       "<p>2742 rows × 7 columns</p>\n",
       "</div>"
      ],
      "text/plain": [
       "           Date       High        Low       Open      Close       Volume  \\\n",
       "0    2012-01-03  16.720470  16.325577  16.339840  16.651901  146912940.0   \n",
       "1    2012-01-04  16.773024  16.532032  16.642391  16.723724  114445440.0   \n",
       "2    2012-01-05  16.615866  16.422173  16.569820  16.491741  131184684.0   \n",
       "3    2012-01-06  16.516518  16.261011  16.495245  16.266768  107608284.0   \n",
       "4    2012-01-09  16.191191  15.546296  16.178679  15.577077  232671096.0   \n",
       "...         ...        ...        ...        ...        ...          ...   \n",
       "2737 2022-11-16  99.639999  97.639999  97.900002  98.849998   29105200.0   \n",
       "2738 2022-11-17  99.279999  96.790001  96.970001  98.360001   26052600.0   \n",
       "2739 2022-11-18  98.900002  96.370003  98.769997  97.430000   28328800.0   \n",
       "2740 2022-11-21  98.400002  95.360001  97.290001  95.599998   21647400.0   \n",
       "2741 2022-11-22  97.220001  94.050003  95.949997  97.050003   21596600.0   \n",
       "\n",
       "      Adj Close  \n",
       "0     16.651901  \n",
       "1     16.723724  \n",
       "2     16.491741  \n",
       "3     16.266768  \n",
       "4     15.577077  \n",
       "...         ...  \n",
       "2737  98.849998  \n",
       "2738  98.360001  \n",
       "2739  97.430000  \n",
       "2740  95.599998  \n",
       "2741  97.050003  \n",
       "\n",
       "[2742 rows x 7 columns]"
      ]
     },
     "execution_count": 2,
     "metadata": {},
     "output_type": "execute_result"
    }
   ],
   "source": [
    "# Define the instruments to download. We would like to see Apple, Microsoft and the S&P500 index.\n",
    "tickers = ['^GSPC', 'APPL', 'MSFT']\n",
    "\n",
    "# We would like all available data from 01/01/2000 until 12/31/2016.\n",
    "start_date = '2012-01-01'  # '2014-01-01'  # 2012-10-21\n",
    "end_date = '2022-11-22'  # '2014-10-20'  # 2022\n",
    "\n",
    "# User pandas_reader.data.DataReader to load the desired data. As simple as that.\n",
    "panel_data = data.DataReader('GOOGL', 'yahoo', start_date, end_date)\n",
    "\n",
    "panel_data[panel_data.index.name] = panel_data.index\n",
    "panel_data.index.name = None\n",
    "panel_data = panel_data[['Date', 'High', 'Low', 'Open', 'Close', 'Volume', 'Adj Close']]\n",
    "panel_data.reset_index(drop=True, inplace=True)\n",
    "\n",
    "panel_data"
   ]
  },
  {
   "cell_type": "code",
   "execution_count": 3,
   "metadata": {},
   "outputs": [],
   "source": [
    "# panel_data.drop(columns=['Volume'], axis=1, inplace=True)\n",
    "# panel_data"
   ]
  },
  {
   "cell_type": "code",
   "execution_count": 4,
   "metadata": {},
   "outputs": [],
   "source": [
    "# panel_data.tail(10)"
   ]
  },
  {
   "cell_type": "code",
   "execution_count": 5,
   "metadata": {},
   "outputs": [],
   "source": [
    "date = pd.to_datetime(panel_data.pop('Date'), format='%Y-%m-%d')"
   ]
  },
  {
   "cell_type": "code",
   "execution_count": 28,
   "metadata": {},
   "outputs": [],
   "source": [
    "# introduzir datas em falta com valores nos dias em falta"
   ]
  },
  {
   "cell_type": "code",
   "execution_count": 6,
   "metadata": {},
   "outputs": [
    {
     "data": {
      "image/png": "[encoded data removed]",
      "text/plain": [
       "<Figure size 432x288 with 6 Axes>"
      ]
     },
     "metadata": {
      "needs_background": "light"
     },
     "output_type": "display_data"
    }
   ],
   "source": [
    "plot_cols = ['High', 'Low', 'Open', 'Close', 'Volume', 'Adj Close']\n",
    "# plot_cols = ['High', 'Low', 'Open', 'Close', 'Adj Close']\n",
    "plot_features = panel_data[plot_cols]\n",
    "plot_features.index = date\n",
    "_ = plot_features.plot(subplots=True)\n",
    "\n",
    "# plot_features = panel_data[plot_cols][:480]\n",
    "# plot_features.index = date[:480]\n",
    "# _ = plot_features.plot(subplots=True)"
   ]
  },
  {
   "cell_type": "code",
   "execution_count": null,
   "metadata": {},
   "outputs": [],
   "source": [
    "# panel_data.plot(y=\"High\")"
   ]
  },
  {
   "cell_type": "code",
   "execution_count": 7,
   "metadata": {},
   "outputs": [
    {
     "data": {
      "text/html": [
       "<div>\n",
       "<style scoped>\n",
       "    .dataframe tbody tr th:only-of-type {\n",
       "        vertical-align: middle;\n",
       "    }\n",
       "\n",
       "    .dataframe tbody tr th {\n",
       "        vertical-align: top;\n",
       "    }\n",
       "\n",
       "    .dataframe thead th {\n",
       "        text-align: right;\n",
       "    }\n",
       "</style>\n",
       "<table border=\"1\" class=\"dataframe\">\n",
       "  <thead>\n",
       "    <tr style=\"text-align: right;\">\n",
       "      <th></th>\n",
       "      <th>count</th>\n",
       "      <th>mean</th>\n",
       "      <th>std</th>\n",
       "      <th>min</th>\n",
       "      <th>25%</th>\n",
       "      <th>50%</th>\n",
       "      <th>75%</th>\n",
       "      <th>max</th>\n",
       "    </tr>\n",
       "  </thead>\n",
       "  <tbody>\n",
       "    <tr>\n",
       "      <th>High</th>\n",
       "      <td>2742.0</td>\n",
       "      <td>5.578487e+01</td>\n",
       "      <td>3.568820e+01</td>\n",
       "      <td>1.412713e+01</td>\n",
       "      <td>2.805366e+01</td>\n",
       "      <td>4.745150e+01</td>\n",
       "      <td>6.841362e+01</td>\n",
       "      <td>1.515465e+02</td>\n",
       "    </tr>\n",
       "    <tr>\n",
       "      <th>Low</th>\n",
       "      <td>2742.0</td>\n",
       "      <td>5.466618e+01</td>\n",
       "      <td>3.485777e+01</td>\n",
       "      <td>1.392693e+01</td>\n",
       "      <td>2.765193e+01</td>\n",
       "      <td>4.682000e+01</td>\n",
       "      <td>6.727075e+01</td>\n",
       "      <td>1.488990e+02</td>\n",
       "    </tr>\n",
       "    <tr>\n",
       "      <th>Open</th>\n",
       "      <td>2742.0</td>\n",
       "      <td>5.523522e+01</td>\n",
       "      <td>3.528297e+01</td>\n",
       "      <td>1.402252e+01</td>\n",
       "      <td>2.790234e+01</td>\n",
       "      <td>4.717275e+01</td>\n",
       "      <td>6.781787e+01</td>\n",
       "      <td>1.512500e+02</td>\n",
       "    </tr>\n",
       "    <tr>\n",
       "      <th>Close</th>\n",
       "      <td>2742.0</td>\n",
       "      <td>5.523770e+01</td>\n",
       "      <td>3.527372e+01</td>\n",
       "      <td>1.399024e+01</td>\n",
       "      <td>2.787362e+01</td>\n",
       "      <td>4.711875e+01</td>\n",
       "      <td>6.774137e+01</td>\n",
       "      <td>1.498385e+02</td>\n",
       "    </tr>\n",
       "    <tr>\n",
       "      <th>Volume</th>\n",
       "      <td>2742.0</td>\n",
       "      <td>4.856002e+07</td>\n",
       "      <td>3.564670e+07</td>\n",
       "      <td>9.312000e+06</td>\n",
       "      <td>2.761100e+07</td>\n",
       "      <td>3.627000e+07</td>\n",
       "      <td>5.842063e+07</td>\n",
       "      <td>4.971983e+08</td>\n",
       "    </tr>\n",
       "    <tr>\n",
       "      <th>Adj Close</th>\n",
       "      <td>2742.0</td>\n",
       "      <td>5.523770e+01</td>\n",
       "      <td>3.527372e+01</td>\n",
       "      <td>1.399024e+01</td>\n",
       "      <td>2.787362e+01</td>\n",
       "      <td>4.711875e+01</td>\n",
       "      <td>6.774137e+01</td>\n",
       "      <td>1.498385e+02</td>\n",
       "    </tr>\n",
       "  </tbody>\n",
       "</table>\n",
       "</div>"
      ],
      "text/plain": [
       "            count          mean           std           min           25%  \\\n",
       "High       2742.0  5.578487e+01  3.568820e+01  1.412713e+01  2.805366e+01   \n",
       "Low        2742.0  5.466618e+01  3.485777e+01  1.392693e+01  2.765193e+01   \n",
       "Open       2742.0  5.523522e+01  3.528297e+01  1.402252e+01  2.790234e+01   \n",
       "Close      2742.0  5.523770e+01  3.527372e+01  1.399024e+01  2.787362e+01   \n",
       "Volume     2742.0  4.856002e+07  3.564670e+07  9.312000e+06  2.761100e+07   \n",
       "Adj Close  2742.0  5.523770e+01  3.527372e+01  1.399024e+01  2.787362e+01   \n",
       "\n",
       "                    50%           75%           max  \n",
       "High       4.745150e+01  6.841362e+01  1.515465e+02  \n",
       "Low        4.682000e+01  6.727075e+01  1.488990e+02  \n",
       "Open       4.717275e+01  6.781787e+01  1.512500e+02  \n",
       "Close      4.711875e+01  6.774137e+01  1.498385e+02  \n",
       "Volume     3.627000e+07  5.842063e+07  4.971983e+08  \n",
       "Adj Close  4.711875e+01  6.774137e+01  1.498385e+02  "
      ]
     },
     "execution_count": 7,
     "metadata": {},
     "output_type": "execute_result"
    }
   ],
   "source": [
    "panel_data.describe().transpose()"
   ]
  },
  {
   "cell_type": "markdown",
   "metadata": {},
   "source": [
    "# LSTM"
   ]
  },
  {
   "cell_type": "code",
   "execution_count": null,
   "metadata": {},
   "outputs": [],
   "source": [
    "# Remove invalid values / Outliers\n",
    "# vol = panel_data['Volume']\n",
    "# out_vol = (vol == 52070.0)\n",
    "# vol[out_vol] = 0.0\n",
    "# out_vol = (vol == 39057.0)\n",
    "# vol[out_vol] = 0.0\n",
    "# out_vol = (vol == 16682.0)\n",
    "# vol[out_vol] = 0.0\n",
    "# out_vol = (vol == 14627.0)\n",
    "# vol[out_vol] = 0.0\n",
    "# out_vol = (vol == 13000.0)\n",
    "# vol[out_vol] = 0.0\n",
    "# out_vol = (vol == 12341.0)\n",
    "# vol[out_vol] = 0.0\n",
    "# out_vol = (vol == 10000.0)\n",
    "# vol[out_vol] = 0.0\n",
    "# out_vol = (vol == 3826.0)\n",
    "# vol[out_vol] = 0.0\n",
    "# out_vol = (vol == 3800.0)\n",
    "# vol[out_vol] = 0.0\n",
    "# out_vol = (vol == 2817.0)\n",
    "# vol[out_vol] = 0.0\n",
    "# out_vol = (vol == 2500.0)\n",
    "# vol[out_vol] = 0.0\n",
    "# out_vol = (vol == 2199.0)\n",
    "# vol[out_vol] = 0.0\n",
    "# out_vol = (vol == 2047.0)\n",
    "# vol[out_vol] = 0.0\n",
    "# out_vol = (vol == 1747.0)\n",
    "# vol[out_vol] = 0.0\n",
    "# out_vol = (vol == 1577.0)\n",
    "# vol[out_vol] = 0.0\n",
    "# out_vol = (vol == 1482.0)\n",
    "# vol[out_vol] = 0.0\n",
    "# out_vol = (vol == 1459.0)\n",
    "# vol[out_vol] = 0.0\n",
    "# out_vol = (vol == 1265.0)\n",
    "# vol[out_vol] = 0.0\n",
    "# out_vol = (vol == 1221.0)\n",
    "# vol[out_vol] = 0.0\n",
    "# out_vol = (vol == 1212.0)\n",
    "# vol[out_vol] = 0.0\n",
    "# out_vol = (vol == 1199.0)\n",
    "# vol[out_vol] = 0.0\n",
    "# out_vol = (vol == 1155.0)\n",
    "# vol[out_vol] = 0.0\n",
    "# out_vol = (vol == 1141.0)\n",
    "# vol[out_vol] = 0.0\n",
    "# out_vol = (vol == 1117.0)\n",
    "# vol[out_vol] = 0.0\n",
    "\n",
    "# # The above inplace edits are reflected in the DataFrame.\n",
    "# # panel_data['wv (m/s)'].min()\n",
    "# panel_data.describe().transpose()"
   ]
  },
  {
   "cell_type": "code",
   "execution_count": 17,
   "metadata": {},
   "outputs": [],
   "source": [
    "column_indices = {name: i for i, name in enumerate(panel_data.columns)}\n",
    "\n",
    "n = len(panel_data)\n",
    "train_df = panel_data[0:int(n*0.7)]\n",
    "val_df = panel_data[int(n*0.7):int(n*0.9)]\n",
    "test_df = panel_data[int(n*0.9):]\n",
    "\n",
    "num_features = panel_data.shape[1]"
   ]
  },
  {
   "cell_type": "code",
   "execution_count": 18,
   "metadata": {},
   "outputs": [
    {
     "data": {
      "text/plain": [
       "36.35653071629622"
      ]
     },
     "execution_count": 18,
     "metadata": {},
     "output_type": "execute_result"
    }
   ],
   "source": [
    "train_df['High'].mean()"
   ]
  },
  {
   "cell_type": "code",
   "execution_count": 12,
   "metadata": {},
   "outputs": [
    {
     "data": {
      "text/html": [
       "<div>\n",
       "<style scoped>\n",
       "    .dataframe tbody tr th:only-of-type {\n",
       "        vertical-align: middle;\n",
       "    }\n",
       "\n",
       "    .dataframe tbody tr th {\n",
       "        vertical-align: top;\n",
       "    }\n",
       "\n",
       "    .dataframe thead th {\n",
       "        text-align: right;\n",
       "    }\n",
       "</style>\n",
       "<table border=\"1\" class=\"dataframe\">\n",
       "  <thead>\n",
       "    <tr style=\"text-align: right;\">\n",
       "      <th></th>\n",
       "      <th>count</th>\n",
       "      <th>mean</th>\n",
       "      <th>std</th>\n",
       "      <th>min</th>\n",
       "      <th>25%</th>\n",
       "      <th>50%</th>\n",
       "      <th>75%</th>\n",
       "      <th>max</th>\n",
       "    </tr>\n",
       "  </thead>\n",
       "  <tbody>\n",
       "    <tr>\n",
       "      <th>High</th>\n",
       "      <td>1919.0</td>\n",
       "      <td>3.635653e+01</td>\n",
       "      <td>1.439159e+01</td>\n",
       "      <td>1.412713e+01</td>\n",
       "      <td>2.591029e+01</td>\n",
       "      <td>3.520000e+01</td>\n",
       "      <td>4.973850e+01</td>\n",
       "      <td>6.484850e+01</td>\n",
       "    </tr>\n",
       "    <tr>\n",
       "      <th>Low</th>\n",
       "      <td>1919.0</td>\n",
       "      <td>3.573206e+01</td>\n",
       "      <td>1.411798e+01</td>\n",
       "      <td>1.392693e+01</td>\n",
       "      <td>2.547400e+01</td>\n",
       "      <td>3.438900e+01</td>\n",
       "      <td>4.888850e+01</td>\n",
       "      <td>6.358550e+01</td>\n",
       "    </tr>\n",
       "    <tr>\n",
       "      <th>Open</th>\n",
       "      <td>1919.0</td>\n",
       "      <td>3.605752e+01</td>\n",
       "      <td>1.425604e+01</td>\n",
       "      <td>1.402252e+01</td>\n",
       "      <td>2.576176e+01</td>\n",
       "      <td>3.471300e+01</td>\n",
       "      <td>4.937725e+01</td>\n",
       "      <td>6.445600e+01</td>\n",
       "    </tr>\n",
       "    <tr>\n",
       "      <th>Close</th>\n",
       "      <td>1919.0</td>\n",
       "      <td>3.605477e+01</td>\n",
       "      <td>1.426122e+01</td>\n",
       "      <td>1.399024e+01</td>\n",
       "      <td>2.569007e+01</td>\n",
       "      <td>3.476750e+01</td>\n",
       "      <td>4.937225e+01</td>\n",
       "      <td>6.481000e+01</td>\n",
       "    </tr>\n",
       "    <tr>\n",
       "      <th>Volume</th>\n",
       "      <td>1919.0</td>\n",
       "      <td>5.469261e+07</td>\n",
       "      <td>3.987748e+07</td>\n",
       "      <td>1.041200e+07</td>\n",
       "      <td>2.979600e+07</td>\n",
       "      <td>4.077000e+07</td>\n",
       "      <td>7.113080e+07</td>\n",
       "      <td>4.971983e+08</td>\n",
       "    </tr>\n",
       "    <tr>\n",
       "      <th>Adj Close</th>\n",
       "      <td>1919.0</td>\n",
       "      <td>3.605477e+01</td>\n",
       "      <td>1.426122e+01</td>\n",
       "      <td>1.399024e+01</td>\n",
       "      <td>2.569007e+01</td>\n",
       "      <td>3.476750e+01</td>\n",
       "      <td>4.937225e+01</td>\n",
       "      <td>6.481000e+01</td>\n",
       "    </tr>\n",
       "  </tbody>\n",
       "</table>\n",
       "</div>"
      ],
      "text/plain": [
       "            count          mean           std           min           25%  \\\n",
       "High       1919.0  3.635653e+01  1.439159e+01  1.412713e+01  2.591029e+01   \n",
       "Low        1919.0  3.573206e+01  1.411798e+01  1.392693e+01  2.547400e+01   \n",
       "Open       1919.0  3.605752e+01  1.425604e+01  1.402252e+01  2.576176e+01   \n",
       "Close      1919.0  3.605477e+01  1.426122e+01  1.399024e+01  2.569007e+01   \n",
       "Volume     1919.0  5.469261e+07  3.987748e+07  1.041200e+07  2.979600e+07   \n",
       "Adj Close  1919.0  3.605477e+01  1.426122e+01  1.399024e+01  2.569007e+01   \n",
       "\n",
       "                    50%           75%           max  \n",
       "High       3.520000e+01  4.973850e+01  6.484850e+01  \n",
       "Low        3.438900e+01  4.888850e+01  6.358550e+01  \n",
       "Open       3.471300e+01  4.937725e+01  6.445600e+01  \n",
       "Close      3.476750e+01  4.937225e+01  6.481000e+01  \n",
       "Volume     4.077000e+07  7.113080e+07  4.971983e+08  \n",
       "Adj Close  3.476750e+01  4.937225e+01  6.481000e+01  "
      ]
     },
     "execution_count": 12,
     "metadata": {},
     "output_type": "execute_result"
    }
   ],
   "source": [
    "train_df.describe().transpose()"
   ]
  },
  {
   "cell_type": "code",
   "execution_count": 13,
   "metadata": {},
   "outputs": [],
   "source": [
    "train_mean = train_df.mean()\n",
    "train_std = train_df.std()\n",
    "\n",
    "train_df = (train_df - train_mean) / train_std\n",
    "val_df = (val_df - train_mean) / train_std\n",
    "test_df = (test_df - train_mean) / train_std\n"
   ]
  },
  {
   "cell_type": "code",
   "execution_count": 19,
   "metadata": {},
   "outputs": [
    {
     "data": {
      "text/plain": [
       "<AxesSubplot:>"
      ]
     },
     "execution_count": 19,
     "metadata": {},
     "output_type": "execute_result"
    },
    {
     "data": {
      "image/png": "[encoded data removed]",
      "text/plain": [
       "<Figure size 432x288 with 1 Axes>"
      ]
     },
     "metadata": {
      "needs_background": "light"
     },
     "output_type": "display_data"
    }
   ],
   "source": [
    "train_df['Close'].plot()"
   ]
  },
  {
   "cell_type": "code",
   "execution_count": 16,
   "metadata": {},
   "outputs": [
    {
     "data": {
      "text/plain": [
       "<AxesSubplot:>"
      ]
     },
     "execution_count": 16,
     "metadata": {},
     "output_type": "execute_result"
    },
    {
     "data": {
      "image/png": "[encoded data removed]",
      "text/plain": [
       "<Figure size 432x288 with 1 Axes>"
      ]
     },
     "metadata": {
      "needs_background": "light"
     },
     "output_type": "display_data"
    }
   ],
   "source": [
    "train_df['Close'].plot()"
   ]
  },
  {
   "cell_type": "code",
   "execution_count": 18,
   "metadata": {},
   "outputs": [
    {
     "data": {
      "text/plain": [
       "High         3.635653e+01\n",
       "Low          3.573206e+01\n",
       "Open         3.605752e+01\n",
       "Close        3.605477e+01\n",
       "Volume       5.469261e+07\n",
       "Adj Close    3.605477e+01\n",
       "dtype: float64"
      ]
     },
     "execution_count": 18,
     "metadata": {},
     "output_type": "execute_result"
    }
   ],
   "source": [
    "train_mean"
   ]
  },
  {
   "cell_type": "code",
   "execution_count": 19,
   "metadata": {},
   "outputs": [
    {
     "data": {
      "text/plain": [
       "High         1.439159e+01\n",
       "Low          1.411798e+01\n",
       "Open         1.425604e+01\n",
       "Close        1.426122e+01\n",
       "Volume       3.987748e+07\n",
       "Adj Close    1.426122e+01\n",
       "dtype: float64"
      ]
     },
     "execution_count": 19,
     "metadata": {},
     "output_type": "execute_result"
    }
   ],
   "source": [
    "train_std"
   ]
  },
  {
   "cell_type": "code",
   "execution_count": 20,
   "metadata": {},
   "outputs": [
    {
     "data": {
      "image/png": "[encoded data removed]",
      "text/plain": [
       "<Figure size 864x432 with 1 Axes>"
      ]
     },
     "metadata": {
      "needs_background": "light"
     },
     "output_type": "display_data"
    }
   ],
   "source": [
    "# Look at normalized data\n",
    "df_std = (panel_data - train_mean) / train_std\n",
    "df_std = df_std.melt(var_name='Column', value_name='Normalized')\n",
    "plt.figure(figsize=(12, 6))\n",
    "ax = sns.violinplot(x='Column', y='Normalized', data=df_std)\n",
    "_ = ax.set_xticklabels(panel_data.keys(), rotation=90)"
   ]
  },
  {
   "cell_type": "markdown",
   "metadata": {},
   "source": [
    "## LSTM"
   ]
  },
  {
   "cell_type": "code",
   "execution_count": 21,
   "metadata": {},
   "outputs": [],
   "source": [
    "class TickerData(torch.utils.data.Dataset):\n",
    "    def __init__(self, df, input_width, target_width):\n",
    "        ## YOUR CODE HERE ##\n",
    "        data_np = np.array(df)\n",
    "        self.inputs = [torch.FloatTensor(data_np[i : i + input_width])\n",
    "                       for i in range(0, len(data_np) - input_width, input_width)]\n",
    "        self.targets = [torch.FloatTensor(data_np[i : i + target_width])\n",
    "                        for i in range(input_width, len(data_np) - target_width, input_width)]\n",
    "        ## *** ##               \n",
    "    def __getitem__(self, idx):\n",
    "        return {'inputs': self.inputs[idx],\n",
    "                'targets': self.targets[idx]}\n",
    "    \n",
    "    def __len__(self):\n",
    "        return min(len(self.inputs), len(self.targets))"
   ]
  },
  {
   "cell_type": "code",
   "execution_count": 22,
   "metadata": {},
   "outputs": [],
   "source": [
    "# We will use the observations of the previous 24 hours to predict the temperature for the next 24 hours. (7 days)\n",
    "# Thus, we will set both `input_width` and `target_width` to 24 in the instances of the dataset.\n",
    "\n",
    "INPUT_WIDTH = 5  # 7  # 24\n",
    "TARGET_WIDTH = 3  # 7  # 24\n",
    "\n",
    "train_data = TickerData(train_df, INPUT_WIDTH, TARGET_WIDTH)\n",
    "val_data = TickerData(val_df, INPUT_WIDTH, TARGET_WIDTH)\n",
    "test_data = TickerData(test_df, INPUT_WIDTH, TARGET_WIDTH)"
   ]
  },
  {
   "cell_type": "code",
   "execution_count": 24,
   "metadata": {},
   "outputs": [
    {
     "data": {
      "image/png": "[encoded data removed]",
      "text/plain": [
       "<Figure size 432x288 with 1 Axes>"
      ]
     },
     "metadata": {
      "needs_background": "light"
     },
     "output_type": "display_data"
    },
    {
     "data": {
      "image/png": "[encoded data removed]",
      "text/plain": [
       "<Figure size 432x288 with 1 Axes>"
      ]
     },
     "metadata": {
      "needs_background": "light"
     },
     "output_type": "display_data"
    },
    {
     "data": {
      "image/png": "[encoded data removed]",
      "text/plain": [
       "<Figure size 432x288 with 1 Axes>"
      ]
     },
     "metadata": {
      "needs_background": "light"
     },
     "output_type": "display_data"
    },
    {
     "data": {
      "image/png": "[encoded data removed]",
      "text/plain": [
       "<Figure size 432x288 with 1 Axes>"
      ]
     },
     "metadata": {
      "needs_background": "light"
     },
     "output_type": "display_data"
    },
    {
     "data": {
      "image/png": "[encoded data removed]",
      "text/plain": [
       "<Figure size 432x288 with 1 Axes>"
      ]
     },
     "metadata": {
      "needs_background": "light"
     },
     "output_type": "display_data"
    },
    {
     "data": {
      "image/png": "[encoded data removed]",
      "text/plain": [
       "<Figure size 432x288 with 1 Axes>"
      ]
     },
     "metadata": {
      "needs_background": "light"
     },
     "output_type": "display_data"
    }
   ],
   "source": [
    "# Let's visualize some examples\n",
    "idx = random.randint(0, len(train_data))\n",
    "inputs = train_data[idx]['inputs'].numpy()\n",
    "targets = train_data[idx]['targets'].numpy()\n",
    "\n",
    "for i in range(len(train_df.columns)):\n",
    "    plt.plot(range(INPUT_WIDTH), inputs[:,i], label='input')\n",
    "    plt.plot(range(INPUT_WIDTH, INPUT_WIDTH + TARGET_WIDTH), targets[:,i], label='target')\n",
    "    plt.ylabel(train_df.columns[i])\n",
    "    plt.xlabel('Time')\n",
    "    plt.legend()\n",
    "    plt.show()"
   ]
  },
  {
   "cell_type": "code",
   "execution_count": 25,
   "metadata": {},
   "outputs": [],
   "source": [
    "class TickerPredictor(torch.nn.Module):\n",
    "    def __init__(self, num_features, hidden_size):\n",
    "        super().__init__()\n",
    "        self.hidden_size = hidden_size\n",
    "        # instantiate a torch.nn.LSTMCell and a torch.nn.Linear layer\n",
    "        ## YOUR CODE HERE ##\n",
    "        self.lstm = torch.nn.LSTMCell(num_features, hidden_size)\n",
    "        self.linear = torch.nn.Linear(hidden_size, num_features)\n",
    "        ## *** ##\n",
    "        \n",
    "    def forward(self, inputs, num_steps):\n",
    "        inputs = inputs.transpose(0, 1)  # batch, time, dim -> time, batch, dim\n",
    "        \n",
    "        # we initialize the internal states of the LSTM with zeros\n",
    "        hx = torch.zeros((inputs.shape[1], self.hidden_size), device=inputs.device)\n",
    "        cx = torch.zeros((inputs.shape[1], self.hidden_size), device=inputs.device)\n",
    "        \n",
    "        # warmup: feed the inputs through the LSTM one by one from t = 0 up to t = T-1\n",
    "        ## YOUR CODE HERE ##\n",
    "        for t in range(inputs.shape[0] - 1):\n",
    "            hx, cx = self.lstm(inputs[t], (hx, cx))\n",
    "        ## *** ##\n",
    "        \n",
    "        # predict num_steps into the future autoregressively\n",
    "        outputs = []\n",
    "        input_t = inputs[-1]\n",
    "        ## YOUR CODE HERE ##\n",
    "        for t in range(num_steps):\n",
    "            hx, cx = self.lstm(input_t, (hx, cx))\n",
    "            output_t = self.linear(hx)\n",
    "            outputs.append(output_t)\n",
    "            input_t = output_t\n",
    "        ## *** ##\n",
    "        \n",
    "        # stack the list of outputs into a single tensor\n",
    "        outputs = torch.stack(outputs)\n",
    "        \n",
    "        outputs = outputs.transpose(0, 1)  # time, batch, dim -> batch, time, dim\n",
    "        return outputs\n",
    "        "
   ]
  },
  {
   "cell_type": "code",
   "execution_count": 26,
   "metadata": {},
   "outputs": [],
   "source": [
    "def evaluate(model, data_loader, **kwargs):\n",
    "    loss_fn = kwargs.get('loss_fn', torch.nn.functional.mse_loss)\n",
    "    device = kwargs.get('device', torch.device('cpu'))\n",
    "    \n",
    "    model.eval()\n",
    "    pbar = tqdm(enumerate(data_loader), total=len(data_loader))\n",
    "    avg_loss = 0.\n",
    "    for i, batch in pbar:\n",
    "        ## YOUR CODE HERE ##\n",
    "        batch['inputs'] = batch['inputs'].to(device)\n",
    "        batch['targets'] = batch['targets'].to(device)\n",
    "        num_steps = batch['targets'].shape[1]\n",
    "        with torch.no_grad():\n",
    "            preds = model(batch['inputs'], num_steps)\n",
    "        loss = loss_fn(preds, batch['targets'])\n",
    "        avg_loss += loss.item()\n",
    "        ## *** ##\n",
    "        pbar.set_description(f'loss = {loss:.3f}')\n",
    "    avg_loss /= len(data_loader)\n",
    "    return avg_loss\n",
    "\n",
    "def fit(model, train_loader, val_loader, optimizer, **kwargs):\n",
    "    num_epochs = kwargs.get('num_epochs', 100)\n",
    "    loss_fn = kwargs.get('loss_fn', torch.nn.functional.mse_loss)\n",
    "    device = kwargs.get('device', torch.device('cpu'))\n",
    "    \n",
    "    train_loss_hist, val_loss_hist = [], []\n",
    "    for epoch in range(num_epochs):\n",
    "        print(f'Epoch {epoch + 1}/{num_epochs}')\n",
    "        \n",
    "        print('Training phase...')\n",
    "        model.train()\n",
    "        train_loss = 0.\n",
    "        pbar = tqdm(enumerate(train_loader), total=len(train_loader))\n",
    "        for i, batch in pbar:\n",
    "            ## YOUR CODE HERE ##\n",
    "            batch['inputs'] = batch['inputs'].to(device)\n",
    "            batch['targets'] = batch['targets'].to(device)\n",
    "            model.zero_grad()\n",
    "            num_steps = batch['targets'].shape[1]\n",
    "            preds = model(batch['inputs'], num_steps)\n",
    "            loss = loss_fn(preds, batch['targets'])\n",
    "            loss.backward()\n",
    "            optimizer.step()\n",
    "            ## *** ##\n",
    "            train_loss += loss.item()\n",
    "            pbar.set_description(f'loss = {loss:.3f}')\n",
    "        train_loss /= len(train_loader)\n",
    "        print(f'train loss = {train_loss:.3f}')\n",
    "        train_loss_hist.append(train_loss)\n",
    "        \n",
    "        print('Validation phase...')\n",
    "        val_loss = evaluate(model, val_loader, loss_fn=loss_fn, device=device)\n",
    "        print(f'validation loss = {val_loss:.3f}')\n",
    "        val_loss_hist.append(val_loss)\n",
    "        \n",
    "    return train_loss_hist, val_loss_hist\n",
    "        "
   ]
  },
  {
   "cell_type": "code",
   "execution_count": 27,
   "metadata": {},
   "outputs": [
    {
     "name": "stdout",
     "output_type": "stream",
     "text": [
      "DEVICE: cuda\n"
     ]
    }
   ],
   "source": [
    "HIDDEN_SIZE = 32\n",
    "LEARNING_RATE = 1e-3\n",
    "NUM_EPOCHS = 100\n",
    "BATCH_SIZE = 16\n",
    "\n",
    "if torch.cuda.is_available():\n",
    "    DEVICE = torch.device('cuda')\n",
    "# elif torch.backends.mps.is_available():\n",
    "#     DEVICE = torch.device('mps')\n",
    "else:\n",
    "    DEVICE = torch.device('cpu')\n",
    "print('DEVICE:', DEVICE)\n",
    "\n",
    "train_loader = torch.utils.data.DataLoader(train_data, batch_size=BATCH_SIZE, shuffle=True)\n",
    "val_loader = torch.utils.data.DataLoader(val_data, batch_size=BATCH_SIZE)\n",
    "test_loader = torch.utils.data.DataLoader(test_data, batch_size=BATCH_SIZE)\n",
    "\n",
    "model = TickerPredictor(train_data[0]['inputs'].shape[1], HIDDEN_SIZE).to(DEVICE)\n",
    "optimizer = torch.optim.Adam(model.parameters(), lr=LEARNING_RATE)"
   ]
  },
  {
   "cell_type": "code",
   "execution_count": 28,
   "metadata": {},
   "outputs": [
    {
     "name": "stdout",
     "output_type": "stream",
     "text": [
      "Epoch 1/100\n",
      "Training phase...\n"
     ]
    },
    {
     "name": "stderr",
     "output_type": "stream",
     "text": [
      "loss = 402241605337088.000: 100%|██████████| 24/24 [00:11<00:00,  2.04it/s] \n"
     ]
    },
    {
     "name": "stdout",
     "output_type": "stream",
     "text": [
      "train loss = 807070411172522.625\n",
      "Validation phase...\n"
     ]
    },
    {
     "name": "stderr",
     "output_type": "stream",
     "text": [
      "loss = 137225815719936.000: 100%|██████████| 7/7 [00:00<00:00, 86.42it/s]\n"
     ]
    },
    {
     "name": "stdout",
     "output_type": "stream",
     "text": [
      "validation loss = 227007218881097.156\n",
      "Epoch 2/100\n",
      "Training phase...\n"
     ]
    },
    {
     "name": "stderr",
     "output_type": "stream",
     "text": [
      "loss = 778459265630208.000: 100%|██████████| 24/24 [00:00<00:00, 31.31it/s] \n"
     ]
    },
    {
     "name": "stdout",
     "output_type": "stream",
     "text": [
      "train loss = 808050153051477.375\n",
      "Validation phase...\n"
     ]
    },
    {
     "name": "stderr",
     "output_type": "stream",
     "text": [
      "loss = 137225790554112.000: 100%|██████████| 7/7 [00:00<00:00, 88.61it/s]\n"
     ]
    },
    {
     "name": "stdout",
     "output_type": "stream",
     "text": [
      "validation loss = 227007208095744.000\n",
      "Epoch 3/100\n",
      "Training phase...\n"
     ]
    },
    {
     "name": "stderr",
     "output_type": "stream",
     "text": [
      "loss = 586122040180736.000: 100%|██████████| 24/24 [00:00<00:00, 33.34it/s] \n"
     ]
    },
    {
     "name": "stdout",
     "output_type": "stream",
     "text": [
      "train loss = 807549251092480.000\n",
      "Validation phase...\n"
     ]
    },
    {
     "name": "stderr",
     "output_type": "stream",
     "text": [
      "loss = 137225773776896.000: 100%|██████████| 7/7 [00:00<00:00, 77.78it/s]\n"
     ]
    },
    {
     "name": "stdout",
     "output_type": "stream",
     "text": [
      "validation loss = 227007178136429.719\n",
      "Epoch 4/100\n",
      "Training phase...\n"
     ]
    },
    {
     "name": "stderr",
     "output_type": "stream",
     "text": [
      "loss = 549451206754304.000: 100%|██████████| 24/24 [00:00<00:00, 30.92it/s] \n"
     ]
    },
    {
     "name": "stdout",
     "output_type": "stream",
     "text": [
      "train loss = 807453697856853.375\n",
      "Validation phase...\n"
     ]
    },
    {
     "name": "stderr",
     "output_type": "stream",
     "text": [
      "loss = 137225756999680.000: 100%|██████████| 7/7 [00:00<00:00, 72.92it/s]\n"
     ]
    },
    {
     "name": "stdout",
     "output_type": "stream",
     "text": [
      "validation loss = 227007161359213.719\n",
      "Epoch 5/100\n",
      "Training phase...\n"
     ]
    },
    {
     "name": "stderr",
     "output_type": "stream",
     "text": [
      "loss = 2077561043550208.000: 100%|██████████| 24/24 [00:00<00:00, 31.24it/s]\n"
     ]
    },
    {
     "name": "stdout",
     "output_type": "stream",
     "text": [
      "train loss = 811433110885717.375\n",
      "Validation phase...\n"
     ]
    },
    {
     "name": "stderr",
     "output_type": "stream",
     "text": [
      "loss = 137225748611072.000: 100%|██████████| 7/7 [00:00<00:00, 66.71it/s]\n"
     ]
    },
    {
     "name": "stdout",
     "output_type": "stream",
     "text": [
      "validation loss = 227007148177115.438\n",
      "Epoch 6/100\n",
      "Training phase...\n"
     ]
    },
    {
     "name": "stderr",
     "output_type": "stream",
     "text": [
      "loss = 540765373595648.000: 100%|██████████| 24/24 [00:00<00:00, 37.80it/s] \n"
     ]
    },
    {
     "name": "stdout",
     "output_type": "stream",
     "text": [
      "train loss = 807431026245632.000\n",
      "Validation phase...\n"
     ]
    },
    {
     "name": "stderr",
     "output_type": "stream",
     "text": [
      "loss = 137225740222464.000: 100%|██████████| 7/7 [00:00<00:00, 100.16it/s]\n"
     ]
    },
    {
     "name": "stdout",
     "output_type": "stream",
     "text": [
      "validation loss = 227007143383625.156\n",
      "Epoch 7/100\n",
      "Training phase...\n"
     ]
    },
    {
     "name": "stderr",
     "output_type": "stream",
     "text": [
      "loss = 435466499260416.000: 100%|██████████| 24/24 [00:00<00:00, 35.82it/s] \n"
     ]
    },
    {
     "name": "stdout",
     "output_type": "stream",
     "text": [
      "train loss = 807156785173845.375\n",
      "Validation phase...\n"
     ]
    },
    {
     "name": "stderr",
     "output_type": "stream",
     "text": [
      "loss = 137225740222464.000: 100%|██████████| 7/7 [00:00<00:00, 83.71it/s]\n"
     ]
    },
    {
     "name": "stdout",
     "output_type": "stream",
     "text": [
      "validation loss = 227007131399899.438\n",
      "Epoch 8/100\n",
      "Training phase...\n"
     ]
    },
    {
     "name": "stderr",
     "output_type": "stream",
     "text": [
      "loss = 452533726216192.000: 100%|██████████| 24/24 [00:00<00:00, 25.12it/s] \n"
     ]
    },
    {
     "name": "stdout",
     "output_type": "stream",
     "text": [
      "train loss = 807201230116181.375\n",
      "Validation phase...\n"
     ]
    },
    {
     "name": "stderr",
     "output_type": "stream",
     "text": [
      "loss = 137225715056640.000: 100%|██████████| 7/7 [00:00<00:00, 97.85it/s]\n"
     ]
    },
    {
     "name": "stdout",
     "output_type": "stream",
     "text": [
      "validation loss = 227007115821056.000\n",
      "Epoch 9/100\n",
      "Training phase...\n"
     ]
    },
    {
     "name": "stderr",
     "output_type": "stream",
     "text": [
      "loss = 1427981599768576.000: 100%|██████████| 24/24 [00:00<00:00, 33.38it/s]\n"
     ]
    },
    {
     "name": "stdout",
     "output_type": "stream",
     "text": [
      "train loss = 809741441826816.000\n",
      "Validation phase...\n"
     ]
    },
    {
     "name": "stderr",
     "output_type": "stream",
     "text": [
      "loss = 137225715056640.000: 100%|██████████| 7/7 [00:00<00:00, 98.59it/s]\n"
     ]
    },
    {
     "name": "stdout",
     "output_type": "stream",
     "text": [
      "validation loss = 227007111027565.719\n",
      "Epoch 10/100\n",
      "Training phase...\n"
     ]
    },
    {
     "name": "stderr",
     "output_type": "stream",
     "text": [
      "loss = 687733584429056.000: 100%|██████████| 24/24 [00:00<00:00, 38.22it/s] \n"
     ]
    },
    {
     "name": "stdout",
     "output_type": "stream",
     "text": [
      "train loss = 807813706153984.000\n",
      "Validation phase...\n"
     ]
    },
    {
     "name": "stderr",
     "output_type": "stream",
     "text": [
      "loss = 137225698279424.000: 100%|██████████| 7/7 [00:00<00:00, 90.03it/s]\n"
     ]
    },
    {
     "name": "stdout",
     "output_type": "stream",
     "text": [
      "validation loss = 227007096647094.844\n",
      "Epoch 11/100\n",
      "Training phase...\n"
     ]
    },
    {
     "name": "stderr",
     "output_type": "stream",
     "text": [
      "loss = 528792313397248.000: 100%|██████████| 24/24 [00:00<00:00, 36.43it/s] \n"
     ]
    },
    {
     "name": "stdout",
     "output_type": "stream",
     "text": [
      "train loss = 807399767496021.375\n",
      "Validation phase...\n"
     ]
    },
    {
     "name": "stderr",
     "output_type": "stream",
     "text": [
      "loss = 137225698279424.000: 100%|██████████| 7/7 [00:00<00:00, 98.89it/s]\n"
     ]
    },
    {
     "name": "stdout",
     "output_type": "stream",
     "text": [
      "validation loss = 227007087060114.281\n",
      "Epoch 12/100\n",
      "Training phase...\n"
     ]
    },
    {
     "name": "stderr",
     "output_type": "stream",
     "text": [
      "loss = 840864670679040.000: 100%|██████████| 24/24 [00:00<00:00, 40.03it/s] \n"
     ]
    },
    {
     "name": "stdout",
     "output_type": "stream",
     "text": [
      "train loss = 808212429275136.000\n",
      "Validation phase...\n"
     ]
    },
    {
     "name": "stderr",
     "output_type": "stream",
     "text": [
      "loss = 137225698279424.000: 100%|██████████| 7/7 [00:00<00:00, 110.05it/s]\n"
     ]
    },
    {
     "name": "stdout",
     "output_type": "stream",
     "text": [
      "validation loss = 227007067886153.156\n",
      "Epoch 13/100\n",
      "Training phase...\n"
     ]
    },
    {
     "name": "stderr",
     "output_type": "stream",
     "text": [
      "loss = 571106096316416.000: 100%|██████████| 24/24 [00:00<00:00, 36.75it/s] \n"
     ]
    },
    {
     "name": "stdout",
     "output_type": "stream",
     "text": [
      "train loss = 807509919705770.625\n",
      "Validation phase...\n"
     ]
    },
    {
     "name": "stderr",
     "output_type": "stream",
     "text": [
      "loss = 137225681502208.000: 100%|██████████| 7/7 [00:00<00:00, 108.47it/s]\n"
     ]
    },
    {
     "name": "stdout",
     "output_type": "stream",
     "text": [
      "validation loss = 227007055902427.438\n",
      "Epoch 14/100\n",
      "Training phase...\n"
     ]
    },
    {
     "name": "stderr",
     "output_type": "stream",
     "text": [
      "loss = 1096345700007936.000: 100%|██████████| 24/24 [00:00<00:00, 38.50it/s]\n"
     ]
    },
    {
     "name": "stdout",
     "output_type": "stream",
     "text": [
      "train loss = 808877697619285.375\n",
      "Validation phase...\n"
     ]
    },
    {
     "name": "stderr",
     "output_type": "stream",
     "text": [
      "loss = 137225681502208.000: 100%|██████████| 7/7 [00:00<00:00, 94.83it/s]\n"
     ]
    },
    {
     "name": "stdout",
     "output_type": "stream",
     "text": [
      "validation loss = 227007054704054.844\n",
      "Epoch 15/100\n",
      "Training phase...\n"
     ]
    },
    {
     "name": "stderr",
     "output_type": "stream",
     "text": [
      "loss = 612024182636544.000: 100%|██████████| 24/24 [00:00<00:00, 34.31it/s] \n"
     ]
    },
    {
     "name": "stdout",
     "output_type": "stream",
     "text": [
      "train loss = 807616459221674.625\n",
      "Validation phase...\n"
     ]
    },
    {
     "name": "stderr",
     "output_type": "stream",
     "text": [
      "loss = 137225664724992.000: 100%|██████████| 7/7 [00:00<00:00, 82.35it/s]\n"
     ]
    },
    {
     "name": "stdout",
     "output_type": "stream",
     "text": [
      "validation loss = 227007048712192.000\n",
      "Epoch 16/100\n",
      "Training phase...\n"
     ]
    },
    {
     "name": "stderr",
     "output_type": "stream",
     "text": [
      "loss = 2181671319240704.000: 100%|██████████| 24/24 [00:00<00:00, 38.09it/s]\n"
     ]
    },
    {
     "name": "stdout",
     "output_type": "stream",
     "text": [
      "train loss = 811704044748800.000\n",
      "Validation phase...\n"
     ]
    },
    {
     "name": "stderr",
     "output_type": "stream",
     "text": [
      "loss = 137225664724992.000: 100%|██████████| 7/7 [00:00<00:00, 99.99it/s]\n"
     ]
    },
    {
     "name": "stdout",
     "output_type": "stream",
     "text": [
      "validation loss = 227007046315446.844\n",
      "Epoch 17/100\n",
      "Training phase...\n"
     ]
    },
    {
     "name": "stderr",
     "output_type": "stream",
     "text": [
      "loss = 419047845920768.000: 100%|██████████| 24/24 [00:00<00:00, 39.09it/s] \n"
     ]
    },
    {
     "name": "stdout",
     "output_type": "stream",
     "text": [
      "train loss = 807113859967658.625\n",
      "Validation phase...\n"
     ]
    },
    {
     "name": "stderr",
     "output_type": "stream",
     "text": [
      "loss = 137225656336384.000: 100%|██████████| 7/7 [00:00<00:00, 88.75it/s]\n"
     ]
    },
    {
     "name": "stdout",
     "output_type": "stream",
     "text": [
      "validation loss = 227007030736603.438\n",
      "Epoch 18/100\n",
      "Training phase...\n"
     ]
    },
    {
     "name": "stderr",
     "output_type": "stream",
     "text": [
      "loss = 617376584302592.000: 100%|██████████| 24/24 [00:00<00:00, 39.51it/s] \n"
     ]
    },
    {
     "name": "stdout",
     "output_type": "stream",
     "text": [
      "train loss = 807630361242282.625\n",
      "Validation phase...\n"
     ]
    },
    {
     "name": "stderr",
     "output_type": "stream",
     "text": [
      "loss = 137225647947776.000: 100%|██████████| 7/7 [00:00<00:00, 103.77it/s]\n"
     ]
    },
    {
     "name": "stdout",
     "output_type": "stream",
     "text": [
      "validation loss = 227007011562642.281\n",
      "Epoch 19/100\n",
      "Training phase...\n"
     ]
    },
    {
     "name": "stderr",
     "output_type": "stream",
     "text": [
      "loss = 632140265947136.000: 100%|██████████| 24/24 [00:00<00:00, 36.91it/s] \n"
     ]
    },
    {
     "name": "stdout",
     "output_type": "stream",
     "text": [
      "train loss = 807668767784960.000\n",
      "Validation phase...\n"
     ]
    },
    {
     "name": "stderr",
     "output_type": "stream",
     "text": [
      "loss = 137225639559168.000: 100%|██████████| 7/7 [00:00<00:00, 98.59it/s]\n"
     ]
    },
    {
     "name": "stdout",
     "output_type": "stream",
     "text": [
      "validation loss = 227007005570779.438\n",
      "Epoch 20/100\n",
      "Training phase...\n"
     ]
    },
    {
     "name": "stderr",
     "output_type": "stream",
     "text": [
      "loss = 414440855961600.000: 100%|██████████| 24/24 [00:00<00:00, 38.14it/s] \n"
     ]
    },
    {
     "name": "stdout",
     "output_type": "stream",
     "text": [
      "train loss = 807101829305685.375\n",
      "Validation phase...\n"
     ]
    },
    {
     "name": "stderr",
     "output_type": "stream",
     "text": [
      "loss = 137225639559168.000: 100%|██████████| 7/7 [00:00<00:00, 93.34it/s]\n"
     ]
    },
    {
     "name": "stdout",
     "output_type": "stream",
     "text": [
      "validation loss = 227006998380544.000\n",
      "Epoch 21/100\n",
      "Training phase...\n"
     ]
    },
    {
     "name": "stderr",
     "output_type": "stream",
     "text": [
      "loss = 554545037967360.000: 100%|██████████| 24/24 [00:00<00:00, 38.66it/s] \n"
     ]
    },
    {
     "name": "stdout",
     "output_type": "stream",
     "text": [
      "train loss = 807466662450517.375\n",
      "Validation phase...\n"
     ]
    },
    {
     "name": "stderr",
     "output_type": "stream",
     "text": [
      "loss = 137225631170560.000: 100%|██████████| 7/7 [00:00<00:00, 100.00it/s]\n"
     ]
    },
    {
     "name": "stdout",
     "output_type": "stream",
     "text": [
      "validation loss = 227006989991936.000\n",
      "Epoch 22/100\n",
      "Training phase...\n"
     ]
    },
    {
     "name": "stderr",
     "output_type": "stream",
     "text": [
      "loss = 597944206098432.000: 100%|██████████| 24/24 [00:00<00:00, 44.54it/s]\n"
     ]
    },
    {
     "name": "stdout",
     "output_type": "stream",
     "text": [
      "train loss = 807579654204074.625\n",
      "Validation phase...\n"
     ]
    },
    {
     "name": "stderr",
     "output_type": "stream",
     "text": [
      "loss = 137225614393344.000: 100%|██████████| 7/7 [00:00<00:00, 155.55it/s]\n"
     ]
    },
    {
     "name": "stdout",
     "output_type": "stream",
     "text": [
      "validation loss = 227006978008210.281\n",
      "Epoch 23/100\n",
      "Training phase...\n"
     ]
    },
    {
     "name": "stderr",
     "output_type": "stream",
     "text": [
      "loss = 634292916977664.000: 100%|██████████| 24/24 [00:00<00:00, 67.64it/s]\n"
     ]
    },
    {
     "name": "stdout",
     "output_type": "stream",
     "text": [
      "train loss = 807674319645354.625\n",
      "Validation phase...\n"
     ]
    },
    {
     "name": "stderr",
     "output_type": "stream",
     "text": [
      "loss = 137225614393344.000: 100%|██████████| 7/7 [00:00<00:00, 194.88it/s]\n"
     ]
    },
    {
     "name": "stdout",
     "output_type": "stream",
     "text": [
      "validation loss = 227006968421229.719\n",
      "Epoch 24/100\n",
      "Training phase...\n"
     ]
    },
    {
     "name": "stderr",
     "output_type": "stream",
     "text": [
      "loss = 547971758292992.000: 100%|██████████| 24/24 [00:00<00:00, 65.88it/s] \n"
     ]
    },
    {
     "name": "stdout",
     "output_type": "stream",
     "text": [
      "train loss = 807449483979434.625\n",
      "Validation phase...\n"
     ]
    },
    {
     "name": "stderr",
     "output_type": "stream",
     "text": [
      "loss = 137225597616128.000: 100%|██████████| 7/7 [00:00<00:00, 120.68it/s]\n"
     ]
    },
    {
     "name": "stdout",
     "output_type": "stream",
     "text": [
      "validation loss = 227006955239131.438\n",
      "Epoch 25/100\n",
      "Training phase...\n"
     ]
    },
    {
     "name": "stderr",
     "output_type": "stream",
     "text": [
      "loss = 709289891069952.000: 100%|██████████| 24/24 [00:00<00:00, 72.51it/s] \n"
     ]
    },
    {
     "name": "stdout",
     "output_type": "stream",
     "text": [
      "train loss = 807869558904149.375\n",
      "Validation phase...\n"
     ]
    },
    {
     "name": "stderr",
     "output_type": "stream",
     "text": [
      "loss = 137225589227520.000: 100%|██████████| 7/7 [00:00<00:00, 170.74it/s]\n"
     ]
    },
    {
     "name": "stdout",
     "output_type": "stream",
     "text": [
      "validation loss = 227006944453778.281\n",
      "Epoch 26/100\n",
      "Training phase...\n"
     ]
    },
    {
     "name": "stderr",
     "output_type": "stream",
     "text": [
      "loss = 659734222864384.000: 100%|██████████| 24/24 [00:00<00:00, 66.80it/s] \n"
     ]
    },
    {
     "name": "stdout",
     "output_type": "stream",
     "text": [
      "train loss = 807740519743488.000\n",
      "Validation phase...\n"
     ]
    },
    {
     "name": "stderr",
     "output_type": "stream",
     "text": [
      "loss = 137225580838912.000: 100%|██████████| 7/7 [00:00<00:00, 145.83it/s]\n"
     ]
    },
    {
     "name": "stdout",
     "output_type": "stream",
     "text": [
      "validation loss = 227006937263542.844\n",
      "Epoch 27/100\n",
      "Training phase...\n"
     ]
    },
    {
     "name": "stderr",
     "output_type": "stream",
     "text": [
      "loss = 649350267011072.000: 100%|██████████| 24/24 [00:00<00:00, 72.60it/s] \n"
     ]
    },
    {
     "name": "stdout",
     "output_type": "stream",
     "text": [
      "train loss = 807713462288384.000\n",
      "Validation phase...\n"
     ]
    },
    {
     "name": "stderr",
     "output_type": "stream",
     "text": [
      "loss = 137225564061696.000: 100%|██████████| 7/7 [00:00<00:00, 162.80it/s]\n"
     ]
    },
    {
     "name": "stdout",
     "output_type": "stream",
     "text": [
      "validation loss = 227006927676562.281\n",
      "Epoch 28/100\n",
      "Training phase...\n"
     ]
    },
    {
     "name": "stderr",
     "output_type": "stream",
     "text": [
      "loss = 800062816911360.000: 100%|██████████| 24/24 [00:00<00:00, 71.44it/s] \n"
     ]
    },
    {
     "name": "stdout",
     "output_type": "stream",
     "text": [
      "train loss = 808105906536448.000\n",
      "Validation phase...\n"
     ]
    },
    {
     "name": "stderr",
     "output_type": "stream",
     "text": [
      "loss = 137225564061696.000: 100%|██████████| 7/7 [00:00<00:00, 140.86it/s]\n"
     ]
    },
    {
     "name": "stdout",
     "output_type": "stream",
     "text": [
      "validation loss = 227006916891209.156\n",
      "Epoch 29/100\n",
      "Training phase...\n"
     ]
    },
    {
     "name": "stderr",
     "output_type": "stream",
     "text": [
      "loss = 760553949626368.000: 100%|██████████| 24/24 [00:00<00:00, 76.46it/s] \n"
     ]
    },
    {
     "name": "stdout",
     "output_type": "stream",
     "text": [
      "train loss = 808003042628949.375\n",
      "Validation phase...\n"
     ]
    },
    {
     "name": "stderr",
     "output_type": "stream",
     "text": [
      "loss = 137225547284480.000: 100%|██████████| 7/7 [00:00<00:00, 129.62it/s]\n"
     ]
    },
    {
     "name": "stdout",
     "output_type": "stream",
     "text": [
      "validation loss = 227006912097718.844\n",
      "Epoch 30/100\n",
      "Training phase...\n"
     ]
    },
    {
     "name": "stderr",
     "output_type": "stream",
     "text": [
      "loss = 848106925064192.000: 100%|██████████| 24/24 [00:00<00:00, 62.35it/s]\n"
     ]
    },
    {
     "name": "stdout",
     "output_type": "stream",
     "text": [
      "train loss = 808230984876032.000\n",
      "Validation phase...\n"
     ]
    },
    {
     "name": "stderr",
     "output_type": "stream",
     "text": [
      "loss = 137225547284480.000: 100%|██████████| 7/7 [00:00<00:00, 127.27it/s]\n"
     ]
    },
    {
     "name": "stdout",
     "output_type": "stream",
     "text": [
      "validation loss = 227006904907483.438\n",
      "Epoch 31/100\n",
      "Training phase...\n"
     ]
    },
    {
     "name": "stderr",
     "output_type": "stream",
     "text": [
      "loss = 2673515136286720.000: 100%|██████████| 24/24 [00:00<00:00, 75.05it/s]\n"
     ]
    },
    {
     "name": "stdout",
     "output_type": "stream",
     "text": [
      "train loss = 812984633567914.625\n",
      "Validation phase...\n"
     ]
    },
    {
     "name": "stderr",
     "output_type": "stream",
     "text": [
      "loss = 137225547284480.000: 100%|██████████| 7/7 [00:00<00:00, 152.11it/s]\n"
     ]
    },
    {
     "name": "stdout",
     "output_type": "stream",
     "text": [
      "validation loss = 227006897717248.000\n",
      "Epoch 32/100\n",
      "Training phase...\n"
     ]
    },
    {
     "name": "stderr",
     "output_type": "stream",
     "text": [
      "loss = 918511908028416.000: 100%|██████████| 24/24 [00:00<00:00, 68.52it/s] \n"
     ]
    },
    {
     "name": "stdout",
     "output_type": "stream",
     "text": [
      "train loss = 808414312311466.625\n",
      "Validation phase...\n"
     ]
    },
    {
     "name": "stderr",
     "output_type": "stream",
     "text": [
      "loss = 137225538895872.000: 100%|██████████| 7/7 [00:00<00:00, 174.82it/s]\n"
     ]
    },
    {
     "name": "stdout",
     "output_type": "stream",
     "text": [
      "validation loss = 227006884535149.719\n",
      "Epoch 33/100\n",
      "Training phase...\n"
     ]
    },
    {
     "name": "stderr",
     "output_type": "stream",
     "text": [
      "loss = 375645423009792.000: 100%|██████████| 24/24 [00:00<00:00, 75.52it/s]\n"
     ]
    },
    {
     "name": "stdout",
     "output_type": "stream",
     "text": [
      "train loss = 807000563428010.625\n",
      "Validation phase...\n"
     ]
    },
    {
     "name": "stderr",
     "output_type": "stream",
     "text": [
      "loss = 137225530507264.000: 100%|██████████| 7/7 [00:00<00:00, 194.49it/s]\n"
     ]
    },
    {
     "name": "stdout",
     "output_type": "stream",
     "text": [
      "validation loss = 227006868956306.281\n",
      "Epoch 34/100\n",
      "Training phase...\n"
     ]
    },
    {
     "name": "stderr",
     "output_type": "stream",
     "text": [
      "loss = 405990507806720.000: 100%|██████████| 24/24 [00:00<00:00, 71.22it/s] \n"
     ]
    },
    {
     "name": "stdout",
     "output_type": "stream",
     "text": [
      "train loss = 807079581319168.000\n",
      "Validation phase...\n"
     ]
    },
    {
     "name": "stderr",
     "output_type": "stream",
     "text": [
      "loss = 137225530507264.000: 100%|██████████| 7/7 [00:00<00:00, 139.99it/s]\n"
     ]
    },
    {
     "name": "stdout",
     "output_type": "stream",
     "text": [
      "validation loss = 227006868956306.281\n",
      "Epoch 35/100\n",
      "Training phase...\n"
     ]
    },
    {
     "name": "stderr",
     "output_type": "stream",
     "text": [
      "loss = 1062931458424832.000: 100%|██████████| 24/24 [00:00<00:00, 68.34it/s]\n"
     ]
    },
    {
     "name": "stdout",
     "output_type": "stream",
     "text": [
      "train loss = 808790359627093.375\n",
      "Validation phase...\n"
     ]
    },
    {
     "name": "stderr",
     "output_type": "stream",
     "text": [
      "loss = 137225522118656.000: 100%|██████████| 7/7 [00:00<00:00, 179.51it/s]\n"
     ]
    },
    {
     "name": "stdout",
     "output_type": "stream",
     "text": [
      "validation loss = 227006853377462.844\n",
      "Epoch 36/100\n",
      "Training phase...\n"
     ]
    },
    {
     "name": "stderr",
     "output_type": "stream",
     "text": [
      "loss = 1072431657648128.000: 100%|██████████| 24/24 [00:00<00:00, 68.58it/s]\n"
     ]
    },
    {
     "name": "stdout",
     "output_type": "stream",
     "text": [
      "train loss = 808815106020693.375\n",
      "Validation phase...\n"
     ]
    },
    {
     "name": "stderr",
     "output_type": "stream",
     "text": [
      "loss = 137225522118656.000: 100%|██████████| 7/7 [00:00<00:00, 162.77it/s]\n"
     ]
    },
    {
     "name": "stdout",
     "output_type": "stream",
     "text": [
      "validation loss = 227006848583972.562\n",
      "Epoch 37/100\n",
      "Training phase...\n"
     ]
    },
    {
     "name": "stderr",
     "output_type": "stream",
     "text": [
      "loss = 426574474117120.000: 100%|██████████| 24/24 [00:00<00:00, 73.94it/s]\n"
     ]
    },
    {
     "name": "stdout",
     "output_type": "stream",
     "text": [
      "train loss = 807133168446122.625\n",
      "Validation phase...\n"
     ]
    },
    {
     "name": "stderr",
     "output_type": "stream",
     "text": [
      "loss = 137225496952832.000: 100%|██████████| 7/7 [00:00<00:00, 194.42it/s]\n"
     ]
    },
    {
     "name": "stdout",
     "output_type": "stream",
     "text": [
      "validation loss = 227006834203501.719\n",
      "Epoch 38/100\n",
      "Training phase...\n"
     ]
    },
    {
     "name": "stderr",
     "output_type": "stream",
     "text": [
      "loss = 515439092301824.000: 100%|██████████| 24/24 [00:00<00:00, 67.45it/s]\n"
     ]
    },
    {
     "name": "stdout",
     "output_type": "stream",
     "text": [
      "train loss = 807364574489258.625\n",
      "Validation phase...\n"
     ]
    },
    {
     "name": "stderr",
     "output_type": "stream",
     "text": [
      "loss = 137225488564224.000: 100%|██████████| 7/7 [00:00<00:00, 129.63it/s]\n"
     ]
    },
    {
     "name": "stdout",
     "output_type": "stream",
     "text": [
      "validation loss = 227006825814893.719\n",
      "Epoch 39/100\n",
      "Training phase...\n"
     ]
    },
    {
     "name": "stderr",
     "output_type": "stream",
     "text": [
      "loss = 1436558917894144.000: 100%|██████████| 24/24 [00:00<00:00, 66.14it/s]\n"
     ]
    },
    {
     "name": "stdout",
     "output_type": "stream",
     "text": [
      "train loss = 809763327705088.000\n",
      "Validation phase...\n"
     ]
    },
    {
     "name": "stderr",
     "output_type": "stream",
     "text": [
      "loss = 137225488564224.000: 100%|██████████| 7/7 [00:00<00:00, 142.85it/s]\n"
     ]
    },
    {
     "name": "stdout",
     "output_type": "stream",
     "text": [
      "validation loss = 227006825814893.719\n",
      "Epoch 40/100\n",
      "Training phase...\n"
     ]
    },
    {
     "name": "stderr",
     "output_type": "stream",
     "text": [
      "loss = 600859079606272.000: 100%|██████████| 24/24 [00:00<00:00, 66.30it/s] \n"
     ]
    },
    {
     "name": "stdout",
     "output_type": "stream",
     "text": [
      "train loss = 807586978856960.000\n",
      "Validation phase...\n"
     ]
    },
    {
     "name": "stderr",
     "output_type": "stream",
     "text": [
      "loss = 137225488564224.000: 100%|██████████| 7/7 [00:00<00:00, 194.44it/s]\n"
     ]
    },
    {
     "name": "stdout",
     "output_type": "stream",
     "text": [
      "validation loss = 227006816227913.156\n",
      "Epoch 41/100\n",
      "Training phase...\n"
     ]
    },
    {
     "name": "stderr",
     "output_type": "stream",
     "text": [
      "loss = 552820709261312.000: 100%|██████████| 24/24 [00:00<00:00, 69.00it/s]\n"
     ]
    },
    {
     "name": "stdout",
     "output_type": "stream",
     "text": [
      "train loss = 807461878147754.625\n",
      "Validation phase...\n"
     ]
    },
    {
     "name": "stderr",
     "output_type": "stream",
     "text": [
      "loss = 137225480175616.000: 100%|██████████| 7/7 [00:00<00:00, 159.11it/s]\n"
     ]
    },
    {
     "name": "stdout",
     "output_type": "stream",
     "text": [
      "validation loss = 227006795855579.438\n",
      "Epoch 42/100\n",
      "Training phase...\n"
     ]
    },
    {
     "name": "stderr",
     "output_type": "stream",
     "text": [
      "loss = 574848623443968.000: 100%|██████████| 24/24 [00:00<00:00, 66.29it/s] \n"
     ]
    },
    {
     "name": "stdout",
     "output_type": "stream",
     "text": [
      "train loss = 807519222672042.625\n",
      "Validation phase...\n"
     ]
    },
    {
     "name": "stderr",
     "output_type": "stream",
     "text": [
      "loss = 137225471787008.000: 100%|██████████| 7/7 [00:00<00:00, 142.86it/s]\n"
     ]
    },
    {
     "name": "stdout",
     "output_type": "stream",
     "text": [
      "validation loss = 227006787466971.438\n",
      "Epoch 43/100\n",
      "Training phase...\n"
     ]
    },
    {
     "name": "stderr",
     "output_type": "stream",
     "text": [
      "loss = 1030508951633920.000: 100%|██████████| 24/24 [00:00<00:00, 72.79it/s]\n"
     ]
    },
    {
     "name": "stdout",
     "output_type": "stream",
     "text": [
      "train loss = 808705813643264.000\n",
      "Validation phase...\n"
     ]
    },
    {
     "name": "stderr",
     "output_type": "stream",
     "text": [
      "loss = 137225455009792.000: 100%|██████████| 7/7 [00:00<00:00, 175.02it/s]\n"
     ]
    },
    {
     "name": "stdout",
     "output_type": "stream",
     "text": [
      "validation loss = 227006781475108.562\n",
      "Epoch 44/100\n",
      "Training phase...\n"
     ]
    },
    {
     "name": "stderr",
     "output_type": "stream",
     "text": [
      "loss = 839014814842880.000: 100%|██████████| 24/24 [00:00<00:00, 72.51it/s] \n"
     ]
    },
    {
     "name": "stdout",
     "output_type": "stream",
     "text": [
      "train loss = 808207124878677.375\n",
      "Validation phase...\n"
     ]
    },
    {
     "name": "stderr",
     "output_type": "stream",
     "text": [
      "loss = 137225455009792.000: 100%|██████████| 7/7 [00:00<00:00, 118.65it/s]\n"
     ]
    },
    {
     "name": "stdout",
     "output_type": "stream",
     "text": [
      "validation loss = 227006781475108.562\n",
      "Epoch 45/100\n",
      "Training phase...\n"
     ]
    },
    {
     "name": "stderr",
     "output_type": "stream",
     "text": [
      "loss = 975885960216576.000: 100%|██████████| 24/24 [00:00<00:00, 72.07it/s] \n"
     ]
    },
    {
     "name": "stdout",
     "output_type": "stream",
     "text": [
      "train loss = 808563535861077.375\n",
      "Validation phase...\n"
     ]
    },
    {
     "name": "stderr",
     "output_type": "stream",
     "text": [
      "loss = 137225446621184.000: 100%|██████████| 7/7 [00:00<00:00, 200.03it/s]\n"
     ]
    },
    {
     "name": "stdout",
     "output_type": "stream",
     "text": [
      "validation loss = 227006771888128.000\n",
      "Epoch 46/100\n",
      "Training phase...\n"
     ]
    },
    {
     "name": "stderr",
     "output_type": "stream",
     "text": [
      "loss = 621603234775040.000: 100%|██████████| 24/24 [00:00<00:00, 74.53it/s] \n"
     ]
    },
    {
     "name": "stdout",
     "output_type": "stream",
     "text": [
      "train loss = 807640921800704.000\n",
      "Validation phase...\n"
     ]
    },
    {
     "name": "stderr",
     "output_type": "stream",
     "text": [
      "loss = 137225438232576.000: 100%|██████████| 7/7 [00:00<00:00, 167.74it/s]\n"
     ]
    },
    {
     "name": "stdout",
     "output_type": "stream",
     "text": [
      "validation loss = 227006759904402.281\n",
      "Epoch 47/100\n",
      "Training phase...\n"
     ]
    },
    {
     "name": "stderr",
     "output_type": "stream",
     "text": [
      "loss = 1167639472766976.000: 100%|██████████| 24/24 [00:00<00:00, 70.10it/s]\n"
     ]
    },
    {
     "name": "stdout",
     "output_type": "stream",
     "text": [
      "train loss = 809062874742784.000\n",
      "Validation phase...\n"
     ]
    },
    {
     "name": "stderr",
     "output_type": "stream",
     "text": [
      "loss = 137225438232576.000: 100%|██████████| 7/7 [00:00<00:00, 179.48it/s]\n"
     ]
    },
    {
     "name": "stdout",
     "output_type": "stream",
     "text": [
      "validation loss = 227006752714166.844\n",
      "Epoch 48/100\n",
      "Training phase...\n"
     ]
    },
    {
     "name": "stderr",
     "output_type": "stream",
     "text": [
      "loss = 621153806712832.000: 100%|██████████| 24/24 [00:00<00:00, 79.53it/s] \n"
     ]
    },
    {
     "name": "stdout",
     "output_type": "stream",
     "text": [
      "train loss = 807639713841152.000\n",
      "Validation phase...\n"
     ]
    },
    {
     "name": "stderr",
     "output_type": "stream",
     "text": [
      "loss = 137225421455360.000: 100%|██████████| 7/7 [00:00<00:00, 159.09it/s]\n"
     ]
    },
    {
     "name": "stdout",
     "output_type": "stream",
     "text": [
      "validation loss = 227006747920676.562\n",
      "Epoch 49/100\n",
      "Training phase...\n"
     ]
    },
    {
     "name": "stderr",
     "output_type": "stream",
     "text": [
      "loss = 449661634609152.000: 100%|██████████| 24/24 [00:00<00:00, 74.07it/s] \n"
     ]
    },
    {
     "name": "stdout",
     "output_type": "stream",
     "text": [
      "train loss = 807193107147434.625\n",
      "Validation phase...\n"
     ]
    },
    {
     "name": "stderr",
     "output_type": "stream",
     "text": [
      "loss = 137225421455360.000: 100%|██████████| 7/7 [00:00<00:00, 166.67it/s]\n"
     ]
    },
    {
     "name": "stdout",
     "output_type": "stream",
     "text": [
      "validation loss = 227006732341833.156\n",
      "Epoch 50/100\n",
      "Training phase...\n"
     ]
    },
    {
     "name": "stderr",
     "output_type": "stream",
     "text": [
      "loss = 863640882249728.000: 100%|██████████| 24/24 [00:00<00:00, 78.43it/s] \n"
     ]
    },
    {
     "name": "stdout",
     "output_type": "stream",
     "text": [
      "train loss = 808271174696960.000\n",
      "Validation phase...\n"
     ]
    },
    {
     "name": "stderr",
     "output_type": "stream",
     "text": [
      "loss = 137225396289536.000: 100%|██████████| 7/7 [00:00<00:00, 152.18it/s]\n"
     ]
    },
    {
     "name": "stdout",
     "output_type": "stream",
     "text": [
      "validation loss = 227006717961362.281\n",
      "Epoch 51/100\n",
      "Training phase...\n"
     ]
    },
    {
     "name": "stderr",
     "output_type": "stream",
     "text": [
      "loss = 744180997423104.000: 100%|██████████| 24/24 [00:00<00:00, 76.43it/s] \n"
     ]
    },
    {
     "name": "stdout",
     "output_type": "stream",
     "text": [
      "train loss = 807960046119594.625\n",
      "Validation phase...\n"
     ]
    },
    {
     "name": "stderr",
     "output_type": "stream",
     "text": [
      "loss = 137225387900928.000: 100%|██████████| 7/7 [00:00<00:00, 170.73it/s]\n"
     ]
    },
    {
     "name": "stdout",
     "output_type": "stream",
     "text": [
      "validation loss = 227006713167872.000\n",
      "Epoch 52/100\n",
      "Training phase...\n"
     ]
    },
    {
     "name": "stderr",
     "output_type": "stream",
     "text": [
      "loss = 503979582685184.000: 100%|██████████| 24/24 [00:00<00:00, 77.49it/s] \n"
     ]
    },
    {
     "name": "stdout",
     "output_type": "stream",
     "text": [
      "train loss = 807334519504896.000\n",
      "Validation phase...\n"
     ]
    },
    {
     "name": "stderr",
     "output_type": "stream",
     "text": [
      "loss = 137225387900928.000: 100%|██████████| 7/7 [00:00<00:00, 184.21it/s]\n"
     ]
    },
    {
     "name": "stdout",
     "output_type": "stream",
     "text": [
      "validation loss = 227006697589028.562\n",
      "Epoch 53/100\n",
      "Training phase...\n"
     ]
    },
    {
     "name": "stderr",
     "output_type": "stream",
     "text": [
      "loss = 869665312079872.000: 100%|██████████| 24/24 [00:00<00:00, 76.68it/s] \n"
     ]
    },
    {
     "name": "stdout",
     "output_type": "stream",
     "text": [
      "train loss = 808286788692650.625\n",
      "Validation phase...\n"
     ]
    },
    {
     "name": "stderr",
     "output_type": "stream",
     "text": [
      "loss = 137225387900928.000: 100%|██████████| 7/7 [00:00<00:00, 174.98it/s]\n"
     ]
    },
    {
     "name": "stdout",
     "output_type": "stream",
     "text": [
      "validation loss = 227006689200420.562\n",
      "Epoch 54/100\n",
      "Training phase...\n"
     ]
    },
    {
     "name": "stderr",
     "output_type": "stream",
     "text": [
      "loss = 722602477748224.000: 100%|██████████| 24/24 [00:00<00:00, 68.77it/s] \n"
     ]
    },
    {
     "name": "stdout",
     "output_type": "stream",
     "text": [
      "train loss = 807903812386816.000\n",
      "Validation phase...\n"
     ]
    },
    {
     "name": "stderr",
     "output_type": "stream",
     "text": [
      "loss = 137225379512320.000: 100%|██████████| 7/7 [00:00<00:00, 184.23it/s]\n"
     ]
    },
    {
     "name": "stdout",
     "output_type": "stream",
     "text": [
      "validation loss = 227006688002048.000\n",
      "Epoch 55/100\n",
      "Training phase...\n"
     ]
    },
    {
     "name": "stderr",
     "output_type": "stream",
     "text": [
      "loss = 682630760628224.000: 100%|██████████| 24/24 [00:00<00:00, 70.02it/s] \n"
     ]
    },
    {
     "name": "stdout",
     "output_type": "stream",
     "text": [
      "train loss = 807799708363434.625\n",
      "Validation phase...\n"
     ]
    },
    {
     "name": "stderr",
     "output_type": "stream",
     "text": [
      "loss = 137225371123712.000: 100%|██████████| 7/7 [00:00<00:00, 179.50it/s]\n"
     ]
    },
    {
     "name": "stdout",
     "output_type": "stream",
     "text": [
      "validation loss = 227006677216694.844\n",
      "Epoch 56/100\n",
      "Training phase...\n"
     ]
    },
    {
     "name": "stderr",
     "output_type": "stream",
     "text": [
      "loss = 535703754637312.000: 100%|██████████| 24/24 [00:00<00:00, 75.22it/s] \n"
     ]
    },
    {
     "name": "stdout",
     "output_type": "stream",
     "text": [
      "train loss = 807417057815210.625\n",
      "Validation phase...\n"
     ]
    },
    {
     "name": "stderr",
     "output_type": "stream",
     "text": [
      "loss = 137225371123712.000: 100%|██████████| 7/7 [00:00<00:00, 162.79it/s]\n"
     ]
    },
    {
     "name": "stdout",
     "output_type": "stream",
     "text": [
      "validation loss = 227006676018322.281\n",
      "Epoch 57/100\n",
      "Training phase...\n"
     ]
    },
    {
     "name": "stderr",
     "output_type": "stream",
     "text": [
      "loss = 494808585994240.000: 100%|██████████| 24/24 [00:00<00:00, 67.62it/s]\n"
     ]
    },
    {
     "name": "stdout",
     "output_type": "stream",
     "text": [
      "train loss = 807310557446144.000\n",
      "Validation phase...\n"
     ]
    },
    {
     "name": "stderr",
     "output_type": "stream",
     "text": [
      "loss = 137225362735104.000: 100%|██████████| 7/7 [00:00<00:00, 148.94it/s]\n"
     ]
    },
    {
     "name": "stdout",
     "output_type": "stream",
     "text": [
      "validation loss = 227006661637851.438\n",
      "Epoch 58/100\n",
      "Training phase...\n"
     ]
    },
    {
     "name": "stderr",
     "output_type": "stream",
     "text": [
      "loss = 371086550106112.000: 100%|██████████| 24/24 [00:00<00:00, 70.59it/s] \n"
     ]
    },
    {
     "name": "stdout",
     "output_type": "stream",
     "text": [
      "train loss = 806988367790080.000\n",
      "Validation phase...\n"
     ]
    },
    {
     "name": "stderr",
     "output_type": "stream",
     "text": [
      "loss = 137225362735104.000: 100%|██████████| 7/7 [00:00<00:00, 170.75it/s]\n"
     ]
    },
    {
     "name": "stdout",
     "output_type": "stream",
     "text": [
      "validation loss = 227006655645988.562\n",
      "Epoch 59/100\n",
      "Training phase...\n"
     ]
    },
    {
     "name": "stderr",
     "output_type": "stream",
     "text": [
      "loss = 281717004828672.000: 100%|██████████| 24/24 [00:00<00:00, 71.01it/s] \n"
     ]
    },
    {
     "name": "stdout",
     "output_type": "stream",
     "text": [
      "train loss = 806755607685802.625\n",
      "Validation phase...\n"
     ]
    },
    {
     "name": "stderr",
     "output_type": "stream",
     "text": [
      "loss = 137225337569280.000: 100%|██████████| 7/7 [00:00<00:00, 179.47it/s]\n"
     ]
    },
    {
     "name": "stdout",
     "output_type": "stream",
     "text": [
      "validation loss = 227006640067145.156\n",
      "Epoch 60/100\n",
      "Training phase...\n"
     ]
    },
    {
     "name": "stderr",
     "output_type": "stream",
     "text": [
      "loss = 236297406906368.000: 100%|██████████| 24/24 [00:00<00:00, 75.23it/s] \n"
     ]
    },
    {
     "name": "stdout",
     "output_type": "stream",
     "text": [
      "train loss = 806637296855722.625\n",
      "Validation phase...\n"
     ]
    },
    {
     "name": "stderr",
     "output_type": "stream",
     "text": [
      "loss = 137225337569280.000: 100%|██████████| 7/7 [00:00<00:00, 145.88it/s]\n"
     ]
    },
    {
     "name": "stdout",
     "output_type": "stream",
     "text": [
      "validation loss = 227006632876909.719\n",
      "Epoch 61/100\n",
      "Training phase...\n"
     ]
    },
    {
     "name": "stderr",
     "output_type": "stream",
     "text": [
      "loss = 683569949179904.000: 100%|██████████| 24/24 [00:00<00:00, 72.04it/s] \n"
     ]
    },
    {
     "name": "stdout",
     "output_type": "stream",
     "text": [
      "train loss = 807802050183168.000\n",
      "Validation phase...\n"
     ]
    },
    {
     "name": "stderr",
     "output_type": "stream",
     "text": [
      "loss = 137225320792064.000: 100%|██████████| 7/7 [00:00<00:00, 168.08it/s]\n"
     ]
    },
    {
     "name": "stdout",
     "output_type": "stream",
     "text": [
      "validation loss = 227006625686674.281\n",
      "Epoch 62/100\n",
      "Training phase...\n"
     ]
    },
    {
     "name": "stderr",
     "output_type": "stream",
     "text": [
      "loss = 527258338983936.000: 100%|██████████| 24/24 [00:00<00:00, 70.42it/s]\n"
     ]
    },
    {
     "name": "stdout",
     "output_type": "stream",
     "text": [
      "train loss = 807394994378069.375\n",
      "Validation phase...\n"
     ]
    },
    {
     "name": "stderr",
     "output_type": "stream",
     "text": [
      "loss = 137225320792064.000: 100%|██████████| 7/7 [00:00<00:00, 120.68it/s]\n"
     ]
    },
    {
     "name": "stdout",
     "output_type": "stream",
     "text": [
      "validation loss = 227006617298066.281\n",
      "Epoch 63/100\n",
      "Training phase...\n"
     ]
    },
    {
     "name": "stderr",
     "output_type": "stream",
     "text": [
      "loss = 569275702050816.000: 100%|██████████| 24/24 [00:00<00:00, 72.51it/s] \n"
     ]
    },
    {
     "name": "stdout",
     "output_type": "stream",
     "text": [
      "train loss = 807504394409301.375\n",
      "Validation phase...\n"
     ]
    },
    {
     "name": "stderr",
     "output_type": "stream",
     "text": [
      "loss = 137225320792064.000: 100%|██████████| 7/7 [00:00<00:00, 159.09it/s]\n"
     ]
    },
    {
     "name": "stdout",
     "output_type": "stream",
     "text": [
      "validation loss = 227006606512713.156\n",
      "Epoch 64/100\n",
      "Training phase...\n"
     ]
    },
    {
     "name": "stderr",
     "output_type": "stream",
     "text": [
      "loss = 1283034909245440.000: 100%|██████████| 24/24 [00:00<00:00, 77.48it/s]\n"
     ]
    },
    {
     "name": "stdout",
     "output_type": "stream",
     "text": [
      "train loss = 809363132383232.000\n",
      "Validation phase...\n"
     ]
    },
    {
     "name": "stderr",
     "output_type": "stream",
     "text": [
      "loss = 137225320792064.000: 100%|██████████| 7/7 [00:00<00:00, 174.99it/s]\n"
     ]
    },
    {
     "name": "stdout",
     "output_type": "stream",
     "text": [
      "validation loss = 227006606512713.156\n",
      "Epoch 65/100\n",
      "Training phase...\n"
     ]
    },
    {
     "name": "stderr",
     "output_type": "stream",
     "text": [
      "loss = 2590803461406720.000: 100%|██████████| 24/24 [00:00<00:00, 70.33it/s]\n"
     ]
    },
    {
     "name": "stdout",
     "output_type": "stream",
     "text": [
      "train loss = 812768746449578.625\n",
      "Validation phase...\n"
     ]
    },
    {
     "name": "stderr",
     "output_type": "stream",
     "text": [
      "loss = 137225295626240.000: 100%|██████████| 7/7 [00:00<00:00, 168.54it/s]\n"
     ]
    },
    {
     "name": "stdout",
     "output_type": "stream",
     "text": [
      "validation loss = 227006596925732.562\n",
      "Epoch 66/100\n",
      "Training phase...\n"
     ]
    },
    {
     "name": "stderr",
     "output_type": "stream",
     "text": [
      "loss = 620354741469184.000: 100%|██████████| 24/24 [00:00<00:00, 72.07it/s] \n"
     ]
    },
    {
     "name": "stdout",
     "output_type": "stream",
     "text": [
      "train loss = 807637353846101.375\n",
      "Validation phase...\n"
     ]
    },
    {
     "name": "stderr",
     "output_type": "stream",
     "text": [
      "loss = 137225295626240.000: 100%|██████████| 7/7 [00:00<00:00, 175.00it/s]\n"
     ]
    },
    {
     "name": "stdout",
     "output_type": "stream",
     "text": [
      "validation loss = 227006584942006.844\n",
      "Epoch 67/100\n",
      "Training phase...\n"
     ]
    },
    {
     "name": "stderr",
     "output_type": "stream",
     "text": [
      "loss = 383003339522048.000: 100%|██████████| 24/24 [00:00<00:00, 70.59it/s] \n"
     ]
    },
    {
     "name": "stdout",
     "output_type": "stream",
     "text": [
      "train loss = 807019250450432.000\n",
      "Validation phase...\n"
     ]
    },
    {
     "name": "stderr",
     "output_type": "stream",
     "text": [
      "loss = 137225287237632.000: 100%|██████████| 7/7 [00:00<00:00, 184.25it/s]\n"
     ]
    },
    {
     "name": "stdout",
     "output_type": "stream",
     "text": [
      "validation loss = 227006570561536.000\n",
      "Epoch 68/100\n",
      "Training phase...\n"
     ]
    },
    {
     "name": "stderr",
     "output_type": "stream",
     "text": [
      "loss = 693821096591360.000: 100%|██████████| 24/24 [00:00<00:00, 76.00it/s]\n"
     ]
    },
    {
     "name": "stdout",
     "output_type": "stream",
     "text": [
      "train loss = 807828640672426.625\n",
      "Validation phase...\n"
     ]
    },
    {
     "name": "stderr",
     "output_type": "stream",
     "text": [
      "loss = 137225278849024.000: 100%|██████████| 7/7 [00:00<00:00, 175.00it/s]\n"
     ]
    },
    {
     "name": "stdout",
     "output_type": "stream",
     "text": [
      "validation loss = 227006566966418.281\n",
      "Epoch 69/100\n",
      "Training phase...\n"
     ]
    },
    {
     "name": "stderr",
     "output_type": "stream",
     "text": [
      "loss = 613707608489984.000: 100%|██████████| 24/24 [00:00<00:00, 78.97it/s] \n"
     ]
    },
    {
     "name": "stdout",
     "output_type": "stream",
     "text": [
      "train loss = 807620031370581.375\n",
      "Validation phase...\n"
     ]
    },
    {
     "name": "stderr",
     "output_type": "stream",
     "text": [
      "loss = 137225278849024.000: 100%|██████████| 7/7 [00:00<00:00, 142.86it/s]\n"
     ]
    },
    {
     "name": "stdout",
     "output_type": "stream",
     "text": [
      "validation loss = 227006566966418.281\n",
      "Epoch 70/100\n",
      "Training phase...\n"
     ]
    },
    {
     "name": "stderr",
     "output_type": "stream",
     "text": [
      "loss = 809321826877440.000: 100%|██████████| 24/24 [00:00<00:00, 72.97it/s] \n"
     ]
    },
    {
     "name": "stdout",
     "output_type": "stream",
     "text": [
      "train loss = 808129393240746.625\n",
      "Validation phase...\n"
     ]
    },
    {
     "name": "stderr",
     "output_type": "stream",
     "text": [
      "loss = 137225262071808.000: 100%|██████████| 7/7 [00:00<00:00, 189.20it/s]\n"
     ]
    },
    {
     "name": "stdout",
     "output_type": "stream",
     "text": [
      "validation loss = 227006553784320.000\n",
      "Epoch 71/100\n",
      "Training phase...\n"
     ]
    },
    {
     "name": "stderr",
     "output_type": "stream",
     "text": [
      "loss = 665314593341440.000: 100%|██████████| 24/24 [00:00<00:00, 76.59it/s] \n"
     ]
    },
    {
     "name": "stdout",
     "output_type": "stream",
     "text": [
      "train loss = 807754363742890.625\n",
      "Validation phase...\n"
     ]
    },
    {
     "name": "stderr",
     "output_type": "stream",
     "text": [
      "loss = 137225262071808.000: 100%|██████████| 7/7 [00:00<00:00, 166.65it/s]\n"
     ]
    },
    {
     "name": "stdout",
     "output_type": "stream",
     "text": [
      "validation loss = 227006533411986.281\n",
      "Epoch 72/100\n",
      "Training phase...\n"
     ]
    },
    {
     "name": "stderr",
     "output_type": "stream",
     "text": [
      "loss = 589310986289152.000: 100%|██████████| 24/24 [00:00<00:00, 73.52it/s]\n"
     ]
    },
    {
     "name": "stdout",
     "output_type": "stream",
     "text": [
      "train loss = 807556421954218.625\n",
      "Validation phase...\n"
     ]
    },
    {
     "name": "stderr",
     "output_type": "stream",
     "text": [
      "loss = 137225262071808.000: 100%|██████████| 7/7 [00:00<00:00, 166.69it/s]\n"
     ]
    },
    {
     "name": "stdout",
     "output_type": "stream",
     "text": [
      "validation loss = 227006509444534.844\n",
      "Epoch 73/100\n",
      "Training phase...\n"
     ]
    },
    {
     "name": "stderr",
     "output_type": "stream",
     "text": [
      "loss = 375909664161792.000: 100%|██████████| 24/24 [00:00<00:00, 76.98it/s] \n"
     ]
    },
    {
     "name": "stdout",
     "output_type": "stream",
     "text": [
      "train loss = 807000647314090.625\n",
      "Validation phase...\n"
     ]
    },
    {
     "name": "stderr",
     "output_type": "stream",
     "text": [
      "loss = 137225228517376.000: 100%|██████████| 7/7 [00:00<00:00, 179.50it/s]\n"
     ]
    },
    {
     "name": "stdout",
     "output_type": "stream",
     "text": [
      "validation loss = 227006501055926.844\n",
      "Epoch 74/100\n",
      "Training phase...\n"
     ]
    },
    {
     "name": "stderr",
     "output_type": "stream",
     "text": [
      "loss = 863023413592064.000: 100%|██████████| 24/24 [00:00<00:00, 73.87it/s] \n"
     ]
    },
    {
     "name": "stdout",
     "output_type": "stream",
     "text": [
      "train loss = 808269196383573.375\n",
      "Validation phase...\n"
     ]
    },
    {
     "name": "stderr",
     "output_type": "stream",
     "text": [
      "loss = 137225228517376.000: 100%|██████████| 7/7 [00:00<00:00, 140.00it/s]\n"
     ]
    },
    {
     "name": "stdout",
     "output_type": "stream",
     "text": [
      "validation loss = 227006501055926.844\n",
      "Epoch 75/100\n",
      "Training phase...\n"
     ]
    },
    {
     "name": "stderr",
     "output_type": "stream",
     "text": [
      "loss = 371118561034240.000: 100%|██████████| 24/24 [00:00<00:00, 77.72it/s] \n"
     ]
    },
    {
     "name": "stdout",
     "output_type": "stream",
     "text": [
      "train loss = 806988165065386.625\n",
      "Validation phase...\n"
     ]
    },
    {
     "name": "stderr",
     "output_type": "stream",
     "text": [
      "loss = 137225220128768.000: 100%|██████████| 7/7 [00:00<00:00, 170.75it/s]\n"
     ]
    },
    {
     "name": "stdout",
     "output_type": "stream",
     "text": [
      "validation loss = 227006487873828.562\n",
      "Epoch 76/100\n",
      "Training phase...\n"
     ]
    },
    {
     "name": "stderr",
     "output_type": "stream",
     "text": [
      "loss = 1609920575176704.000: 100%|██████████| 24/24 [00:00<00:00, 73.08it/s]\n"
     ]
    },
    {
     "name": "stdout",
     "output_type": "stream",
     "text": [
      "train loss = 810214229366101.375\n",
      "Validation phase...\n"
     ]
    },
    {
     "name": "stderr",
     "output_type": "stream",
     "text": [
      "loss = 137225203351552.000: 100%|██████████| 7/7 [00:00<00:00, 155.54it/s]\n"
     ]
    },
    {
     "name": "stdout",
     "output_type": "stream",
     "text": [
      "validation loss = 227006471096612.562\n",
      "Epoch 77/100\n",
      "Training phase...\n"
     ]
    },
    {
     "name": "stderr",
     "output_type": "stream",
     "text": [
      "loss = 462374838468608.000: 100%|██████████| 24/24 [00:00<00:00, 70.00it/s] \n"
     ]
    },
    {
     "name": "stdout",
     "output_type": "stream",
     "text": [
      "train loss = 807225784969898.625\n",
      "Validation phase...\n"
     ]
    },
    {
     "name": "stderr",
     "output_type": "stream",
     "text": [
      "loss = 137225203351552.000: 100%|██████████| 7/7 [00:00<00:00, 194.43it/s]\n"
     ]
    },
    {
     "name": "stdout",
     "output_type": "stream",
     "text": [
      "validation loss = 227006471096612.562\n",
      "Epoch 78/100\n",
      "Training phase...\n"
     ]
    },
    {
     "name": "stderr",
     "output_type": "stream",
     "text": [
      "loss = 1089980961128448.000: 100%|██████████| 24/24 [00:00<00:00, 79.14it/s]\n"
     ]
    },
    {
     "name": "stdout",
     "output_type": "stream",
     "text": [
      "train loss = 808860180807680.000\n",
      "Validation phase...\n"
     ]
    },
    {
     "name": "stderr",
     "output_type": "stream",
     "text": [
      "loss = 137225203351552.000: 100%|██████████| 7/7 [00:00<00:00, 199.99it/s]\n"
     ]
    },
    {
     "name": "stdout",
     "output_type": "stream",
     "text": [
      "validation loss = 227006451922651.438\n",
      "Epoch 79/100\n",
      "Training phase...\n"
     ]
    },
    {
     "name": "stderr",
     "output_type": "stream",
     "text": [
      "loss = 640266746724352.000: 100%|██████████| 24/24 [00:00<00:00, 75.54it/s] \n"
     ]
    },
    {
     "name": "stdout",
     "output_type": "stream",
     "text": [
      "train loss = 807689037458090.625\n",
      "Validation phase...\n"
     ]
    },
    {
     "name": "stderr",
     "output_type": "stream",
     "text": [
      "loss = 137225203351552.000: 100%|██████████| 7/7 [00:00<00:00, 131.63it/s]\n"
     ]
    },
    {
     "name": "stdout",
     "output_type": "stream",
     "text": [
      "validation loss = 227006442335670.844\n",
      "Epoch 80/100\n",
      "Training phase...\n"
     ]
    },
    {
     "name": "stderr",
     "output_type": "stream",
     "text": [
      "loss = 692688500293632.000: 100%|██████████| 24/24 [00:00<00:00, 75.96it/s] \n"
     ]
    },
    {
     "name": "stdout",
     "output_type": "stream",
     "text": [
      "train loss = 807825497740629.375\n",
      "Validation phase...\n"
     ]
    },
    {
     "name": "stderr",
     "output_type": "stream",
     "text": [
      "loss = 137225186574336.000: 100%|██████████| 7/7 [00:00<00:00, 194.48it/s]\n"
     ]
    },
    {
     "name": "stdout",
     "output_type": "stream",
     "text": [
      "validation loss = 227006429153572.562\n",
      "Epoch 81/100\n",
      "Training phase...\n"
     ]
    },
    {
     "name": "stderr",
     "output_type": "stream",
     "text": [
      "loss = 2001256654569472.000: 100%|██████████| 24/24 [00:00<00:00, 72.95it/s]\n"
     ]
    },
    {
     "name": "stdout",
     "output_type": "stream",
     "text": [
      "train loss = 811233207560874.625\n",
      "Validation phase...\n"
     ]
    },
    {
     "name": "stderr",
     "output_type": "stream",
     "text": [
      "loss = 137225161408512.000: 100%|██████████| 7/7 [00:00<00:00, 174.99it/s]\n"
     ]
    },
    {
     "name": "stdout",
     "output_type": "stream",
     "text": [
      "validation loss = 227006423161709.719\n",
      "Epoch 82/100\n",
      "Training phase...\n"
     ]
    },
    {
     "name": "stderr",
     "output_type": "stream",
     "text": [
      "loss = 510883272851456.000: 100%|██████████| 24/24 [00:00<00:00, 75.00it/s]\n"
     ]
    },
    {
     "name": "stdout",
     "output_type": "stream",
     "text": [
      "train loss = 807352011150677.375\n",
      "Validation phase...\n"
     ]
    },
    {
     "name": "stderr",
     "output_type": "stream",
     "text": [
      "loss = 137225161408512.000: 100%|██████████| 7/7 [00:00<00:00, 179.46it/s]\n"
     ]
    },
    {
     "name": "stdout",
     "output_type": "stream",
     "text": [
      "validation loss = 227006423161709.719\n",
      "Epoch 83/100\n",
      "Training phase...\n"
     ]
    },
    {
     "name": "stderr",
     "output_type": "stream",
     "text": [
      "loss = 1543080951939072.000: 100%|██████████| 24/24 [00:00<00:00, 74.80it/s]\n"
     ]
    },
    {
     "name": "stdout",
     "output_type": "stream",
     "text": [
      "train loss = 810040031532373.375\n",
      "Validation phase...\n"
     ]
    },
    {
     "name": "stderr",
     "output_type": "stream",
     "text": [
      "loss = 137225161408512.000: 100%|██████████| 7/7 [00:00<00:00, 199.98it/s]\n"
     ]
    },
    {
     "name": "stdout",
     "output_type": "stream",
     "text": [
      "validation loss = 227006409979611.438\n",
      "Epoch 84/100\n",
      "Training phase...\n"
     ]
    },
    {
     "name": "stderr",
     "output_type": "stream",
     "text": [
      "loss = 1744337079631872.000: 100%|██████████| 24/24 [00:00<00:00, 76.71it/s]\n"
     ]
    },
    {
     "name": "stdout",
     "output_type": "stream",
     "text": [
      "train loss = 810564125196288.000\n",
      "Validation phase...\n"
     ]
    },
    {
     "name": "stderr",
     "output_type": "stream",
     "text": [
      "loss = 137225161408512.000: 100%|██████████| 7/7 [00:00<00:00, 141.23it/s]\n"
     ]
    },
    {
     "name": "stdout",
     "output_type": "stream",
     "text": [
      "validation loss = 227006409979611.438\n",
      "Epoch 85/100\n",
      "Training phase...\n"
     ]
    },
    {
     "name": "stderr",
     "output_type": "stream",
     "text": [
      "loss = 2174360613814272.000: 100%|██████████| 24/24 [00:00<00:00, 74.53it/s]\n"
     ]
    },
    {
     "name": "stdout",
     "output_type": "stream",
     "text": [
      "train loss = 811683947042133.375\n",
      "Validation phase...\n"
     ]
    },
    {
     "name": "stderr",
     "output_type": "stream",
     "text": [
      "loss = 137225144631296.000: 100%|██████████| 7/7 [00:00<00:00, 184.22it/s]\n"
     ]
    },
    {
     "name": "stdout",
     "output_type": "stream",
     "text": [
      "validation loss = 227006397995885.719\n",
      "Epoch 86/100\n",
      "Training phase...\n"
     ]
    },
    {
     "name": "stderr",
     "output_type": "stream",
     "text": [
      "loss = 969653560016896.000: 100%|██████████| 24/24 [00:00<00:00, 70.94it/s] \n"
     ]
    },
    {
     "name": "stdout",
     "output_type": "stream",
     "text": [
      "train loss = 808546697128618.625\n",
      "Validation phase...\n"
     ]
    },
    {
     "name": "stderr",
     "output_type": "stream",
     "text": [
      "loss = 137225127854080.000: 100%|██████████| 7/7 [00:00<00:00, 194.46it/s]\n"
     ]
    },
    {
     "name": "stdout",
     "output_type": "stream",
     "text": [
      "validation loss = 227006381218669.719\n",
      "Epoch 87/100\n",
      "Training phase...\n"
     ]
    },
    {
     "name": "stderr",
     "output_type": "stream",
     "text": [
      "loss = 932912799154176.000: 100%|██████████| 24/24 [00:00<00:00, 71.82it/s] \n"
     ]
    },
    {
     "name": "stdout",
     "output_type": "stream",
     "text": [
      "train loss = 808450987305642.625\n",
      "Validation phase...\n"
     ]
    },
    {
     "name": "stderr",
     "output_type": "stream",
     "text": [
      "loss = 137225127854080.000: 100%|██████████| 7/7 [00:00<00:00, 200.00it/s]\n"
     ]
    },
    {
     "name": "stdout",
     "output_type": "stream",
     "text": [
      "validation loss = 227006381218669.719\n",
      "Epoch 88/100\n",
      "Training phase...\n"
     ]
    },
    {
     "name": "stderr",
     "output_type": "stream",
     "text": [
      "loss = 572930383675392.000: 100%|██████████| 24/24 [00:00<00:00, 69.73it/s] \n"
     ]
    },
    {
     "name": "stdout",
     "output_type": "stream",
     "text": [
      "train loss = 807513531001514.625\n",
      "Validation phase...\n"
     ]
    },
    {
     "name": "stderr",
     "output_type": "stream",
     "text": [
      "loss = 137225119465472.000: 100%|██████████| 7/7 [00:00<00:00, 179.49it/s]\n"
     ]
    },
    {
     "name": "stdout",
     "output_type": "stream",
     "text": [
      "validation loss = 227006371631689.156\n",
      "Epoch 89/100\n",
      "Training phase...\n"
     ]
    },
    {
     "name": "stderr",
     "output_type": "stream",
     "text": [
      "loss = 586430606737408.000: 100%|██████████| 24/24 [00:00<00:00, 76.92it/s] \n"
     ]
    },
    {
     "name": "stdout",
     "output_type": "stream",
     "text": [
      "train loss = 807548647112704.000\n",
      "Validation phase...\n"
     ]
    },
    {
     "name": "stderr",
     "output_type": "stream",
     "text": [
      "loss = 137225119465472.000: 100%|██████████| 7/7 [00:00<00:00, 127.26it/s]\n"
     ]
    },
    {
     "name": "stdout",
     "output_type": "stream",
     "text": [
      "validation loss = 227006364441453.719\n",
      "Epoch 90/100\n",
      "Training phase...\n"
     ]
    },
    {
     "name": "stderr",
     "output_type": "stream",
     "text": [
      "loss = 560424680423424.000: 100%|██████████| 24/24 [00:00<00:00, 74.56it/s] \n"
     ]
    },
    {
     "name": "stdout",
     "output_type": "stream",
     "text": [
      "train loss = 807480906306901.375\n",
      "Validation phase...\n"
     ]
    },
    {
     "name": "stderr",
     "output_type": "stream",
     "text": [
      "loss = 137225102688256.000: 100%|██████████| 7/7 [00:00<00:00, 170.70it/s]\n"
     ]
    },
    {
     "name": "stdout",
     "output_type": "stream",
     "text": [
      "validation loss = 227006345267492.562\n",
      "Epoch 91/100\n",
      "Training phase...\n"
     ]
    },
    {
     "name": "stderr",
     "output_type": "stream",
     "text": [
      "loss = 992179925286912.000: 100%|██████████| 24/24 [00:00<00:00, 77.98it/s] \n"
     ]
    },
    {
     "name": "stdout",
     "output_type": "stream",
     "text": [
      "train loss = 808605258001066.625\n",
      "Validation phase...\n"
     ]
    },
    {
     "name": "stderr",
     "output_type": "stream",
     "text": [
      "loss = 137225102688256.000: 100%|██████████| 7/7 [00:00<00:00, 184.18it/s]\n"
     ]
    },
    {
     "name": "stdout",
     "output_type": "stream",
     "text": [
      "validation loss = 227006333283766.844\n",
      "Epoch 92/100\n",
      "Training phase...\n"
     ]
    },
    {
     "name": "stderr",
     "output_type": "stream",
     "text": [
      "loss = 855198855593984.000: 100%|██████████| 24/24 [00:00<00:00, 75.71it/s] \n"
     ]
    },
    {
     "name": "stdout",
     "output_type": "stream",
     "text": [
      "train loss = 808248538038272.000\n",
      "Validation phase...\n"
     ]
    },
    {
     "name": "stderr",
     "output_type": "stream",
     "text": [
      "loss = 137225102688256.000: 100%|██████████| 7/7 [00:00<00:00, 166.68it/s]\n"
     ]
    },
    {
     "name": "stdout",
     "output_type": "stream",
     "text": [
      "validation loss = 227006333283766.844\n",
      "Epoch 93/100\n",
      "Training phase...\n"
     ]
    },
    {
     "name": "stderr",
     "output_type": "stream",
     "text": [
      "loss = 481167937634304.000: 100%|██████████| 24/24 [00:00<00:00, 75.95it/s] \n"
     ]
    },
    {
     "name": "stdout",
     "output_type": "stream",
     "text": [
      "train loss = 807274483635541.375\n",
      "Validation phase...\n"
     ]
    },
    {
     "name": "stderr",
     "output_type": "stream",
     "text": [
      "loss = 137225094299648.000: 100%|██████████| 7/7 [00:00<00:00, 170.73it/s]\n"
     ]
    },
    {
     "name": "stdout",
     "output_type": "stream",
     "text": [
      "validation loss = 227006321300041.156\n",
      "Epoch 94/100\n",
      "Training phase...\n"
     ]
    },
    {
     "name": "stderr",
     "output_type": "stream",
     "text": [
      "loss = 695489355841536.000: 100%|██████████| 24/24 [00:00<00:00, 59.27it/s] \n"
     ]
    },
    {
     "name": "stdout",
     "output_type": "stream",
     "text": [
      "train loss = 807832588910592.000\n",
      "Validation phase...\n"
     ]
    },
    {
     "name": "stderr",
     "output_type": "stream",
     "text": [
      "loss = 137225094299648.000: 100%|██████████| 7/7 [00:00<00:00, 166.68it/s]\n"
     ]
    },
    {
     "name": "stdout",
     "output_type": "stream",
     "text": [
      "validation loss = 227006321300041.156\n",
      "Epoch 95/100\n",
      "Training phase...\n"
     ]
    },
    {
     "name": "stderr",
     "output_type": "stream",
     "text": [
      "loss = 1311434440966144.000: 100%|██████████| 24/24 [00:00<00:00, 73.15it/s]\n"
     ]
    },
    {
     "name": "stdout",
     "output_type": "stream",
     "text": [
      "train loss = 809436606802602.625\n",
      "Validation phase...\n"
     ]
    },
    {
     "name": "stderr",
     "output_type": "stream",
     "text": [
      "loss = 137225060745216.000: 100%|██████████| 7/7 [00:00<00:00, 179.48it/s]\n"
     ]
    },
    {
     "name": "stdout",
     "output_type": "stream",
     "text": [
      "validation loss = 227006312911433.156\n",
      "Epoch 96/100\n",
      "Training phase...\n"
     ]
    },
    {
     "name": "stderr",
     "output_type": "stream",
     "text": [
      "loss = 638703110193152.000: 100%|██████████| 24/24 [00:00<00:00, 67.35it/s] \n"
     ]
    },
    {
     "name": "stdout",
     "output_type": "stream",
     "text": [
      "train loss = 807684687964842.625\n",
      "Validation phase...\n"
     ]
    },
    {
     "name": "stderr",
     "output_type": "stream",
     "text": [
      "loss = 137225060745216.000: 100%|██████████| 7/7 [00:00<00:00, 172.71it/s]\n"
     ]
    },
    {
     "name": "stdout",
     "output_type": "stream",
     "text": [
      "validation loss = 227006297332589.719\n",
      "Epoch 97/100\n",
      "Training phase...\n"
     ]
    },
    {
     "name": "stderr",
     "output_type": "stream",
     "text": [
      "loss = 446271529680896.000: 100%|██████████| 24/24 [00:00<00:00, 76.19it/s] \n"
     ]
    },
    {
     "name": "stdout",
     "output_type": "stream",
     "text": [
      "train loss = 807183566503936.000\n",
      "Validation phase...\n"
     ]
    },
    {
     "name": "stderr",
     "output_type": "stream",
     "text": [
      "loss = 137225060745216.000: 100%|██████████| 7/7 [00:00<00:00, 151.21it/s]\n"
     ]
    },
    {
     "name": "stdout",
     "output_type": "stream",
     "text": [
      "validation loss = 227006297332589.719\n",
      "Epoch 98/100\n",
      "Training phase...\n"
     ]
    },
    {
     "name": "stderr",
     "output_type": "stream",
     "text": [
      "loss = 944174673166336.000: 100%|██████████| 24/24 [00:00<00:00, 75.99it/s] \n"
     ]
    },
    {
     "name": "stdout",
     "output_type": "stream",
     "text": [
      "train loss = 808480169874773.375\n",
      "Validation phase...\n"
     ]
    },
    {
     "name": "stderr",
     "output_type": "stream",
     "text": [
      "loss = 137225043968000.000: 100%|██████████| 7/7 [00:00<00:00, 134.61it/s]\n"
     ]
    },
    {
     "name": "stdout",
     "output_type": "stream",
     "text": [
      "validation loss = 227006285348864.000\n",
      "Epoch 99/100\n",
      "Training phase...\n"
     ]
    },
    {
     "name": "stderr",
     "output_type": "stream",
     "text": [
      "loss = 621342047076352.000: 100%|██████████| 24/24 [00:00<00:00, 72.21it/s] \n"
     ]
    },
    {
     "name": "stdout",
     "output_type": "stream",
     "text": [
      "train loss = 807639420239872.000\n",
      "Validation phase...\n"
     ]
    },
    {
     "name": "stderr",
     "output_type": "stream",
     "text": [
      "loss = 137225043968000.000: 100%|██████████| 7/7 [00:00<00:00, 184.24it/s]\n"
     ]
    },
    {
     "name": "stdout",
     "output_type": "stream",
     "text": [
      "validation loss = 227006266174902.844\n",
      "Epoch 100/100\n",
      "Training phase...\n"
     ]
    },
    {
     "name": "stderr",
     "output_type": "stream",
     "text": [
      "loss = 472829929717760.000: 100%|██████████| 24/24 [00:00<00:00, 76.19it/s] \n"
     ]
    },
    {
     "name": "stdout",
     "output_type": "stream",
     "text": [
      "train loss = 807252646690816.000\n",
      "Validation phase...\n"
     ]
    },
    {
     "name": "stderr",
     "output_type": "stream",
     "text": [
      "loss = 137225027190784.000: 100%|██████████| 7/7 [00:00<00:00, 162.76it/s]\n"
     ]
    },
    {
     "name": "stdout",
     "output_type": "stream",
     "text": [
      "validation loss = 227006255389549.719\n"
     ]
    }
   ],
   "source": [
    "train_loss, val_loss = fit(model, train_loader, val_loader, optimizer, num_epochs=NUM_EPOCHS, device=DEVICE)"
   ]
  },
  {
   "cell_type": "code",
   "execution_count": 29,
   "metadata": {},
   "outputs": [
    {
     "data": {
      "image/png": "[encoded data removed]",
      "text/plain": [
       "<Figure size 432x288 with 1 Axes>"
      ]
     },
     "metadata": {
      "needs_background": "light"
     },
     "output_type": "display_data"
    }
   ],
   "source": [
    "plt.title('Train and validation losses')\n",
    "plt.plot(range(len(train_loss)), train_loss, label='train loss')\n",
    "plt.plot(range(len(val_loss)), val_loss, label='validation loss')\n",
    "plt.legend()\n",
    "plt.show()"
   ]
  },
  {
   "cell_type": "code",
   "execution_count": 30,
   "metadata": {},
   "outputs": [],
   "source": [
    "torch.save(model.state_dict(), r'C:\\Users\\João Ferreira\\Desktop\\FEUP\\2022_2023\\1S - 02 - MECD10 - Tópicos Avançados de Aprendizagem Computacional\\Projeto_TAAC\\Development\\model_GOOGL_2012_2022.pt')"
   ]
  },
  {
   "cell_type": "code",
   "execution_count": 31,
   "metadata": {},
   "outputs": [
    {
     "name": "stderr",
     "output_type": "stream",
     "text": [
      "loss = 137225027190784.000: 100%|██████████| 7/7 [00:00<00:00, 80.89it/s]"
     ]
    },
    {
     "name": "stdout",
     "output_type": "stream",
     "text": [
      "Test loss = 227006255389549.719\n"
     ]
    },
    {
     "name": "stderr",
     "output_type": "stream",
     "text": [
      "\n"
     ]
    }
   ],
   "source": [
    "test_loss = evaluate(model, val_loader, device=DEVICE)\n",
    "print(f'Test loss = {test_loss:.3f}')"
   ]
  },
  {
   "cell_type": "code",
   "execution_count": 32,
   "metadata": {},
   "outputs": [],
   "source": [
    "def predict(model, data_loader, **kwargs):\n",
    "    num_steps = kwargs.get('num_steps', 24)\n",
    "    device = kwargs.get('device', torch.device('cpu'))\n",
    "    \n",
    "    model.eval()\n",
    "    preds = []\n",
    "    pbar = tqdm(enumerate(data_loader), total=len(data_loader))\n",
    "    for i, batch in pbar:\n",
    "        ## YOUR CODE HERE ##\n",
    "        batch['inputs'] = batch['inputs'].to(device)\n",
    "        with torch.no_grad():\n",
    "            preds_i = model(batch['inputs'], num_steps).cpu()\n",
    "        preds.extend([pred for pred in preds_i])\n",
    "        ## *** ##\n",
    "    return preds"
   ]
  },
  {
   "cell_type": "code",
   "execution_count": 33,
   "metadata": {},
   "outputs": [
    {
     "name": "stderr",
     "output_type": "stream",
     "text": [
      "100%|██████████| 4/4 [00:00<00:00, 166.54it/s]\n"
     ]
    }
   ],
   "source": [
    "test_preds = predict(model, test_loader, num_steps=TARGET_WIDTH, device=DEVICE)"
   ]
  },
  {
   "cell_type": "code",
   "execution_count": 34,
   "metadata": {},
   "outputs": [
    {
     "name": "stdout",
     "output_type": "stream",
     "text": [
      "54\n"
     ]
    },
    {
     "data": {
      "image/png": "[encoded data removed]",
      "text/plain": [
       "<Figure size 432x288 with 1 Axes>"
      ]
     },
     "metadata": {
      "needs_background": "light"
     },
     "output_type": "display_data"
    },
    {
     "data": {
      "image/png": "[encoded data removed]",
      "text/plain": [
       "<Figure size 432x288 with 1 Axes>"
      ]
     },
     "metadata": {
      "needs_background": "light"
     },
     "output_type": "display_data"
    },
    {
     "data": {
      "image/png": "[encoded data removed]",
      "text/plain": [
       "<Figure size 432x288 with 1 Axes>"
      ]
     },
     "metadata": {
      "needs_background": "light"
     },
     "output_type": "display_data"
    }
   ],
   "source": [
    "idx = random.randint(0, len(test_data))\n",
    "print(len(test_data))\n",
    "inputs = test_data[idx]['inputs'].numpy()\n",
    "targets = test_data[idx]['targets'].numpy()\n",
    "preds = test_preds[idx].numpy()\n",
    "\n",
    "for i in [1, 2, 3]:\n",
    "    plt.plot(range(INPUT_WIDTH), inputs[:,i], label='input')\n",
    "    plt.plot(range(INPUT_WIDTH, INPUT_WIDTH + TARGET_WIDTH), targets[:,i], label='target')\n",
    "    plt.plot(range(INPUT_WIDTH, INPUT_WIDTH + TARGET_WIDTH), preds[:,i], label='prediction')\n",
    "    plt.ylabel(test_df.columns[i])\n",
    "    plt.xlabel('Time')\n",
    "    plt.legend()\n",
    "    plt.show()"
   ]
  },
  {
   "cell_type": "markdown",
   "metadata": {},
   "source": [
    "# RNN"
   ]
  },
  {
   "cell_type": "code",
   "execution_count": null,
   "metadata": {},
   "outputs": [],
   "source": []
  },
  {
   "cell_type": "code",
   "execution_count": null,
   "metadata": {},
   "outputs": [],
   "source": []
  },
  {
   "cell_type": "code",
   "execution_count": null,
   "metadata": {},
   "outputs": [],
   "source": []
  }
 ],
 "metadata": {
  "kernelspec": {
   "display_name": "Python 3.7.9 64-bit",
   "language": "python",
   "name": "python3"
  },
  "language_info": {
   "codemirror_mode": {
    "name": "ipython",
    "version": 3
   },
   "file_extension": ".py",
   "mimetype": "text/x-python",
   "name": "python",
   "nbconvert_exporter": "python",
   "pygments_lexer": "ipython3",
   "version": "3.7.9"
  },
  "orig_nbformat": 4,
  "vscode": {
   "interpreter": {
    "hash": "5109d816b82be14675a6b11f8e0f0d2e80f029176ed3710d54e125caa8520dfd"
   }
  }
 },
 "nbformat": 4,
 "nbformat_minor": 2
}
