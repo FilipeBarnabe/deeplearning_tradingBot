{
 "cells": [
  {
   "cell_type": "code",
   "execution_count": 1,
   "metadata": {},
   "outputs": [],
   "source": [
    "# Data related variables, treatment, loading and visualization\n",
    "import pandas as pd\n",
    "import numpy as np\n",
    "import matplotlib.pyplot as plt\n",
    "import math\n",
    "\n",
    "# Just to time the training of the model\n",
    "import time\n",
    "\n",
    "# Pytorch libraries to create and train the model\n",
    "import torch\n",
    "import torch.nn as nn\n",
    "from torch.utils.data import Dataset, DataLoader\n",
    "from torchmetrics import MeanAbsoluteError, MeanAbsolutePercentageError\n",
    "\n",
    "# Remove Warnings \n",
    "import warnings\n",
    "warnings.filterwarnings('ignore')"
   ]
  },
  {
   "cell_type": "markdown",
   "metadata": {},
   "source": [
    "\"\"\" \\\n",
    "Our transformer model will have an input size of (32, 128, 5) \\\n",
    "32 -> batch size \\\n",
    "128 -> sequence length \\\n",
    "5 -> number of features (Open, Low, High, Close) \\\n",
    "\"\"\""
   ]
  },
  {
   "cell_type": "code",
   "execution_count": 2,
   "metadata": {},
   "outputs": [],
   "source": [
    "# the features are separated into sequences of 128 days, 4 price features and 1 volume feature\n",
    "seq_len = 128\n",
    "# target_len = 3\n",
    "\n",
    "# during a single step the model receives 32 sequences\n",
    "batch_size = 32"
   ]
  },
  {
   "cell_type": "code",
   "execution_count": 3,
   "metadata": {},
   "outputs": [],
   "source": [
    "# Stock for the deep learning\n",
    "ticker = \"GOOGL\""
   ]
  },
  {
   "cell_type": "code",
   "execution_count": 4,
   "metadata": {},
   "outputs": [],
   "source": [
    "# Importing dataset (use the function in data/data.py)\n",
    "df = pd.read_csv(\n",
    "    \"data/data.csv\", usecols=[\"Date\", \"High\", \"Low\", \"Open\", \"Close\", \"Volume\"]\n",
    ")"
   ]
  },
  {
   "cell_type": "code",
   "execution_count": 5,
   "metadata": {},
   "outputs": [
    {
     "data": {
      "text/html": [
       "<div>\n",
       "<style scoped>\n",
       "    .dataframe tbody tr th:only-of-type {\n",
       "        vertical-align: middle;\n",
       "    }\n",
       "\n",
       "    .dataframe tbody tr th {\n",
       "        vertical-align: top;\n",
       "    }\n",
       "\n",
       "    .dataframe thead th {\n",
       "        text-align: right;\n",
       "    }\n",
       "</style>\n",
       "<table border=\"1\" class=\"dataframe\">\n",
       "  <thead>\n",
       "    <tr style=\"text-align: right;\">\n",
       "      <th></th>\n",
       "      <th>Date</th>\n",
       "      <th>High</th>\n",
       "      <th>Low</th>\n",
       "      <th>Open</th>\n",
       "      <th>Close</th>\n",
       "      <th>Volume</th>\n",
       "    </tr>\n",
       "  </thead>\n",
       "  <tbody>\n",
       "    <tr>\n",
       "      <th>6661</th>\n",
       "      <td>2022-11-14</td>\n",
       "      <td>92.391</td>\n",
       "      <td>89.701999</td>\n",
       "      <td>90.684000</td>\n",
       "      <td>91.674001</td>\n",
       "      <td>37950530.0</td>\n",
       "    </tr>\n",
       "    <tr>\n",
       "      <th>6662</th>\n",
       "      <td>2022-11-15</td>\n",
       "      <td>93.741</td>\n",
       "      <td>91.001999</td>\n",
       "      <td>91.970000</td>\n",
       "      <td>92.860001</td>\n",
       "      <td>37004050.0</td>\n",
       "    </tr>\n",
       "    <tr>\n",
       "      <th>6663</th>\n",
       "      <td>2022-11-16</td>\n",
       "      <td>95.041</td>\n",
       "      <td>92.394999</td>\n",
       "      <td>93.220000</td>\n",
       "      <td>94.087001</td>\n",
       "      <td>34804010.0</td>\n",
       "    </tr>\n",
       "    <tr>\n",
       "      <th>6664</th>\n",
       "      <td>2022-11-17</td>\n",
       "      <td>96.079</td>\n",
       "      <td>93.388999</td>\n",
       "      <td>94.189001</td>\n",
       "      <td>95.074001</td>\n",
       "      <td>34001380.0</td>\n",
       "    </tr>\n",
       "    <tr>\n",
       "      <th>6665</th>\n",
       "      <td>2022-11-18</td>\n",
       "      <td>96.937</td>\n",
       "      <td>94.267000</td>\n",
       "      <td>95.176000</td>\n",
       "      <td>95.927001</td>\n",
       "      <td>33791360.0</td>\n",
       "    </tr>\n",
       "  </tbody>\n",
       "</table>\n",
       "</div>"
      ],
      "text/plain": [
       "            Date    High        Low       Open      Close      Volume\n",
       "6661  2022-11-14  92.391  89.701999  90.684000  91.674001  37950530.0\n",
       "6662  2022-11-15  93.741  91.001999  91.970000  92.860001  37004050.0\n",
       "6663  2022-11-16  95.041  92.394999  93.220000  94.087001  34804010.0\n",
       "6664  2022-11-17  96.079  93.388999  94.189001  95.074001  34001380.0\n",
       "6665  2022-11-18  96.937  94.267000  95.176000  95.927001  33791360.0"
      ]
     },
     "execution_count": 5,
     "metadata": {},
     "output_type": "execute_result"
    }
   ],
   "source": [
    "# Avoid dividing by 0\n",
    "df[\"Volume\"].replace(to_replace=0, method=\"ffill\", inplace=True)\n",
    "\n",
    "# Sort the values based on date\n",
    "df.sort_values(\"Date\", inplace=True)\n",
    "\n",
    "# Apply moving average with a window of 10 days to all columns\n",
    "df[['Open', 'High', 'Low', 'Close', 'Volume']] = df[['Open', 'High', 'Low', 'Close', 'Volume']].rolling(10).mean() \n",
    "\n",
    "df.tail()"
   ]
  },
  {
   "cell_type": "code",
   "execution_count": 6,
   "metadata": {},
   "outputs": [],
   "source": [
    "df[\"Open\"] = df[\"Open\"].pct_change()  # Create arithmetic returns column\n",
    "df[\"High\"] = df[\"High\"].pct_change()  # Create arithmetic returns column\n",
    "df[\"Low\"] = df[\"Low\"].pct_change()  # Create arithmetic returns column\n",
    "df[\"Close\"] = df[\"Close\"].pct_change()  # Create arithmetic returns column\n",
    "df[\"Volume\"] = df[\"Volume\"].pct_change()\n",
    "\n",
    "# Drop the rows with the NaN created by the percentage change\n",
    "df.dropna(how=\"any\", axis=0, inplace=True)"
   ]
  },
  {
   "cell_type": "code",
   "execution_count": 7,
   "metadata": {},
   "outputs": [],
   "source": [
    "# Get the values to create the separation of the dataset\n",
    "times = sorted(df.index.values)\n",
    "last_10pct = sorted(df.index.values)[-int(0.1 * len(times))]\n",
    "last_20pct = sorted(df.index.values)[-int(0.2 * len(times))]"
   ]
  },
  {
   "cell_type": "code",
   "execution_count": 8,
   "metadata": {},
   "outputs": [],
   "source": [
    "# min-max price columns\n",
    "min_return = min(\n",
    "    df[(df.index < last_20pct)][[\"Open\", \"High\", \"Low\", \"Close\"]].min(axis=0)\n",
    ")\n",
    "max_return = max(\n",
    "    df[(df.index < last_20pct)][[\"Open\", \"High\", \"Low\", \"Close\"]].max(axis=0)\n",
    ")\n",
    "\n",
    "# Min-max normalize price columns (0-1 range)\n",
    "df[\"Open\"] = (df[\"Open\"] - min_return) / (max_return - min_return)\n",
    "df[\"High\"] = (df[\"High\"] - min_return) / (max_return - min_return)\n",
    "df[\"Low\"] = (df[\"Low\"] - min_return) / (max_return - min_return)\n",
    "df[\"Close\"] = (df[\"Close\"] - min_return) / (max_return - min_return)"
   ]
  },
  {
   "cell_type": "code",
   "execution_count": 9,
   "metadata": {},
   "outputs": [],
   "source": [
    "# min-max volume column\n",
    "min_volume = df[(df.index < last_20pct)][\"Volume\"].min(axis=0)\n",
    "max_volume = df[(df.index < last_20pct)][\"Volume\"].max(axis=0)\n",
    "\n",
    "# Min-max normalize volume columns (0-1 range)\n",
    "df[\"Volume\"] = (df[\"Volume\"] - min_volume) / (max_volume - min_volume)"
   ]
  },
  {
   "cell_type": "code",
   "execution_count": 10,
   "metadata": {},
   "outputs": [
    {
     "name": "stdout",
     "output_type": "stream",
     "text": [
      "Training data shape: (5325, 5)\n",
      "Validation data shape: (666, 5)\n",
      "Test data shape: (665, 5)\n"
     ]
    },
    {
     "data": {
      "text/html": [
       "<div>\n",
       "<style scoped>\n",
       "    .dataframe tbody tr th:only-of-type {\n",
       "        vertical-align: middle;\n",
       "    }\n",
       "\n",
       "    .dataframe tbody tr th {\n",
       "        vertical-align: top;\n",
       "    }\n",
       "\n",
       "    .dataframe thead th {\n",
       "        text-align: right;\n",
       "    }\n",
       "</style>\n",
       "<table border=\"1\" class=\"dataframe\">\n",
       "  <thead>\n",
       "    <tr style=\"text-align: right;\">\n",
       "      <th></th>\n",
       "      <th>High</th>\n",
       "      <th>Low</th>\n",
       "      <th>Open</th>\n",
       "      <th>Close</th>\n",
       "      <th>Volume</th>\n",
       "    </tr>\n",
       "  </thead>\n",
       "  <tbody>\n",
       "    <tr>\n",
       "      <th>10</th>\n",
       "      <td>0.533315</td>\n",
       "      <td>0.624841</td>\n",
       "      <td>0.594562</td>\n",
       "      <td>0.555345</td>\n",
       "      <td>0.137539</td>\n",
       "    </tr>\n",
       "    <tr>\n",
       "      <th>11</th>\n",
       "      <td>0.403434</td>\n",
       "      <td>0.485776</td>\n",
       "      <td>0.530637</td>\n",
       "      <td>0.358239</td>\n",
       "      <td>0.249561</td>\n",
       "    </tr>\n",
       "    <tr>\n",
       "      <th>12</th>\n",
       "      <td>0.374853</td>\n",
       "      <td>0.488245</td>\n",
       "      <td>0.481612</td>\n",
       "      <td>0.363512</td>\n",
       "      <td>0.223069</td>\n",
       "    </tr>\n",
       "    <tr>\n",
       "      <th>13</th>\n",
       "      <td>0.362567</td>\n",
       "      <td>0.446667</td>\n",
       "      <td>0.488121</td>\n",
       "      <td>0.328155</td>\n",
       "      <td>0.241760</td>\n",
       "    </tr>\n",
       "    <tr>\n",
       "      <th>14</th>\n",
       "      <td>0.281407</td>\n",
       "      <td>0.291742</td>\n",
       "      <td>0.271953</td>\n",
       "      <td>0.329953</td>\n",
       "      <td>0.364811</td>\n",
       "    </tr>\n",
       "  </tbody>\n",
       "</table>\n",
       "</div>"
      ],
      "text/plain": [
       "        High       Low      Open     Close    Volume\n",
       "10  0.533315  0.624841  0.594562  0.555345  0.137539\n",
       "11  0.403434  0.485776  0.530637  0.358239  0.249561\n",
       "12  0.374853  0.488245  0.481612  0.363512  0.223069\n",
       "13  0.362567  0.446667  0.488121  0.328155  0.241760\n",
       "14  0.281407  0.291742  0.271953  0.329953  0.364811"
      ]
     },
     "execution_count": 10,
     "metadata": {},
     "output_type": "execute_result"
    }
   ],
   "source": [
    "df_train = df[(df.index < last_20pct)]  # Training data are 80% of total data\n",
    "df_val = df[(df.index >= last_20pct) & (df.index < last_10pct)]\n",
    "df_test = df[(df.index >= last_10pct)]\n",
    "\n",
    "# Drop the date column from the splitted datasets\n",
    "df_train.drop(columns=[\"Date\"], inplace=True)\n",
    "df_val.drop(columns=[\"Date\"], inplace=True)\n",
    "df_test.drop(columns=[\"Date\"], inplace=True)\n",
    "\n",
    "# Train data into arrays np.ndarray\n",
    "train_data = df_train.values\n",
    "val_data = df_val.values\n",
    "test_data = df_test.values\n",
    "print(f\"Training data shape: {train_data.shape}\")\n",
    "print(f\"Validation data shape: {val_data.shape}\")\n",
    "print(f\"Test data shape: {test_data.shape}\")\n",
    "\n",
    "df_train.head()"
   ]
  },
  {
   "cell_type": "code",
   "execution_count": null,
   "metadata": {},
   "outputs": [],
   "source": []
  },
  {
   "cell_type": "code",
   "execution_count": 11,
   "metadata": {},
   "outputs": [],
   "source": [
    "# df_train.T#[:,0:128]"
   ]
  },
  {
   "cell_type": "code",
   "execution_count": 12,
   "metadata": {},
   "outputs": [],
   "source": [
    "# encoder_layer = nn.TransformerEncoderLayer(d_model=128, nhead=8)\n",
    "# src = torch.rand(10, 5, 128)\n",
    "# out = encoder_layer(src)"
   ]
  },
  {
   "cell_type": "code",
   "execution_count": 13,
   "metadata": {},
   "outputs": [],
   "source": [
    "# src.size()"
   ]
  },
  {
   "cell_type": "markdown",
   "metadata": {},
   "source": [
    "# Dataset"
   ]
  },
  {
   "cell_type": "code",
   "execution_count": 14,
   "metadata": {},
   "outputs": [],
   "source": [
    "class TickerData(Dataset):\n",
    "    def __init__(self, data: np.ndarray, seq_len: int) -> None:\n",
    "        \"\"\"Init function of dataset class\n",
    "\n",
    "        Args:\n",
    "            data (np.ndarray): data from the dataframe to numpy\n",
    "            seq_len (int): len of values to base for the prediction\n",
    "        \"\"\"\n",
    "        self.inputs, self.targets = [], []\n",
    "\n",
    "        for i in range(seq_len, len(data)):\n",
    "            # Chunks of  data with a length of 128 df-rows\n",
    "            self.inputs.append(data[i-seq_len:i])\n",
    "            \n",
    "            # Value of 4th column (Close Price) of df-row 128+1\n",
    "            self.targets.append(data[:, 3][i])\n",
    "        \n",
    "        self.inputs, self.targets = torch.FloatTensor(np.array(self.inputs)), torch.FloatTensor(np.array(self.targets))\n",
    "        # print(self.inputs)\n",
    "        # print(self.inputs.shape)\n",
    "        \n",
    "    def __getitem__(self, idx: int) -> dict:\n",
    "        \"\"\"Get item at a certain index\n",
    "\n",
    "        Args:\n",
    "            idx (int): index to get the value\n",
    "\n",
    "        Returns:\n",
    "            dict: returns the input and the target\n",
    "        \"\"\"\n",
    "        return {'inputs': self.inputs[idx],\n",
    "                'targets': self.targets[idx]}\n",
    "    \n",
    "    def __len__(self) -> int:\n",
    "        \"\"\"Length function \n",
    "\n",
    "        Returns:\n",
    "            int: length of the Dataset\n",
    "        \"\"\"\n",
    "        return min(len(self.inputs), len(self.targets))"
   ]
  },
  {
   "cell_type": "code",
   "execution_count": 15,
   "metadata": {},
   "outputs": [],
   "source": [
    "train_data = TickerData(data=train_data, seq_len=seq_len)\n",
    "val_data = TickerData(data=val_data, seq_len=seq_len)\n",
    "test_data = TickerData(data=test_data, seq_len=seq_len)"
   ]
  },
  {
   "cell_type": "code",
   "execution_count": 16,
   "metadata": {},
   "outputs": [
    {
     "data": {
      "text/plain": [
       "5197"
      ]
     },
     "execution_count": 16,
     "metadata": {},
     "output_type": "execute_result"
    }
   ],
   "source": [
    "len(train_data)"
   ]
  },
  {
   "cell_type": "markdown",
   "metadata": {},
   "source": [
    "# DataLoader"
   ]
  },
  {
   "cell_type": "code",
   "execution_count": 17,
   "metadata": {},
   "outputs": [],
   "source": [
    "train_loader = DataLoader(dataset=train_data, batch_size=batch_size, shuffle=False, drop_last=True)\n",
    "val_loader = DataLoader(dataset=val_data, batch_size=batch_size, shuffle=False)\n",
    "test_loader = DataLoader(dataset=test_data, batch_size=batch_size, shuffle=False, drop_last=True)"
   ]
  },
  {
   "cell_type": "code",
   "execution_count": 18,
   "metadata": {},
   "outputs": [],
   "source": [
    "# for _,batch in enumerate(train_loader):\n",
    "#     x = batch[\"inputs\"]\n",
    "#     break"
   ]
  },
  {
   "cell_type": "code",
   "execution_count": 19,
   "metadata": {},
   "outputs": [],
   "source": [
    "# x"
   ]
  },
  {
   "cell_type": "code",
   "execution_count": 20,
   "metadata": {},
   "outputs": [],
   "source": [
    "# x.swapaxes(1,2)"
   ]
  },
  {
   "cell_type": "code",
   "execution_count": null,
   "metadata": {},
   "outputs": [],
   "source": []
  },
  {
   "cell_type": "markdown",
   "metadata": {},
   "source": [
    "# Device"
   ]
  },
  {
   "cell_type": "code",
   "execution_count": 21,
   "metadata": {},
   "outputs": [],
   "source": [
    "# This concept is also called teacher forceing. \n",
    "# The flag decides if the loss will be calculted over all \n",
    "# or just the predicted values.\n",
    "calculate_loss_over_all_values = False\n",
    "\n",
    "# S is the source sequence length\n",
    "# T is the target sequence length\n",
    "# N is the batch size\n",
    "# E is the feature number\n",
    "\n",
    "#src = torch.rand((10, 32, 512)) # (S,N,E) \n",
    "#tgt = torch.rand((20, 32, 512)) # (T,N,E)\n",
    "#out = transformer_model(src, tgt)\n",
    "#\n",
    "#print(out)\n",
    "\n",
    "# input_window = 100\n",
    "# output_window = 5\n",
    "# batch_size = 10 # batch size\n",
    "device = torch.device(\"cpu\" if torch.backends.mps.is_available() else \"cpu\")"
   ]
  },
  {
   "cell_type": "code",
   "execution_count": 22,
   "metadata": {},
   "outputs": [
    {
     "data": {
      "text/plain": [
       "device(type='cpu')"
      ]
     },
     "execution_count": 22,
     "metadata": {},
     "output_type": "execute_result"
    }
   ],
   "source": [
    "device"
   ]
  },
  {
   "cell_type": "markdown",
   "metadata": {},
   "source": [
    "# Model"
   ]
  },
  {
   "cell_type": "code",
   "execution_count": 23,
   "metadata": {},
   "outputs": [],
   "source": [
    "# class PositionalEncoding(nn.Module):\n",
    "\n",
    "#     def __init__(self, d_model, max_len=5000):\n",
    "#         super(PositionalEncoding, self).__init__()       \n",
    "#         pe = torch.zeros(max_len, d_model)\n",
    "#         position = torch.arange(0, max_len, dtype=torch.float).unsqueeze(1)\n",
    "#         div_term = torch.exp(torch.arange(0, d_model, 2).float() * (-math.log(10000.0) / d_model))\n",
    "#         pe[:, 0::2] = torch.sin(position * div_term)\n",
    "#         pe[:, 1::2] = torch.cos(position * div_term)\n",
    "#         pe = pe.unsqueeze(0).transpose(0, 1)\n",
    "#         #pe.requires_grad = False\n",
    "#         self.register_buffer('pe', pe)\n",
    "\n",
    "#     def call(self, x):\n",
    "#         # Add extra dimension to self.pe\n",
    "#         self.pe = self.pe.unsqueeze(0)\n",
    "#         return x + self.pe[:x.size(0), :]\n",
    "\n",
    "\n",
    "#     def forward(self, x):\n",
    "#         print(x)\n",
    "#         # print(x.size())\n",
    "#         print(self.pe)\n",
    "#         # print(self.pe.size())\n",
    "#         # self.pe = self.pe.unsqueeze(0)\n",
    "#         return x + self.pe[:x.size(0), :]\n",
    "\n",
    "\n",
    "# class T2V(nn.Module):\n",
    "    \n",
    "#     def __init__(self, output_dim=None):\n",
    "#         super(T2V, self).__init__()\n",
    "#         self.output_dim = output_dim\n",
    "        \n",
    "#         self.W = nn.Parameter(torch.Tensor(input_shape[-1], self.output_dim))\n",
    "#         nn.init.uniform_(self.W)\n",
    "        \n",
    "#         self.P = nn.Parameter(torch.Tensor(input_shape[1], self.output_dim))\n",
    "#         nn.init.uniform_(self.P)\n",
    "        \n",
    "#         self.w = nn.Parameter(torch.Tensor(input_shape[1], 1))\n",
    "#         nn.init.uniform_(self.w)\n",
    "        \n",
    "#         self.p = nn.Parameter(torch.Tensor(input_shape[1], 1))\n",
    "#         nn.init.uniform_(self.p)\n",
    "\n",
    "#     def forward(self, x):\n",
    "#         original = self.w * x + self.p\n",
    "#         sin_trans = torch.sin(torch.matmul(x, self.W) + self.P)\n",
    "        \n",
    "#         return torch.cat([sin_trans, original], dim=-1)\n",
    "\n",
    "# class Time2Vector(nn.Module):\n",
    "#   def __init__(self, seq_len):\n",
    "#     super(Time2Vector, self).__init__()\n",
    "#     self.seq_len = seq_len\n",
    "\n",
    "#     # Initialize weights and biases with shape (seq_len)\n",
    "#     self.weights_linear = nn.Parameter(torch.Tensor(seq_len))\n",
    "#     self.bias_linear = nn.Parameter(torch.Tensor(seq_len))\n",
    "#     self.weights_periodic = nn.Parameter(torch.Tensor(seq_len))\n",
    "#     self.bias_periodic = nn.Parameter(torch.Tensor(seq_len))\n",
    "\n",
    "#   def forward(self, x):\n",
    "#     '''Calculate linear and periodic time features'''\n",
    "#     # print(x[:,:,:4])\n",
    "#     x = torch.mean(x[:,:,:4], dim=-1) \n",
    "#     # print(x)\n",
    "#     time_linear = self.weights_linear * x + self.bias_linear # Linear time feature\n",
    "#     time_linear = time_linear.unsqueeze(-1) # Add dimension (batch, seq_len, 1)\n",
    "    \n",
    "#     time_periodic = torch.sin(x * self.weights_periodic + self.bias_periodic)\n",
    "#     time_periodic = time_periodic.unsqueeze(-1) # Add dimension (batch, seq_len, 1)\n",
    "#     return torch.nan_to_num(torch.cat([time_linear, time_periodic], dim=-1).swapaxes(1,2)) # shape = (batch, seq_len, 2)\n",
    "\n",
    "class Time2Vector(nn.Module):\n",
    "    def __init__(self, seq_len):\n",
    "        super(Time2Vector, self).__init__()\n",
    "        self.seq_len = seq_len\n",
    "\n",
    "        self.weights_linear = nn.Parameter(torch.Tensor(int(self.seq_len)))\n",
    "        nn.init.uniform_(self.weights_linear)\n",
    "\n",
    "        self.bias_linear = nn.Parameter(torch.Tensor(int(self.seq_len)))\n",
    "        nn.init.uniform_(self.bias_linear)\n",
    "\n",
    "        self.weights_periodic = nn.Parameter(torch.Tensor(int(self.seq_len)))\n",
    "        nn.init.uniform_(self.weights_periodic)\n",
    "\n",
    "        self.bias_periodic = nn.Parameter(torch.Tensor(int(self.seq_len)))\n",
    "        nn.init.uniform_(self.bias_periodic)\n",
    "\n",
    "    def forward(self, x):\n",
    "        x = torch.mean(x[:,:,:4], dim=-1)\n",
    "        time_linear = self.weights_linear * x + self.bias_linear\n",
    "        time_linear = time_linear.unsqueeze(-1)\n",
    "\n",
    "        time_periodic = torch.sin(x * self.weights_periodic + self.bias_periodic)\n",
    "        time_periodic = time_periodic.unsqueeze(-1)\n",
    "\n",
    "        return torch.cat([time_linear, time_periodic], dim=-1)\n",
    "\n",
    "class TransAm(nn.Module):\n",
    "    def __init__(self, feature_size=128, num_layers=1, dropout=0.0):\n",
    "        super(TransAm, self).__init__()\n",
    "        self.model_type = 'Transformer'\n",
    "        \n",
    "        self.src_mask = None\n",
    "        # self.pos_encoder = PositionalEncoding(feature_size)\n",
    "        self.t2v = Time2Vector(128)\n",
    "        self.encoder_layer = nn.TransformerEncoderLayer(d_model=128, nhead=8, batch_first=True, dropout=dropout)\n",
    "        self.transformer_encoder = nn.TransformerEncoder(self.encoder_layer, num_layers=num_layers)     \n",
    "        self.decoder = nn.Linear(128,1)\n",
    "        self.init_weights()\n",
    "\n",
    "    def init_weights(self):\n",
    "        initrange = 0.1    \n",
    "        self.decoder.bias.data.zero_()\n",
    "        self.decoder.weight.data.uniform_(-initrange, initrange)\n",
    "\n",
    "    def forward(self,src):\n",
    "        \n",
    "        if self.src_mask is None or self.src_mask.size(0) != 7:\n",
    "            device = src.device\n",
    "            mask = self._generate_square_subsequent_mask(7).to(device)\n",
    "            self.src_mask = mask\n",
    "        # print(src.size())\n",
    "        # src = self.pos_encoder(src)\n",
    "        # time2vector = self.t2v(src)\n",
    "        # print(torch.count_nonzero(torch.isnan(time2vector)), time2vector)\n",
    "        # print(torch.count_nonzero(torch.isnan(src.swapaxes(1,2))),src.swapaxes(1,2))\n",
    "        # src = torch.concatenate((self.t2v(src), src.swapaxes(1,2)), axis=1)\n",
    "        t2v = self.t2v(src)\n",
    "        # print(t2v.size())\n",
    "        src = torch.concatenate((t2v, src), axis=2)\n",
    "        # print(torch.isnan(src).any())\n",
    "        # print(src.size())\n",
    "        # print(src.size())\n",
    "        # output = self.transformer_encoder(src.swapaxes(1,2),self.src_mask)#, self.src_mask)\n",
    "        output = self.transformer_encoder(src.swapaxes(1,2), self.src_mask)\n",
    "        # print(output.size())\n",
    "        output = self.decoder(output[:, -1, :])\n",
    "        return output\n",
    "\n",
    "    def _generate_square_subsequent_mask(self, sz):\n",
    "        mask = (torch.triu(torch.ones(sz, sz)) == 1).transpose(0, 1)\n",
    "        mask = mask.float().masked_fill(mask == 0, float('-inf')).masked_fill(mask == 1, float(0.0))\n",
    "        return mask"
   ]
  },
  {
   "cell_type": "code",
   "execution_count": 24,
   "metadata": {},
   "outputs": [],
   "source": [
    "# encoder_layer = nn.TransformerEncoderLayer(d_model=128, nhead=8, batch_first=True)\n",
    "# transformer_encoder = nn.TransformerEncoder(encoder_layer, num_layers=6)\n",
    "# src = torch.rand(32, 5, 128)\n",
    "# out = transformer_encoder(src)"
   ]
  },
  {
   "cell_type": "code",
   "execution_count": 25,
   "metadata": {},
   "outputs": [],
   "source": [
    "model = TransAm().to(device)\n",
    "\n",
    "criterion = nn.MSELoss()\n",
    "\n",
    "lr = 0.005 \n",
    "optimizer = torch.optim.AdamW(model.parameters(), lr=lr)\n",
    "scheduler = torch.optim.lr_scheduler.StepLR(optimizer, 1.0, gamma=0.98)\n",
    "\n"
   ]
  },
  {
   "cell_type": "code",
   "execution_count": 26,
   "metadata": {},
   "outputs": [],
   "source": [
    "# for i, batch in enumerate(train_loader):\n",
    "#     # data, targets = get_batch(train_data, i,batch_size)\n",
    "#     data, targets = batch['inputs'], batch['targets']\n",
    "#     print(targets)\n",
    "#     print(targets[-1:])"
   ]
  },
  {
   "cell_type": "code",
   "execution_count": 27,
   "metadata": {},
   "outputs": [],
   "source": [
    "prev_loss = np.Inf"
   ]
  },
  {
   "cell_type": "code",
   "execution_count": 28,
   "metadata": {},
   "outputs": [],
   "source": [
    "def train_model(train_data, prev_loss):\n",
    "    model.train() # Turn on the train mode\n",
    "    total_loss = 0.\n",
    "    start_time = time.time()\n",
    "    mean_absolute_error = MeanAbsoluteError()\n",
    "    mean_absolute_percentage_error = MeanAbsolutePercentageError()\n",
    "\n",
    "    total_mae = 0.\n",
    "    total_mape = 0.\n",
    "\n",
    "    for i, batch in enumerate(train_loader):\n",
    "        # data, targets = get_batch(train_data, i,batch_size)\n",
    "        data, targets = batch['inputs'].to(device), batch['targets'].to(device).unsqueeze(1)\n",
    "        optimizer.zero_grad()\n",
    "        # print(data.size())\n",
    "        output = model(data)  \n",
    "        # print(output)\n",
    "        # if calculate_loss_over_all_values:\n",
    "        #     loss = criterion(output)\n",
    "        # else:\n",
    "        loss = criterion(output, targets)\n",
    "    \n",
    "        loss.backward()\n",
    "        torch.nn.utils.clip_grad_norm_(model.parameters(), 0.5)\n",
    "        optimizer.step()\n",
    "\n",
    "        total_loss += loss.item()\n",
    "        log_interval = int(len(train_data) / batch_size / 5)\n",
    "\n",
    "        mae = mean_absolute_error(output, targets)\n",
    "        mape = mean_absolute_percentage_error(output, targets)\n",
    "        if i % log_interval == 0 and i > 0:\n",
    "            cur_loss = total_loss / log_interval\n",
    "            elapsed = time.time() - start_time\n",
    "            # print(f\"| epoch: {epoch} | batch: {i}/{len(train_data) // batch_size} | lr: {round(scheduler.get_lr()[0], 6)} | {round(elapsed * 1000 / log_interval, 2)} ms | loss: {round(cur_loss, 5)} | ppl: {round(math.exp(cur_loss), 2)} | MAE: {round(mae.item(), 4)} | MAPE: {round(mape.item(), 4)}\")\n",
    "            print('| epoch {:3d} | {:5d}/{:5d} batches | '\n",
    "                  'lr {:02.6f} | {:5.2f} ms | '\n",
    "                  'loss {:5.5f} | ppl {:8.2f} | '\n",
    "                  'MAE: {:5.5f} | MAPE: {:5.5}'.format(\n",
    "                    epoch, i, len(train_data) // batch_size, scheduler.get_lr()[0],\n",
    "                    elapsed * 1000 / log_interval,\n",
    "                    cur_loss, math.exp(cur_loss),\n",
    "                    mae.item(), mape.item()))\n",
    "            # print()\n",
    "\n",
    "            total_loss = 0\n",
    "            start_time = time.time()\n",
    "\n",
    "        total_mae += mae\n",
    "        total_mape += mape\n",
    "            \n",
    "        if loss < prev_loss:\n",
    "            \n",
    "            torch.save(model.state_dict(), 'tranformer_models/state_dict.pt')  # save model state (wights, etc.)\n",
    "            torch.save(model, 'tranformer_models/model_complete.pt')  # save complete model\n",
    "            prev_loss = loss\n",
    "\n",
    "    return prev_loss, total_mae / len(train_loader), total_mape / len(train_loader)\n"
   ]
  },
  {
   "cell_type": "code",
   "execution_count": 36,
   "metadata": {},
   "outputs": [
    {
     "data": {
      "text/plain": [
       "torch.Tensor"
      ]
     },
     "execution_count": 36,
     "metadata": {},
     "output_type": "execute_result"
    }
   ],
   "source": [
    "type(prev_loss)"
   ]
  },
  {
   "cell_type": "code",
   "execution_count": 29,
   "metadata": {},
   "outputs": [],
   "source": [
    "# x = torch.tensor([1, 2, np.nan])\n",
    "# torch.isnan(x).any()"
   ]
  },
  {
   "cell_type": "code",
   "execution_count": 30,
   "metadata": {},
   "outputs": [],
   "source": [
    "def plot_and_loss(eval_model, data_source,epoch):\n",
    "    eval_model.eval() \n",
    "    total_loss = 0.\n",
    "    test_result = torch.Tensor(0)    \n",
    "    truth = torch.Tensor(0)\n",
    "    with torch.no_grad():\n",
    "        for i, batch in enumerate(val_loader):\n",
    "            data, target = batch['inputs'].to(device), batch[\"targets\"].to(device).unsqueeze(1)\n",
    "            # look like the model returns static values for the output window\n",
    "            output = eval_model(data)    \n",
    "            if calculate_loss_over_all_values:                                \n",
    "                total_loss += criterion(output, target).item()\n",
    "            else:\n",
    "                total_loss += criterion(output[-1:], target[-1:]).item()\n",
    "            \n",
    "            test_result = torch.cat((test_result, output[-1].view(-1).cpu()), 0) #todo: check this. -> looks good to me\n",
    "            truth = torch.cat((truth, target[-1].view(-1).cpu()), 0)\n",
    "            \n",
    "    #test_result = test_result.cpu().numpy()\n",
    "    len(test_result)\n",
    "\n",
    "    plt.plot(test_result,color=\"red\")\n",
    "    plt.plot(truth[:500],color=\"blue\")\n",
    "    plt.plot(test_result-truth,color=\"green\")\n",
    "    plt.grid(True, which='both')\n",
    "    plt.axhline(y=0, color='k')\n",
    "    plt.savefig('graph/transformer-epoch%d.png'%epoch)\n",
    "    plt.close()\n",
    "    \n",
    "    return total_loss / i"
   ]
  },
  {
   "cell_type": "code",
   "execution_count": 31,
   "metadata": {},
   "outputs": [],
   "source": [
    "# for _, batch in enumerate(val_loader):\n",
    "#     # print(batch[\"targets\"])\n",
    "#     data, targets = batch['inputs'], batch[\"targets\"]\n",
    "#     print(data.size())"
   ]
  },
  {
   "cell_type": "code",
   "execution_count": 32,
   "metadata": {},
   "outputs": [],
   "source": [
    "# def predict_future(eval_model, data_source,steps):\n",
    "#     eval_model.eval() \n",
    "#     total_loss = 0.\n",
    "#     test_result = torch.Tensor(0)    \n",
    "#     truth = torch.Tensor(0)\n",
    "#     _ , data = get_batch(data_source, 0,1)\n",
    "#     with torch.no_grad():\n",
    "#         for i in range(0, steps,1):\n",
    "#             input = torch.clone(data[-input_window:])\n",
    "#             input[-output_window:] = 0     \n",
    "#             output = eval_model(data[-input_window:])                        \n",
    "#             data = torch.cat((data, output[-1:]))\n",
    "            \n",
    "#     data = data.cpu().view(-1)\n",
    "    \n",
    "#     plt.plot(data,color=\"red\")       \n",
    "#     plt.plot(data[:input_window],color=\"blue\")\n",
    "#     plt.grid(True, which='both')\n",
    "#     plt.axhline(y=0, color='k')\n",
    "#     plt.savefig('graph/transformer-future%d.png'%steps)\n",
    "#     plt.close()"
   ]
  },
  {
   "cell_type": "code",
   "execution_count": 33,
   "metadata": {},
   "outputs": [],
   "source": [
    "def evaluate(eval_model, data_source):\n",
    "    eval_model.eval() # Turn on the evaluation mode\n",
    "    total_loss = 0.\n",
    "    eval_batch_size = 1000\n",
    "\n",
    "    mean_absolute_error = MeanAbsoluteError()\n",
    "    mean_absolute_percentage_error = MeanAbsolutePercentageError()\n",
    "\n",
    "    total_mae = 0.\n",
    "    total_mape = 0.\n",
    "    \n",
    "    with torch.no_grad():\n",
    "        for _, batch in enumerate(val_loader):\n",
    "            # print(batch[\"targets\"])\n",
    "            data, targets = batch['inputs'].to(device), batch[\"targets\"].to(device).unsqueeze(1)\n",
    "            \n",
    "            # print(data.size())\n",
    "            output = eval_model(data)\n",
    "            total_mae += mean_absolute_error(output, targets)\n",
    "            total_mape += mean_absolute_percentage_error(output, targets)\n",
    "            # print(output)\n",
    "            if calculate_loss_over_all_values:\n",
    "                total_loss += len(data[0])* criterion(output, targets).cpu().item()\n",
    "            else:                                \n",
    "                total_loss += len(data[0])* criterion(output[-1:], targets[-1:]).cpu().item()            \n",
    "    return total_loss / len(val_loader), total_mae / len(val_loader), total_mape / len(val_loader)"
   ]
  },
  {
   "cell_type": "code",
   "execution_count": 34,
   "metadata": {},
   "outputs": [
    {
     "name": "stdout",
     "output_type": "stream",
     "text": [
      "| epoch   1 |    32/  162 batches | lr 0.005000 | 11.18 ms | loss 1.84240 | ppl     6.31 | MAE: 0.16208 | MAPE: 0.34504\n",
      "| epoch   1 |    64/  162 batches | lr 0.005000 |  9.11 ms | loss 0.01550 | ppl     1.02 | MAE: 0.11635 | MAPE: 0.30846\n",
      "| epoch   1 |    96/  162 batches | lr 0.005000 | 10.77 ms | loss 0.01190 | ppl     1.01 | MAE: 0.12040 | MAPE: 0.26183\n",
      "| epoch   1 |   128/  162 batches | lr 0.005000 |  8.79 ms | loss 0.01664 | ppl     1.02 | MAE: 0.21603 | MAPE: 0.4554\n",
      "| epoch   1 |   160/  162 batches | lr 0.005000 |  8.48 ms | loss 0.01482 | ppl     1.01 | MAE: 0.08665 | MAPE: 0.17414\n",
      "----------------------------------------------------------------------------------------------------------------------------------\n",
      "| end of epoch   1 | time:  1.60s | valid loss 1.32961 | valid ppl     3.78 | valid MAE 0.06634 | valid MAPE 0.17875\n",
      "----------------------------------------------------------------------------------------------------------------------------------\n",
      "| epoch   2 |    32/  162 batches | lr 0.004802 |  9.05 ms | loss 0.01636 | ppl     1.02 | MAE: 0.13975 | MAPE: 0.47333\n",
      "| epoch   2 |    64/  162 batches | lr 0.004802 |  8.59 ms | loss 0.02279 | ppl     1.02 | MAE: 0.07582 | MAPE: 0.16209\n",
      "| epoch   2 |    96/  162 batches | lr 0.004802 |  8.53 ms | loss 0.01059 | ppl     1.01 | MAE: 0.01891 | MAPE: 0.041081\n",
      "| epoch   2 |   128/  162 batches | lr 0.004802 |  8.86 ms | loss 0.00669 | ppl     1.01 | MAE: 0.06391 | MAPE: 0.13266\n",
      "| epoch   2 |   160/  162 batches | lr 0.004802 |  8.62 ms | loss 0.00658 | ppl     1.01 | MAE: 0.07737 | MAPE: 0.15506\n",
      "----------------------------------------------------------------------------------------------------------------------------------\n",
      "| end of epoch   2 | time:  1.45s | valid loss 1.85482 | valid ppl     6.39 | valid MAE 0.07498 | valid MAPE 0.17062\n",
      "----------------------------------------------------------------------------------------------------------------------------------\n",
      "| epoch   3 |    32/  162 batches | lr 0.004706 |  8.95 ms | loss 0.01197 | ppl     1.01 | MAE: 0.11634 | MAPE: 0.36713\n",
      "| epoch   3 |    64/  162 batches | lr 0.004706 |  8.57 ms | loss 0.01348 | ppl     1.01 | MAE: 0.06588 | MAPE: 0.15529\n",
      "| epoch   3 |    96/  162 batches | lr 0.004706 |  8.50 ms | loss 0.01083 | ppl     1.01 | MAE: 0.04338 | MAPE: 0.095861\n",
      "| epoch   3 |   128/  162 batches | lr 0.004706 |  8.63 ms | loss 0.00715 | ppl     1.01 | MAE: 0.02384 | MAPE: 0.051705\n",
      "| epoch   3 |   160/  162 batches | lr 0.004706 |  8.59 ms | loss 0.00473 | ppl     1.00 | MAE: 0.05316 | MAPE: 0.10671\n",
      "----------------------------------------------------------------------------------------------------------------------------------\n",
      "| end of epoch   3 | time:  1.44s | valid loss 1.42781 | valid ppl     4.17 | valid MAE 0.05952 | valid MAPE 0.14676\n",
      "----------------------------------------------------------------------------------------------------------------------------------\n",
      "| epoch   4 |    32/  162 batches | lr 0.004612 |  9.20 ms | loss 0.01047 | ppl     1.01 | MAE: 0.11703 | MAPE: 0.36135\n",
      "| epoch   4 |    64/  162 batches | lr 0.004612 |  8.44 ms | loss 0.01301 | ppl     1.01 | MAE: 0.06704 | MAPE: 0.16181\n",
      "| epoch   4 |    96/  162 batches | lr 0.004612 |  8.51 ms | loss 0.00939 | ppl     1.01 | MAE: 0.02704 | MAPE: 0.056689\n",
      "| epoch   4 |   128/  162 batches | lr 0.004612 |  8.63 ms | loss 0.00585 | ppl     1.01 | MAE: 0.02933 | MAPE: 0.061767\n",
      "| epoch   4 |   160/  162 batches | lr 0.004612 |  8.56 ms | loss 0.00453 | ppl     1.00 | MAE: 0.04774 | MAPE: 0.096237\n",
      "----------------------------------------------------------------------------------------------------------------------------------\n",
      "| end of epoch   4 | time:  1.44s | valid loss 1.45644 | valid ppl     4.29 | valid MAE 0.06047 | valid MAPE 0.14788\n",
      "----------------------------------------------------------------------------------------------------------------------------------\n",
      "| epoch   5 |    32/  162 batches | lr 0.004520 |  8.96 ms | loss 0.01045 | ppl     1.01 | MAE: 0.11973 | MAPE: 0.35472\n",
      "| epoch   5 |    64/  162 batches | lr 0.004520 |  8.50 ms | loss 0.01319 | ppl     1.01 | MAE: 0.06960 | MAPE: 0.17507\n",
      "| epoch   5 |    96/  162 batches | lr 0.004520 | 10.34 ms | loss 0.00918 | ppl     1.01 | MAE: 0.02112 | MAPE: 0.044743\n",
      "| epoch   5 |   128/  162 batches | lr 0.004520 |  8.42 ms | loss 0.00561 | ppl     1.01 | MAE: 0.02812 | MAPE: 0.059436\n",
      "| epoch   5 |   160/  162 batches | lr 0.004520 |  8.85 ms | loss 0.00419 | ppl     1.00 | MAE: 0.05273 | MAPE: 0.10587\n",
      "----------------------------------------------------------------------------------------------------------------------------------\n",
      "| end of epoch   5 | time:  1.50s | valid loss 1.51526 | valid ppl     4.55 | valid MAE 0.06257 | valid MAPE 0.15076\n",
      "----------------------------------------------------------------------------------------------------------------------------------\n",
      "| epoch   6 |    32/  162 batches | lr 0.004429 |  8.86 ms | loss 0.01047 | ppl     1.01 | MAE: 0.12403 | MAPE: 0.34685\n",
      "| epoch   6 |    64/  162 batches | lr 0.004429 |  8.55 ms | loss 0.01377 | ppl     1.01 | MAE: 0.07379 | MAPE: 0.1589\n",
      "| epoch   6 |    96/  162 batches | lr 0.004429 |  8.45 ms | loss 0.00878 | ppl     1.01 | MAE: 0.02297 | MAPE: 0.051126\n",
      "| epoch   6 |   128/  162 batches | lr 0.004429 |  8.95 ms | loss 0.00561 | ppl     1.01 | MAE: 0.02868 | MAPE: 0.060498\n",
      "| epoch   6 |   160/  162 batches | lr 0.004429 |  9.33 ms | loss 0.00419 | ppl     1.00 | MAE: 0.05172 | MAPE: 0.10393\n",
      "----------------------------------------------------------------------------------------------------------------------------------\n",
      "| end of epoch   6 | time:  1.47s | valid loss 1.59263 | valid ppl     4.92 | valid MAE 0.06554 | valid MAPE 0.15527\n",
      "----------------------------------------------------------------------------------------------------------------------------------\n",
      "| epoch   7 |    32/  162 batches | lr 0.004341 |  9.52 ms | loss 0.01032 | ppl     1.01 | MAE: 0.12346 | MAPE: 0.34788\n",
      "| epoch   7 |    64/  162 batches | lr 0.004341 |  9.11 ms | loss 0.01277 | ppl     1.01 | MAE: 0.07261 | MAPE: 0.18647\n"
     ]
    },
    {
     "ename": "KeyboardInterrupt",
     "evalue": "",
     "output_type": "error",
     "traceback": [
      "\u001b[0;31m---------------------------------------------------------------------------\u001b[0m",
      "\u001b[0;31mKeyboardInterrupt\u001b[0m                         Traceback (most recent call last)",
      "\u001b[1;32m/Users/filipebarnabe/Documents/mecd_masters/TAAC/project/deeplearning_tradingBot/tranformer copy.ipynb Cell 40\u001b[0m in \u001b[0;36m<cell line: 21>\u001b[0;34m()\u001b[0m\n\u001b[1;32m     <a href='vscode-notebook-cell:/Users/filipebarnabe/Documents/mecd_masters/TAAC/project/deeplearning_tradingBot/tranformer%20copy.ipynb#X54sZmlsZQ%3D%3D?line=20'>21</a>\u001b[0m \u001b[39mfor\u001b[39;00m epoch \u001b[39min\u001b[39;00m \u001b[39mrange\u001b[39m(\u001b[39m1\u001b[39m, epochs \u001b[39m+\u001b[39m \u001b[39m1\u001b[39m):\n\u001b[1;32m     <a href='vscode-notebook-cell:/Users/filipebarnabe/Documents/mecd_masters/TAAC/project/deeplearning_tradingBot/tranformer%20copy.ipynb#X54sZmlsZQ%3D%3D?line=21'>22</a>\u001b[0m     epoch_start_time \u001b[39m=\u001b[39m time\u001b[39m.\u001b[39mtime()\n\u001b[0;32m---> <a href='vscode-notebook-cell:/Users/filipebarnabe/Documents/mecd_masters/TAAC/project/deeplearning_tradingBot/tranformer%20copy.ipynb#X54sZmlsZQ%3D%3D?line=22'>23</a>\u001b[0m     prev_loss, mae_train, mape_train \u001b[39m=\u001b[39m train_model(train_data, prev_loss)\n\u001b[1;32m     <a href='vscode-notebook-cell:/Users/filipebarnabe/Documents/mecd_masters/TAAC/project/deeplearning_tradingBot/tranformer%20copy.ipynb#X54sZmlsZQ%3D%3D?line=24'>25</a>\u001b[0m     train_mae\u001b[39m.\u001b[39mappend(mae_train\u001b[39m.\u001b[39mcpu()\u001b[39m.\u001b[39mdetach()\u001b[39m.\u001b[39mnumpy())\n\u001b[1;32m     <a href='vscode-notebook-cell:/Users/filipebarnabe/Documents/mecd_masters/TAAC/project/deeplearning_tradingBot/tranformer%20copy.ipynb#X54sZmlsZQ%3D%3D?line=25'>26</a>\u001b[0m     train_mape\u001b[39m.\u001b[39mappend(mape_train\u001b[39m.\u001b[39mcpu()\u001b[39m.\u001b[39mdetach()\u001b[39m.\u001b[39mnumpy())\n",
      "\u001b[1;32m/Users/filipebarnabe/Documents/mecd_masters/TAAC/project/deeplearning_tradingBot/tranformer copy.ipynb Cell 40\u001b[0m in \u001b[0;36mtrain_model\u001b[0;34m(train_data, prev_loss)\u001b[0m\n\u001b[1;32m     <a href='vscode-notebook-cell:/Users/filipebarnabe/Documents/mecd_masters/TAAC/project/deeplearning_tradingBot/tranformer%20copy.ipynb#X54sZmlsZQ%3D%3D?line=22'>23</a>\u001b[0m loss\u001b[39m.\u001b[39mbackward()\n\u001b[1;32m     <a href='vscode-notebook-cell:/Users/filipebarnabe/Documents/mecd_masters/TAAC/project/deeplearning_tradingBot/tranformer%20copy.ipynb#X54sZmlsZQ%3D%3D?line=23'>24</a>\u001b[0m torch\u001b[39m.\u001b[39mnn\u001b[39m.\u001b[39mutils\u001b[39m.\u001b[39mclip_grad_norm_(model\u001b[39m.\u001b[39mparameters(), \u001b[39m0.5\u001b[39m)\n\u001b[0;32m---> <a href='vscode-notebook-cell:/Users/filipebarnabe/Documents/mecd_masters/TAAC/project/deeplearning_tradingBot/tranformer%20copy.ipynb#X54sZmlsZQ%3D%3D?line=24'>25</a>\u001b[0m optimizer\u001b[39m.\u001b[39;49mstep()\n\u001b[1;32m     <a href='vscode-notebook-cell:/Users/filipebarnabe/Documents/mecd_masters/TAAC/project/deeplearning_tradingBot/tranformer%20copy.ipynb#X54sZmlsZQ%3D%3D?line=26'>27</a>\u001b[0m total_loss \u001b[39m+\u001b[39m\u001b[39m=\u001b[39m loss\u001b[39m.\u001b[39mitem()\n\u001b[1;32m     <a href='vscode-notebook-cell:/Users/filipebarnabe/Documents/mecd_masters/TAAC/project/deeplearning_tradingBot/tranformer%20copy.ipynb#X54sZmlsZQ%3D%3D?line=27'>28</a>\u001b[0m log_interval \u001b[39m=\u001b[39m \u001b[39mint\u001b[39m(\u001b[39mlen\u001b[39m(train_data) \u001b[39m/\u001b[39m batch_size \u001b[39m/\u001b[39m \u001b[39m5\u001b[39m)\n",
      "File \u001b[0;32m/opt/miniconda3/envs/TAAC_project/lib/python3.10/site-packages/torch/optim/lr_scheduler.py:68\u001b[0m, in \u001b[0;36m_LRScheduler.__init__.<locals>.with_counter.<locals>.wrapper\u001b[0;34m(*args, **kwargs)\u001b[0m\n\u001b[1;32m     66\u001b[0m instance\u001b[39m.\u001b[39m_step_count \u001b[39m+\u001b[39m\u001b[39m=\u001b[39m \u001b[39m1\u001b[39m\n\u001b[1;32m     67\u001b[0m wrapped \u001b[39m=\u001b[39m func\u001b[39m.\u001b[39m\u001b[39m__get__\u001b[39m(instance, \u001b[39mcls\u001b[39m)\n\u001b[0;32m---> 68\u001b[0m \u001b[39mreturn\u001b[39;00m wrapped(\u001b[39m*\u001b[39;49margs, \u001b[39m*\u001b[39;49m\u001b[39m*\u001b[39;49mkwargs)\n",
      "File \u001b[0;32m/opt/miniconda3/envs/TAAC_project/lib/python3.10/site-packages/torch/optim/optimizer.py:140\u001b[0m, in \u001b[0;36mOptimizer._hook_for_profile.<locals>.profile_hook_step.<locals>.wrapper\u001b[0;34m(*args, **kwargs)\u001b[0m\n\u001b[1;32m    138\u001b[0m profile_name \u001b[39m=\u001b[39m \u001b[39m\"\u001b[39m\u001b[39mOptimizer.step#\u001b[39m\u001b[39m{}\u001b[39;00m\u001b[39m.step\u001b[39m\u001b[39m\"\u001b[39m\u001b[39m.\u001b[39mformat(obj\u001b[39m.\u001b[39m\u001b[39m__class__\u001b[39m\u001b[39m.\u001b[39m\u001b[39m__name__\u001b[39m)\n\u001b[1;32m    139\u001b[0m \u001b[39mwith\u001b[39;00m torch\u001b[39m.\u001b[39mautograd\u001b[39m.\u001b[39mprofiler\u001b[39m.\u001b[39mrecord_function(profile_name):\n\u001b[0;32m--> 140\u001b[0m     out \u001b[39m=\u001b[39m func(\u001b[39m*\u001b[39;49margs, \u001b[39m*\u001b[39;49m\u001b[39m*\u001b[39;49mkwargs)\n\u001b[1;32m    141\u001b[0m     obj\u001b[39m.\u001b[39m_optimizer_step_code()\n\u001b[1;32m    142\u001b[0m     \u001b[39mreturn\u001b[39;00m out\n",
      "File \u001b[0;32m/opt/miniconda3/envs/TAAC_project/lib/python3.10/site-packages/torch/autograd/grad_mode.py:27\u001b[0m, in \u001b[0;36m_DecoratorContextManager.__call__.<locals>.decorate_context\u001b[0;34m(*args, **kwargs)\u001b[0m\n\u001b[1;32m     24\u001b[0m \u001b[39m@functools\u001b[39m\u001b[39m.\u001b[39mwraps(func)\n\u001b[1;32m     25\u001b[0m \u001b[39mdef\u001b[39;00m \u001b[39mdecorate_context\u001b[39m(\u001b[39m*\u001b[39margs, \u001b[39m*\u001b[39m\u001b[39m*\u001b[39mkwargs):\n\u001b[1;32m     26\u001b[0m     \u001b[39mwith\u001b[39;00m \u001b[39mself\u001b[39m\u001b[39m.\u001b[39mclone():\n\u001b[0;32m---> 27\u001b[0m         \u001b[39mreturn\u001b[39;00m func(\u001b[39m*\u001b[39;49margs, \u001b[39m*\u001b[39;49m\u001b[39m*\u001b[39;49mkwargs)\n",
      "File \u001b[0;32m/opt/miniconda3/envs/TAAC_project/lib/python3.10/site-packages/torch/optim/adamw.py:162\u001b[0m, in \u001b[0;36mAdamW.step\u001b[0;34m(self, closure)\u001b[0m\n\u001b[1;32m    158\u001b[0m             max_exp_avg_sqs\u001b[39m.\u001b[39mappend(state[\u001b[39m'\u001b[39m\u001b[39mmax_exp_avg_sq\u001b[39m\u001b[39m'\u001b[39m])\n\u001b[1;32m    160\u001b[0m         state_steps\u001b[39m.\u001b[39mappend(state[\u001b[39m'\u001b[39m\u001b[39mstep\u001b[39m\u001b[39m'\u001b[39m])\n\u001b[0;32m--> 162\u001b[0m     adamw(params_with_grad,\n\u001b[1;32m    163\u001b[0m           grads,\n\u001b[1;32m    164\u001b[0m           exp_avgs,\n\u001b[1;32m    165\u001b[0m           exp_avg_sqs,\n\u001b[1;32m    166\u001b[0m           max_exp_avg_sqs,\n\u001b[1;32m    167\u001b[0m           state_steps,\n\u001b[1;32m    168\u001b[0m           amsgrad\u001b[39m=\u001b[39;49mamsgrad,\n\u001b[1;32m    169\u001b[0m           beta1\u001b[39m=\u001b[39;49mbeta1,\n\u001b[1;32m    170\u001b[0m           beta2\u001b[39m=\u001b[39;49mbeta2,\n\u001b[1;32m    171\u001b[0m           lr\u001b[39m=\u001b[39;49mgroup[\u001b[39m'\u001b[39;49m\u001b[39mlr\u001b[39;49m\u001b[39m'\u001b[39;49m],\n\u001b[1;32m    172\u001b[0m           weight_decay\u001b[39m=\u001b[39;49mgroup[\u001b[39m'\u001b[39;49m\u001b[39mweight_decay\u001b[39;49m\u001b[39m'\u001b[39;49m],\n\u001b[1;32m    173\u001b[0m           eps\u001b[39m=\u001b[39;49mgroup[\u001b[39m'\u001b[39;49m\u001b[39meps\u001b[39;49m\u001b[39m'\u001b[39;49m],\n\u001b[1;32m    174\u001b[0m           maximize\u001b[39m=\u001b[39;49mgroup[\u001b[39m'\u001b[39;49m\u001b[39mmaximize\u001b[39;49m\u001b[39m'\u001b[39;49m],\n\u001b[1;32m    175\u001b[0m           foreach\u001b[39m=\u001b[39;49mgroup[\u001b[39m'\u001b[39;49m\u001b[39mforeach\u001b[39;49m\u001b[39m'\u001b[39;49m],\n\u001b[1;32m    176\u001b[0m           capturable\u001b[39m=\u001b[39;49mgroup[\u001b[39m'\u001b[39;49m\u001b[39mcapturable\u001b[39;49m\u001b[39m'\u001b[39;49m])\n\u001b[1;32m    178\u001b[0m \u001b[39mreturn\u001b[39;00m loss\n",
      "File \u001b[0;32m/opt/miniconda3/envs/TAAC_project/lib/python3.10/site-packages/torch/optim/adamw.py:219\u001b[0m, in \u001b[0;36madamw\u001b[0;34m(params, grads, exp_avgs, exp_avg_sqs, max_exp_avg_sqs, state_steps, foreach, capturable, amsgrad, beta1, beta2, lr, weight_decay, eps, maximize)\u001b[0m\n\u001b[1;32m    216\u001b[0m \u001b[39melse\u001b[39;00m:\n\u001b[1;32m    217\u001b[0m     func \u001b[39m=\u001b[39m _single_tensor_adamw\n\u001b[0;32m--> 219\u001b[0m func(params,\n\u001b[1;32m    220\u001b[0m      grads,\n\u001b[1;32m    221\u001b[0m      exp_avgs,\n\u001b[1;32m    222\u001b[0m      exp_avg_sqs,\n\u001b[1;32m    223\u001b[0m      max_exp_avg_sqs,\n\u001b[1;32m    224\u001b[0m      state_steps,\n\u001b[1;32m    225\u001b[0m      amsgrad\u001b[39m=\u001b[39;49mamsgrad,\n\u001b[1;32m    226\u001b[0m      beta1\u001b[39m=\u001b[39;49mbeta1,\n\u001b[1;32m    227\u001b[0m      beta2\u001b[39m=\u001b[39;49mbeta2,\n\u001b[1;32m    228\u001b[0m      lr\u001b[39m=\u001b[39;49mlr,\n\u001b[1;32m    229\u001b[0m      weight_decay\u001b[39m=\u001b[39;49mweight_decay,\n\u001b[1;32m    230\u001b[0m      eps\u001b[39m=\u001b[39;49meps,\n\u001b[1;32m    231\u001b[0m      maximize\u001b[39m=\u001b[39;49mmaximize,\n\u001b[1;32m    232\u001b[0m      capturable\u001b[39m=\u001b[39;49mcapturable)\n",
      "File \u001b[0;32m/opt/miniconda3/envs/TAAC_project/lib/python3.10/site-packages/torch/optim/adamw.py:316\u001b[0m, in \u001b[0;36m_single_tensor_adamw\u001b[0;34m(params, grads, exp_avgs, exp_avg_sqs, max_exp_avg_sqs, state_steps, amsgrad, beta1, beta2, lr, weight_decay, eps, maximize, capturable)\u001b[0m\n\u001b[1;32m    314\u001b[0m     denom \u001b[39m=\u001b[39m (max_exp_avg_sqs[i]\u001b[39m.\u001b[39msqrt() \u001b[39m/\u001b[39m bias_correction2_sqrt)\u001b[39m.\u001b[39madd_(eps)\n\u001b[1;32m    315\u001b[0m \u001b[39melse\u001b[39;00m:\n\u001b[0;32m--> 316\u001b[0m     denom \u001b[39m=\u001b[39m (exp_avg_sq\u001b[39m.\u001b[39;49msqrt() \u001b[39m/\u001b[39;49m bias_correction2_sqrt)\u001b[39m.\u001b[39;49madd_(eps)\n\u001b[1;32m    318\u001b[0m param\u001b[39m.\u001b[39maddcdiv_(exp_avg, denom, value\u001b[39m=\u001b[39m\u001b[39m-\u001b[39mstep_size)\n",
      "\u001b[0;31mKeyboardInterrupt\u001b[0m: "
     ]
    }
   ],
   "source": [
    "# train_data, val_data = get_data()\n",
    "\n",
    "\n",
    "# criterion = nn.MSELoss()\n",
    "# lr = 0.005 \n",
    "# #optimizer = torch.optim.SGD(model.parameters(), lr=lr)\n",
    "# optimizer = torch.optim.AdamW(model.parameters(), lr=lr)\n",
    "# scheduler = torch.optim.lr_scheduler.StepLR(optimizer, 1.0, gamma=0.98)\n",
    "\n",
    "best_val_loss = float(\"inf\")\n",
    "epochs = 100 # The number of epochs\n",
    "best_model = None\n",
    "prev_loss = np.Inf\n",
    "\n",
    "train_mae = []\n",
    "train_mape = []\n",
    "\n",
    "val_mae = []\n",
    "val_mape = []\n",
    "\n",
    "for epoch in range(1, epochs + 1):\n",
    "    epoch_start_time = time.time()\n",
    "    prev_loss, mae_train, mape_train = train_model(train_data, prev_loss)\n",
    "    \n",
    "    train_mae.append(mae_train.cpu().detach().numpy())\n",
    "    train_mape.append(mape_train.cpu().detach().numpy())\n",
    "    \n",
    "    # if(epoch % 10 == 0):\n",
    "        #val_loss = plot_and_loss(model, val_data,epoch)\n",
    "\n",
    "        # predict_future(model, val_data,200)\n",
    "        \n",
    "    # else:\n",
    "    val_loss, mae_val, mape_val = evaluate(model, val_data)\n",
    "\n",
    "    val_mae.append(mae_val.cpu().detach().numpy())\n",
    "    val_mape.append(mape_val.cpu().detach().numpy())\n",
    "        \n",
    "    print('-' * 130)\n",
    "    print('| end of epoch {:3d} | time: {:5.2f}s | valid loss {:5.5f} | valid ppl {:8.2f} | valid MAE {:5.5f} | valid MAPE {:5.5f}'.format(epoch, (time.time() - epoch_start_time),\n",
    "                                     val_loss, math.exp(val_loss), mae_val, mape_val))\n",
    "    print('-' * 130)\n",
    "\n",
    "    # if val_loss < best_val_loss:\n",
    "    #    best_val_loss = val_loss\n",
    "    #    best_model = model\n",
    "\n",
    "    scheduler.step() "
   ]
  },
  {
   "cell_type": "code",
   "execution_count": null,
   "metadata": {},
   "outputs": [],
   "source": [
    "model.load_state_dict(torch.load('tranformer_models/state_dict.pt'))"
   ]
  },
  {
   "cell_type": "code",
   "execution_count": null,
   "metadata": {},
   "outputs": [],
   "source": [
    "plt.plot(train_mae, label=\"MAE train\")\n",
    "plt.plot(val_mae, label=\"MAE validation\")\n",
    "plt.legend()\n",
    "plt.grid()"
   ]
  },
  {
   "cell_type": "code",
   "execution_count": null,
   "metadata": {},
   "outputs": [],
   "source": [
    "plt.plot(train_mape, label=\"MAPE train\")\n",
    "plt.plot(val_mape, label=\"MAPE validation\")\n",
    "plt.legend()\n",
    "plt.grid()"
   ]
  },
  {
   "cell_type": "code",
   "execution_count": null,
   "metadata": {},
   "outputs": [],
   "source": [
    "model"
   ]
  },
  {
   "cell_type": "code",
   "execution_count": null,
   "metadata": {},
   "outputs": [],
   "source": [
    "test_losses = []\n",
    "test_preds = []\n",
    "num_correct = 0\n",
    "test_real = []\n",
    "model.eval()\n",
    "for (combo_data_3) in test_loader:\n",
    "    inputs, labels = combo_data_3['inputs'], combo_data_3['targets'].unsqueeze(1)\n",
    "    inputs, labels = inputs.to(device), labels.to(device)\n",
    "    # output, h = model(inputs, h)\n",
    "    output = model(inputs)\n",
    "    # print(output)\n",
    "    test_preds.append(output.cpu().detach().numpy())\n",
    "    test_real.append(labels.cpu().detach().numpy())\n",
    "    test_loss = criterion(output.squeeze(), labels.float())\n",
    "    test_losses.append(test_loss.item())\n",
    "    pred = torch.round(output.squeeze()) #rounds the output to 0/1\n",
    "    correct_tensor = pred.eq(labels.float().view_as(pred))\n",
    "    correct = np.squeeze(correct_tensor.cpu().numpy())\n",
    "    num_correct += np.sum(correct)\n",
    "        \n",
    "print(\"Test loss: {:.3f}\".format(np.mean(test_losses)))"
   ]
  },
  {
   "cell_type": "code",
   "execution_count": null,
   "metadata": {},
   "outputs": [],
   "source": [
    "plt.plot(np.concatenate(test_preds, axis=0), label='prediction')\n",
    "plt.plot(test_loader.dataset[:][\"targets\"], label= 'real', alpha =0.5)\n",
    "plt.legend()\n",
    "plt.show()"
   ]
  },
  {
   "cell_type": "code",
   "execution_count": null,
   "metadata": {},
   "outputs": [],
   "source": [
    "model.eval()\n",
    "preds = []\n",
    "with torch.no_grad():\n",
    "    for batch in test_loader:\n",
    "        data, targets = batch[\"inputs\"], batch[\"targets\"]\n",
    "\n",
    "        preds = model(data)\n",
    "        print(preds)\n",
    "#   y_val = model(inputCatColumns, inputNumColumns)\n",
    "#   preds.append(y_val > 0.) # if y_val are logits\n",
    "#   loss = loss_function(y_val, test_outputs)\n",
    "#   print(f'Loss: {loss:.8f}')\n",
    "# preds = torch.stack(preds)"
   ]
  },
  {
   "cell_type": "code",
   "execution_count": 40,
   "metadata": {},
   "outputs": [
    {
     "data": {
      "text/plain": [
       "__main__.TransAm"
      ]
     },
     "execution_count": 40,
     "metadata": {},
     "output_type": "execute_result"
    }
   ],
   "source": [
    "type(model)"
   ]
  },
  {
   "cell_type": "code",
   "execution_count": null,
   "metadata": {},
   "outputs": [],
   "source": [
    "# class TimeSeriesDataset(object):\n",
    "#     def __init__(self, data, categorical_cols, target_col, seq_length, prediction_window=1):\n",
    "#         '''\n",
    "#         :param data: dataset of type pandas.DataFrame\n",
    "#         :param categorical_cols: name of the categorical columns, if None pass empty list\n",
    "#         :param target_col: name of the targeted column\n",
    "#         :param seq_length: window length to use\n",
    "#         :param prediction_window: window length to predict\n",
    "#         '''\n",
    "#         self.data = data\n",
    "#         self.categorical_cols = categorical_cols\n",
    "#         self.numerical_cols = list(set(data.columns) - set(categorical_cols) - set(target_col))\n",
    "#         self.target_col = target_col\n",
    "#         self.seq_length = seq_length\n",
    "#         self.prediction_window = prediction_window\n",
    "#         self.preprocessor = None\n",
    "\n",
    "#     def preprocess_data(self):\n",
    "#         '''Preprocessing function'''\n",
    "#         X = self.data.drop(self.target_col, axis=1)\n",
    "#         y = self.data[self.target_col]\n",
    "\n",
    "#         self.preprocess = ColumnTransformer(\n",
    "#             [(\"scaler\", StandardScaler(), self.numerical_cols),\n",
    "#              (\"encoder\", OneHotEncoder(), self.categorical_cols)],\n",
    "#             remainder=\"passthrough\"\n",
    "#         )\n",
    "\n",
    "#         X_train, X_test, y_train, y_test = train_test_split(X, y, train_size=0.8, shuffle=False)\n",
    "#         X_train = self.preprocessor.fit_transform(X_train)\n",
    "#         X_test = self.preprocessor.transform(X_test)\n",
    "\n",
    "#         if self.target_col:\n",
    "#             return X_train, X_test, y_train.values, y_test.values\n",
    "#         return X_train, X_test\n",
    "\n",
    "#     def frame_series(self, X, y=None):\n",
    "#         '''\n",
    "#         Function used to prepare the data for time series prediction\n",
    "#         :param X: set of features\n",
    "#         :param y: targeted value to predict\n",
    "#         :return: TensorDataset\n",
    "#         '''\n",
    "#         nb_obs, nb_features = X.shape\n",
    "#         features, target, y_hist = [], [], []\n",
    "\n",
    "#         for i in range(1, nb_obs - self.seq_length - self.prediction_window):\n",
    "#             features.append(torch.FloatTensor(X[i:i + self.seq_length, :]).unsqueeze(0))\n",
    "\n",
    "#         features_var = torch.cat(features)\n",
    "\n",
    "#         if y is not None:\n",
    "#             for i in range(1, nb_obs - self.seq_length - self.prediction_window):\n",
    "#                 target.append(\n",
    "#                     torch.tensor(y[i + self.seq_length:i + self.seq_length + self.prediction_window]))\n",
    "#                 y_hist.append(\n",
    "#                     torch.tensor(y[i + self.seq_length - 1:i + self.seq_length + self.prediction_window - 1]))\n",
    "#             target_var, y_hist_var = torch.cat(target), torch.cat(y_hist)\n",
    "#             return TensorDataset(features_var, target_var, y_hist_var)\n",
    "#         return TensorDataset(features_var)\n",
    "\n",
    "#     def get_loaders(self, batch_size: int):\n",
    "#         '''\n",
    "#         Preprocess and frame the dataset\n",
    "#         :param batch_size: batch size\n",
    "#         :return: DataLoaders associated to training and testing data\n",
    "#         '''\n",
    "#         X_train, X_test, y_train, y_test = self.preprocess_data()\n",
    "\n",
    "#         train_dataset = self.frame_series(X_train, y_train)\n",
    "#         test_dataset = self.frame_series(X_test, y_test)\n",
    "\n",
    "#         train_iter = DataLoader(train_dataset, batch_size=batch_size, shuffle=False, drop_last=True)\n",
    "#         test_iter = DataLoader(test_dataset, batch_size=batch_size, shuffle=False, drop_last=True)\n",
    "#         return train_iter, test_iter"
   ]
  },
  {
   "cell_type": "code",
   "execution_count": null,
   "metadata": {},
   "outputs": [],
   "source": [
    "device"
   ]
  },
  {
   "cell_type": "code",
   "execution_count": null,
   "metadata": {},
   "outputs": [],
   "source": []
  },
  {
   "cell_type": "code",
   "execution_count": null,
   "metadata": {},
   "outputs": [],
   "source": [
    "\n",
    "# model.eval() # Turn on the evaluation mode\n",
    "# # total_loss = 0.\n",
    "# # eval_batch_size = 1000\n",
    "# preds = []\n",
    "# # with torch.no_grad():\n",
    "# preds_batch = []\n",
    "# for _, batch in enumerate(test_loader):\n",
    "#     # print(batch[\"targets\"])\n",
    "#     data, targets = batch['inputs'].to(device), batch[\"targets\"].to(device).unsqueeze(1)\n",
    "#     print(data, targets)\n",
    "#     # print(data.size())\n",
    "#     output = model(data)\n",
    "#     # preds_batch.append(output)\n",
    "#     print(output)\n",
    "#     break\n",
    "#     # loss = criterion(output, targets).cpu().item()\n",
    "#     # print(f'Loss: {loss:.8f}')\n",
    "#     # # if calculate_loss_over_all_values:\n",
    "#     # #     total_loss += len(data[0])* criterion(output, targets).cpu().item()\n",
    "#     # # else:                                \n",
    "#     # #     total_loss += len(data[0])* criterion(output[-1:], targets[-1:]).cpu().item() \n",
    "               \n",
    "# # return total_loss / len(data_source)\n"
   ]
  },
  {
   "cell_type": "code",
   "execution_count": null,
   "metadata": {},
   "outputs": [],
   "source": [
    "# (np.concatenate(preds, axis=0)).shape"
   ]
  },
  {
   "cell_type": "code",
   "execution_count": null,
   "metadata": {},
   "outputs": [],
   "source": [
    "# plt.plot()"
   ]
  },
  {
   "cell_type": "code",
   "execution_count": null,
   "metadata": {},
   "outputs": [],
   "source": [
    "# model.eval()\n",
    "# preds = []\n",
    "# with torch.no_grad():\n",
    "#   y_val = model(inputCatColumns, inputNumColumns)\n",
    "#   preds.append(y_val > 0.) # if y_val are logits\n",
    "#   loss = loss_function(y_val, test_outputs)\n",
    "#   print(f'Loss: {loss:.8f}')\n",
    "# preds = torch.stack(preds)"
   ]
  },
  {
   "cell_type": "code",
   "execution_count": 37,
   "metadata": {},
   "outputs": [
    {
     "data": {
      "text/plain": [
       "tensor(0.0005, grad_fn=<MseLossBackward0>)"
      ]
     },
     "execution_count": 37,
     "metadata": {},
     "output_type": "execute_result"
    }
   ],
   "source": [
    "prev_loss"
   ]
  },
  {
   "cell_type": "code",
   "execution_count": 39,
   "metadata": {},
   "outputs": [
    {
     "data": {
      "text/plain": [
       "torch.Tensor"
      ]
     },
     "execution_count": 39,
     "metadata": {},
     "output_type": "execute_result"
    }
   ],
   "source": [
    "type(mae_train)"
   ]
  },
  {
   "cell_type": "code",
   "execution_count": null,
   "metadata": {},
   "outputs": [],
   "source": []
  }
 ],
 "metadata": {
  "kernelspec": {
   "display_name": "Python 3.10.6 ('TAAC_project')",
   "language": "python",
   "name": "python3"
  },
  "language_info": {
   "codemirror_mode": {
    "name": "ipython",
    "version": 3
   },
   "file_extension": ".py",
   "mimetype": "text/x-python",
   "name": "python",
   "nbconvert_exporter": "python",
   "pygments_lexer": "ipython3",
   "version": "3.10.6"
  },
  "orig_nbformat": 4,
  "vscode": {
   "interpreter": {
    "hash": "f4f251cf0b22a23ca88a79bdc1e3e56992e90498b36dfcdde46ef40d449004d8"
   }
  }
 },
 "nbformat": 4,
 "nbformat_minor": 2
}
